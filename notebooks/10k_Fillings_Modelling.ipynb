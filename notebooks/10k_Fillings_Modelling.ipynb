{
 "cells": [
  {
   "cell_type": "markdown",
   "id": "martial-recycling",
   "metadata": {},
   "source": [
    "<h1><center>Sentiment Analysis of 10K Documents 🏦 </center></h1>sec_fillings_df.date.dt.year"
   ]
  },
  {
   "cell_type": "markdown",
   "id": "chinese-reform",
   "metadata": {},
   "source": [
    "# Table of Contents\n",
    "\n",
    "* [Introduction](#Intro)\n",
    "* [Libraries](#Lib)\n",
    "* [Web Scrapping 10-K fillings](#data)"
   ]
  },
  {
   "cell_type": "markdown",
   "id": "incident-compact",
   "metadata": {},
   "source": [
    "# Introduction <a class=\"anchor\" id=\"Intro\"></a>\n",
    "The last few decades the amount of data released by companies in their annual reports has increased in volume. Till a couple of years back to analyze this data was getting ardious and soon information extraction techiniques were used to leverage the numerical data in these documents.\n",
    "The textual data , however was not being leveraged enough and was only analyzed manually by financial analysts.Due to the growing volume of this textual data the effort needed to manually analyse this was proving to be inefficient.It was also believed that it did not help in futher evaluating and estimating the company's performance any better.\n",
    "\n",
    "This belief changed after the futher research in this domain and one such white paper called 'Lazy prices' proved that analyzing the text in the 10-K fillings of companies revealed future earnings patterns of the companies , if not having an immediate effect in the stock Market.\n",
    "\n",
    "This project will use the latest advancements in NLP and deeplearning to recognize these patterns from the companies 10-K fillings from the last decade."
   ]
  },
  {
   "cell_type": "markdown",
   "id": "nuclear-washington",
   "metadata": {},
   "source": [
    "# Libraries 📚 <a class=\"anchor\" id=\"Lib\"></a>"
   ]
  },
  {
   "cell_type": "code",
   "execution_count": 540,
   "id": "protective-sensitivity",
   "metadata": {},
   "outputs": [],
   "source": [
    "import matplotlib.pyplot as plt\n",
    "import requests\n",
    "from bs4 import BeautifulSoup\n",
    "import pandas as pd\n",
    "from tqdm import tqdm\n",
    "\n",
    "from ratelimit import limits, sleep_and_retry\n",
    "\n",
    "import Edgar_scrapper\n",
    "\n",
    "import re\n",
    "import spacy\n",
    "import numpy as np"
   ]
  },
  {
   "cell_type": "code",
   "execution_count": 2,
   "id": "piano-yukon",
   "metadata": {},
   "outputs": [],
   "source": [
    "from nltk.tokenize import word_tokenize,sent_tokenize"
   ]
  },
  {
   "cell_type": "code",
   "execution_count": 3,
   "id": "lonely-europe",
   "metadata": {},
   "outputs": [],
   "source": [
    "import time\n",
    "import unicodedata"
   ]
  },
  {
   "cell_type": "code",
   "execution_count": 4,
   "id": "ambient-horse",
   "metadata": {},
   "outputs": [],
   "source": [
    "import sys"
   ]
  },
  {
   "cell_type": "code",
   "execution_count": 20,
   "id": "earned-strategy",
   "metadata": {},
   "outputs": [],
   "source": [
    "import nltk"
   ]
  },
  {
   "cell_type": "code",
   "execution_count": 5,
   "id": "studied-prime",
   "metadata": {},
   "outputs": [],
   "source": [
    "from nltk.stem import WordNetLemmatizer\n",
    "from nltk.corpus import stopwords\n",
    "from nltk.chunk.util import tree2conlltags, conlltags2tree\n",
    "from nltk.corpus import conll2000"
   ]
  },
  {
   "cell_type": "code",
   "execution_count": 6,
   "id": "agreed-allah",
   "metadata": {},
   "outputs": [],
   "source": [
    "import contractions"
   ]
  },
  {
   "cell_type": "code",
   "execution_count": 35,
   "id": "chubby-forward",
   "metadata": {
    "collapsed": true,
    "jupyter": {
     "outputs_hidden": true
    }
   },
   "outputs": [
    {
     "name": "stdout",
     "output_type": "stream",
     "text": [
      "Requirement already satisfied: gensim in /Users/vaishali/opt/anaconda3/envs/Capstone3/lib/python3.8/site-packages (4.0.1)\n",
      "Requirement already satisfied: scipy>=0.18.1 in /Users/vaishali/opt/anaconda3/envs/Capstone3/lib/python3.8/site-packages (from gensim) (1.6.2)\n",
      "Requirement already satisfied: numpy>=1.11.3 in /Users/vaishali/opt/anaconda3/envs/Capstone3/lib/python3.8/site-packages (from gensim) (1.19.2)\n",
      "Requirement already satisfied: smart-open>=1.8.1 in /Users/vaishali/opt/anaconda3/envs/Capstone3/lib/python3.8/site-packages (from gensim) (2.2.1)\n",
      "Requirement already satisfied: boto3 in /Users/vaishali/opt/anaconda3/envs/Capstone3/lib/python3.8/site-packages (from smart-open>=1.8.1->gensim) (1.17.53)\n",
      "Requirement already satisfied: requests in /Users/vaishali/opt/anaconda3/envs/Capstone3/lib/python3.8/site-packages (from smart-open>=1.8.1->gensim) (2.25.1)\n",
      "Requirement already satisfied: s3transfer<0.4.0,>=0.3.0 in /Users/vaishali/opt/anaconda3/envs/Capstone3/lib/python3.8/site-packages (from boto3->smart-open>=1.8.1->gensim) (0.3.7)\n",
      "Requirement already satisfied: botocore<1.21.0,>=1.20.53 in /Users/vaishali/opt/anaconda3/envs/Capstone3/lib/python3.8/site-packages (from boto3->smart-open>=1.8.1->gensim) (1.20.53)\n",
      "Requirement already satisfied: jmespath<1.0.0,>=0.7.1 in /Users/vaishali/opt/anaconda3/envs/Capstone3/lib/python3.8/site-packages (from boto3->smart-open>=1.8.1->gensim) (0.10.0)\n",
      "Requirement already satisfied: urllib3<1.27,>=1.25.4 in /Users/vaishali/opt/anaconda3/envs/Capstone3/lib/python3.8/site-packages (from botocore<1.21.0,>=1.20.53->boto3->smart-open>=1.8.1->gensim) (1.26.4)\n",
      "Requirement already satisfied: python-dateutil<3.0.0,>=2.1 in /Users/vaishali/opt/anaconda3/envs/Capstone3/lib/python3.8/site-packages (from botocore<1.21.0,>=1.20.53->boto3->smart-open>=1.8.1->gensim) (2.8.1)\n",
      "Requirement already satisfied: six>=1.5 in /Users/vaishali/opt/anaconda3/envs/Capstone3/lib/python3.8/site-packages (from python-dateutil<3.0.0,>=2.1->botocore<1.21.0,>=1.20.53->boto3->smart-open>=1.8.1->gensim) (1.15.0)\n",
      "Requirement already satisfied: idna<3,>=2.5 in /Users/vaishali/opt/anaconda3/envs/Capstone3/lib/python3.8/site-packages (from requests->smart-open>=1.8.1->gensim) (2.10)\n",
      "Requirement already satisfied: certifi>=2017.4.17 in /Users/vaishali/opt/anaconda3/envs/Capstone3/lib/python3.8/site-packages (from requests->smart-open>=1.8.1->gensim) (2020.12.5)\n",
      "Requirement already satisfied: chardet<5,>=3.0.2 in /Users/vaishali/opt/anaconda3/envs/Capstone3/lib/python3.8/site-packages (from requests->smart-open>=1.8.1->gensim) (4.0.0)\n"
     ]
    }
   ],
   "source": [
    "#!pip install gensim"
   ]
  },
  {
   "cell_type": "code",
   "execution_count": 203,
   "id": "detailed-metro",
   "metadata": {},
   "outputs": [],
   "source": [
    "#Import Dictionary\n",
    "from gensim import corpora"
   ]
  },
  {
   "cell_type": "code",
   "execution_count": 490,
   "id": "mighty-preview",
   "metadata": {},
   "outputs": [],
   "source": [
    "from collections import defaultdict\n",
    "import itertools"
   ]
  },
  {
   "cell_type": "code",
   "execution_count": 567,
   "id": "centered-update",
   "metadata": {},
   "outputs": [],
   "source": [
    "from collections import defaultdict, Counter\n",
    "from sklearn.feature_extraction.text import CountVectorizer"
   ]
  },
  {
   "cell_type": "code",
   "execution_count": 638,
   "id": "urban-layer",
   "metadata": {},
   "outputs": [],
   "source": [
    "import seaborn as sns"
   ]
  },
  {
   "cell_type": "code",
   "execution_count": 1246,
   "id": "specific-objective",
   "metadata": {
    "collapsed": true,
    "jupyter": {
     "outputs_hidden": true
    }
   },
   "outputs": [
    {
     "name": "stdout",
     "output_type": "stream",
     "text": [
      "Collecting en-core-web-md==3.0.0\n",
      "  Downloading https://github.com/explosion/spacy-models/releases/download/en_core_web_md-3.0.0/en_core_web_md-3.0.0-py3-none-any.whl (47.1 MB)\n",
      "\u001b[K     |████████████████████████████████| 47.1 MB 43.7 MB/s eta 0:00:01     |█████████████████████▉          | 32.1 MB 43.7 MB/s eta 0:00:01\n",
      "\u001b[?25hRequirement already satisfied: spacy<3.1.0,>=3.0.0 in /Users/vaishali/opt/anaconda3/envs/Capstone3/lib/python3.8/site-packages (from en-core-web-md==3.0.0) (3.0.5)\n",
      "Requirement already satisfied: spacy-legacy<3.1.0,>=3.0.0 in /Users/vaishali/opt/anaconda3/envs/Capstone3/lib/python3.8/site-packages (from spacy<3.1.0,>=3.0.0->en-core-web-md==3.0.0) (3.0.2)\n",
      "Requirement already satisfied: typer<0.4.0,>=0.3.0 in /Users/vaishali/opt/anaconda3/envs/Capstone3/lib/python3.8/site-packages (from spacy<3.1.0,>=3.0.0->en-core-web-md==3.0.0) (0.3.2)\n",
      "Requirement already satisfied: pydantic<1.8.0,>=1.7.1 in /Users/vaishali/opt/anaconda3/envs/Capstone3/lib/python3.8/site-packages (from spacy<3.1.0,>=3.0.0->en-core-web-md==3.0.0) (1.7.3)\n",
      "Requirement already satisfied: wasabi<1.1.0,>=0.8.1 in /Users/vaishali/opt/anaconda3/envs/Capstone3/lib/python3.8/site-packages (from spacy<3.1.0,>=3.0.0->en-core-web-md==3.0.0) (0.8.2)\n",
      "Requirement already satisfied: setuptools in /Users/vaishali/opt/anaconda3/envs/Capstone3/lib/python3.8/site-packages (from spacy<3.1.0,>=3.0.0->en-core-web-md==3.0.0) (52.0.0.post20210125)\n",
      "Requirement already satisfied: murmurhash<1.1.0,>=0.28.0 in /Users/vaishali/opt/anaconda3/envs/Capstone3/lib/python3.8/site-packages (from spacy<3.1.0,>=3.0.0->en-core-web-md==3.0.0) (1.0.5)\n",
      "Requirement already satisfied: jinja2 in /Users/vaishali/opt/anaconda3/envs/Capstone3/lib/python3.8/site-packages (from spacy<3.1.0,>=3.0.0->en-core-web-md==3.0.0) (2.11.3)\n",
      "Requirement already satisfied: requests<3.0.0,>=2.13.0 in /Users/vaishali/opt/anaconda3/envs/Capstone3/lib/python3.8/site-packages (from spacy<3.1.0,>=3.0.0->en-core-web-md==3.0.0) (2.25.1)\n",
      "Requirement already satisfied: packaging>=20.0 in /Users/vaishali/opt/anaconda3/envs/Capstone3/lib/python3.8/site-packages (from spacy<3.1.0,>=3.0.0->en-core-web-md==3.0.0) (20.9)\n",
      "Requirement already satisfied: tqdm<5.0.0,>=4.38.0 in /Users/vaishali/opt/anaconda3/envs/Capstone3/lib/python3.8/site-packages (from spacy<3.1.0,>=3.0.0->en-core-web-md==3.0.0) (4.59.0)\n",
      "Requirement already satisfied: pathy>=0.3.5 in /Users/vaishali/opt/anaconda3/envs/Capstone3/lib/python3.8/site-packages (from spacy<3.1.0,>=3.0.0->en-core-web-md==3.0.0) (0.4.0)\n",
      "Requirement already satisfied: catalogue<2.1.0,>=2.0.1 in /Users/vaishali/opt/anaconda3/envs/Capstone3/lib/python3.8/site-packages (from spacy<3.1.0,>=3.0.0->en-core-web-md==3.0.0) (2.0.3)\n",
      "Requirement already satisfied: numpy>=1.15.0 in /Users/vaishali/opt/anaconda3/envs/Capstone3/lib/python3.8/site-packages (from spacy<3.1.0,>=3.0.0->en-core-web-md==3.0.0) (1.19.2)\n",
      "Requirement already satisfied: preshed<3.1.0,>=3.0.2 in /Users/vaishali/opt/anaconda3/envs/Capstone3/lib/python3.8/site-packages (from spacy<3.1.0,>=3.0.0->en-core-web-md==3.0.0) (3.0.5)\n",
      "Requirement already satisfied: cymem<2.1.0,>=2.0.2 in /Users/vaishali/opt/anaconda3/envs/Capstone3/lib/python3.8/site-packages (from spacy<3.1.0,>=3.0.0->en-core-web-md==3.0.0) (2.0.5)\n",
      "Requirement already satisfied: blis<0.8.0,>=0.4.0 in /Users/vaishali/opt/anaconda3/envs/Capstone3/lib/python3.8/site-packages (from spacy<3.1.0,>=3.0.0->en-core-web-md==3.0.0) (0.7.4)\n",
      "Requirement already satisfied: srsly<3.0.0,>=2.4.0 in /Users/vaishali/opt/anaconda3/envs/Capstone3/lib/python3.8/site-packages (from spacy<3.1.0,>=3.0.0->en-core-web-md==3.0.0) (2.4.1)\n",
      "Requirement already satisfied: thinc<8.1.0,>=8.0.2 in /Users/vaishali/opt/anaconda3/envs/Capstone3/lib/python3.8/site-packages (from spacy<3.1.0,>=3.0.0->en-core-web-md==3.0.0) (8.0.2)\n",
      "Requirement already satisfied: pyparsing>=2.0.2 in /Users/vaishali/opt/anaconda3/envs/Capstone3/lib/python3.8/site-packages (from packaging>=20.0->spacy<3.1.0,>=3.0.0->en-core-web-md==3.0.0) (2.4.7)\n",
      "Requirement already satisfied: smart-open<4.0.0,>=2.2.0 in /Users/vaishali/opt/anaconda3/envs/Capstone3/lib/python3.8/site-packages (from pathy>=0.3.5->spacy<3.1.0,>=3.0.0->en-core-web-md==3.0.0) (2.2.1)\n",
      "Requirement already satisfied: chardet<5,>=3.0.2 in /Users/vaishali/opt/anaconda3/envs/Capstone3/lib/python3.8/site-packages (from requests<3.0.0,>=2.13.0->spacy<3.1.0,>=3.0.0->en-core-web-md==3.0.0) (4.0.0)\n",
      "Requirement already satisfied: certifi>=2017.4.17 in /Users/vaishali/opt/anaconda3/envs/Capstone3/lib/python3.8/site-packages (from requests<3.0.0,>=2.13.0->spacy<3.1.0,>=3.0.0->en-core-web-md==3.0.0) (2020.12.5)\n",
      "Requirement already satisfied: idna<3,>=2.5 in /Users/vaishali/opt/anaconda3/envs/Capstone3/lib/python3.8/site-packages (from requests<3.0.0,>=2.13.0->spacy<3.1.0,>=3.0.0->en-core-web-md==3.0.0) (2.10)\n",
      "Requirement already satisfied: urllib3<1.27,>=1.21.1 in /Users/vaishali/opt/anaconda3/envs/Capstone3/lib/python3.8/site-packages (from requests<3.0.0,>=2.13.0->spacy<3.1.0,>=3.0.0->en-core-web-md==3.0.0) (1.26.4)\n",
      "Requirement already satisfied: boto3 in /Users/vaishali/opt/anaconda3/envs/Capstone3/lib/python3.8/site-packages (from smart-open<4.0.0,>=2.2.0->pathy>=0.3.5->spacy<3.1.0,>=3.0.0->en-core-web-md==3.0.0) (1.17.53)\n",
      "Requirement already satisfied: click<7.2.0,>=7.1.1 in /Users/vaishali/opt/anaconda3/envs/Capstone3/lib/python3.8/site-packages (from typer<0.4.0,>=0.3.0->spacy<3.1.0,>=3.0.0->en-core-web-md==3.0.0) (7.1.2)\n",
      "Requirement already satisfied: jmespath<1.0.0,>=0.7.1 in /Users/vaishali/opt/anaconda3/envs/Capstone3/lib/python3.8/site-packages (from boto3->smart-open<4.0.0,>=2.2.0->pathy>=0.3.5->spacy<3.1.0,>=3.0.0->en-core-web-md==3.0.0) (0.10.0)\n",
      "Requirement already satisfied: s3transfer<0.4.0,>=0.3.0 in /Users/vaishali/opt/anaconda3/envs/Capstone3/lib/python3.8/site-packages (from boto3->smart-open<4.0.0,>=2.2.0->pathy>=0.3.5->spacy<3.1.0,>=3.0.0->en-core-web-md==3.0.0) (0.3.7)\n",
      "Requirement already satisfied: botocore<1.21.0,>=1.20.53 in /Users/vaishali/opt/anaconda3/envs/Capstone3/lib/python3.8/site-packages (from boto3->smart-open<4.0.0,>=2.2.0->pathy>=0.3.5->spacy<3.1.0,>=3.0.0->en-core-web-md==3.0.0) (1.20.53)\n",
      "Requirement already satisfied: python-dateutil<3.0.0,>=2.1 in /Users/vaishali/opt/anaconda3/envs/Capstone3/lib/python3.8/site-packages (from botocore<1.21.0,>=1.20.53->boto3->smart-open<4.0.0,>=2.2.0->pathy>=0.3.5->spacy<3.1.0,>=3.0.0->en-core-web-md==3.0.0) (2.8.1)\n",
      "Requirement already satisfied: six>=1.5 in /Users/vaishali/opt/anaconda3/envs/Capstone3/lib/python3.8/site-packages (from python-dateutil<3.0.0,>=2.1->botocore<1.21.0,>=1.20.53->boto3->smart-open<4.0.0,>=2.2.0->pathy>=0.3.5->spacy<3.1.0,>=3.0.0->en-core-web-md==3.0.0) (1.15.0)\n",
      "Requirement already satisfied: MarkupSafe>=0.23 in /Users/vaishali/opt/anaconda3/envs/Capstone3/lib/python3.8/site-packages (from jinja2->spacy<3.1.0,>=3.0.0->en-core-web-md==3.0.0) (1.1.1)\n",
      "\u001b[38;5;2m✔ Download and installation successful\u001b[0m\n",
      "You can now load the package via spacy.load('en_core_web_md')\n"
     ]
    }
   ],
   "source": [
    "#!python3 -m spacy download en_core_web_md"
   ]
  },
  {
   "cell_type": "code",
   "execution_count": 3,
   "id": "printable-impossible",
   "metadata": {},
   "outputs": [],
   "source": [
    "#nlp = spacy.load('en_core_web_md')\n",
    "#from spacy import en_core_web_md\n",
    "nlp = spacy.load('/Users/vaishali/opt/anaconda3/envs/Capstone3/lib/python3.8/site-packages/en_core_web_md/en_core_web_md-3.0.0')"
   ]
  },
  {
   "cell_type": "code",
   "execution_count": 193,
   "id": "traditional-deployment",
   "metadata": {},
   "outputs": [],
   "source": [
    "pd.set_option('display.max_colwidth',200)"
   ]
  },
  {
   "cell_type": "markdown",
   "id": "radical-geology",
   "metadata": {},
   "source": [
    "## Scrapping data from goverment Edgar fillings website 💻 <a class=\"anchor\" id=\"data\"></a>"
   ]
  },
  {
   "cell_type": "code",
   "execution_count": 3,
   "id": "adverse-solution",
   "metadata": {},
   "outputs": [],
   "source": [
    "edgar_access = Edgar_scrapper.EdgarAccess()"
   ]
  },
  {
   "cell_type": "code",
   "execution_count": 4,
   "id": "hydraulic-extra",
   "metadata": {},
   "outputs": [],
   "source": [
    "def get_fillings(fillings_ticker,fillings_cik, doc_type, start=0, count=60):\n",
    "    fillings_url = 'https://www.sec.gov/cgi-bin/browse-edgar?action=getcompany&CIK={}\\\n",
    "            &type={}&start={}&count={}&owner=exclude&output=atom'.format(fillings_cik, doc_type, start, count)\n",
    "    fillings_html = edgar_access.get(fillings_url)\n",
    "    fillings_soup = BeautifulSoup(fillings_html, features=\"html.parser\")\n",
    "\n",
    "    fillings_list = [\n",
    "        (fillings_ticker,\n",
    "         fillings_cik,\n",
    "         link.find('filing-date').getText(),\n",
    "         link.find('filing-href').getText())\n",
    "         #link.find('filing-type').getText())\n",
    "        for link in fillings_soup.find_all('entry')]\n",
    "\n",
    "    return fillings_list"
   ]
  },
  {
   "cell_type": "code",
   "execution_count": 5,
   "id": "heard-license",
   "metadata": {},
   "outputs": [],
   "source": [
    "ticker_ciks = pd.read_csv('tickers.csv')"
   ]
  },
  {
   "cell_type": "code",
   "execution_count": 6,
   "id": "sharp-basics",
   "metadata": {},
   "outputs": [],
   "source": [
    "sample_ticker = pd.DataFrame(data={'ticker' : ['AMC'],'cik':[1411579]})"
   ]
  },
  {
   "cell_type": "code",
   "execution_count": 7,
   "id": "occupied-russia",
   "metadata": {},
   "outputs": [],
   "source": [
    "sec_fillings_df = pd.DataFrame(columns=['ticker','cik','date','annual_report_url','filling_text'])"
   ]
  },
  {
   "cell_type": "code",
   "execution_count": 8,
   "id": "geographic-genetics",
   "metadata": {},
   "outputs": [],
   "source": [
    "for ticker, cik in sample_ticker.values:\n",
    "    temp = pd.DataFrame(data = get_fillings(ticker,cik, '10-K'),columns=['ticker','cik','date','annual_report_url'])\n",
    "    sec_fillings_df = sec_fillings_df.append(temp,ignore_index = True)\n",
    "\n",
    "del(temp)"
   ]
  },
  {
   "cell_type": "code",
   "execution_count": 9,
   "id": "australian-minimum",
   "metadata": {},
   "outputs": [],
   "source": [
    "sec_fillings_df.annual_report_url = sec_fillings_df.annual_report_url.\\\n",
    "                                    replace('-index.htm', '.txt',regex=True)\\\n",
    "                                    .replace('.txtl', '.txt',regex=True) "
   ]
  },
  {
   "cell_type": "code",
   "execution_count": 10,
   "id": "reduced-exercise",
   "metadata": {},
   "outputs": [
    {
     "data": {
      "text/html": [
       "<div>\n",
       "<style scoped>\n",
       "    .dataframe tbody tr th:only-of-type {\n",
       "        vertical-align: middle;\n",
       "    }\n",
       "\n",
       "    .dataframe tbody tr th {\n",
       "        vertical-align: top;\n",
       "    }\n",
       "\n",
       "    .dataframe thead th {\n",
       "        text-align: right;\n",
       "    }\n",
       "</style>\n",
       "<table border=\"1\" class=\"dataframe\">\n",
       "  <thead>\n",
       "    <tr style=\"text-align: right;\">\n",
       "      <th></th>\n",
       "      <th>ticker</th>\n",
       "      <th>cik</th>\n",
       "      <th>date</th>\n",
       "      <th>annual_report_url</th>\n",
       "      <th>filling_text</th>\n",
       "    </tr>\n",
       "  </thead>\n",
       "  <tbody>\n",
       "    <tr>\n",
       "      <th>0</th>\n",
       "      <td>AMC</td>\n",
       "      <td>1411579</td>\n",
       "      <td>2021-03-12</td>\n",
       "      <td>https://www.sec.gov/Archives/edgar/data/1411579/000141157921000006/0001411579-21-000006.txt</td>\n",
       "      <td>NaN</td>\n",
       "    </tr>\n",
       "    <tr>\n",
       "      <th>1</th>\n",
       "      <td>AMC</td>\n",
       "      <td>1411579</td>\n",
       "      <td>2020-02-28</td>\n",
       "      <td>https://www.sec.gov/Archives/edgar/data/1411579/000141157920000027/0001411579-20-000027.txt</td>\n",
       "      <td>NaN</td>\n",
       "    </tr>\n",
       "    <tr>\n",
       "      <th>2</th>\n",
       "      <td>AMC</td>\n",
       "      <td>1411579</td>\n",
       "      <td>2019-03-01</td>\n",
       "      <td>https://www.sec.gov/Archives/edgar/data/1411579/000141157919000013/0001411579-19-000013.txt</td>\n",
       "      <td>NaN</td>\n",
       "    </tr>\n",
       "    <tr>\n",
       "      <th>3</th>\n",
       "      <td>AMC</td>\n",
       "      <td>1411579</td>\n",
       "      <td>2018-03-01</td>\n",
       "      <td>https://www.sec.gov/Archives/edgar/data/1411579/000141157918000014/0001411579-18-000014.txt</td>\n",
       "      <td>NaN</td>\n",
       "    </tr>\n",
       "    <tr>\n",
       "      <th>4</th>\n",
       "      <td>AMC</td>\n",
       "      <td>1411579</td>\n",
       "      <td>2017-03-10</td>\n",
       "      <td>https://www.sec.gov/Archives/edgar/data/1411579/000141157917000021/0001411579-17-000021.txt</td>\n",
       "      <td>NaN</td>\n",
       "    </tr>\n",
       "    <tr>\n",
       "      <th>5</th>\n",
       "      <td>AMC</td>\n",
       "      <td>1411579</td>\n",
       "      <td>2016-03-08</td>\n",
       "      <td>https://www.sec.gov/Archives/edgar/data/1411579/000104746916010880/0001047469-16-010880.txt</td>\n",
       "      <td>NaN</td>\n",
       "    </tr>\n",
       "    <tr>\n",
       "      <th>6</th>\n",
       "      <td>AMC</td>\n",
       "      <td>1411579</td>\n",
       "      <td>2015-03-10</td>\n",
       "      <td>https://www.sec.gov/Archives/edgar/data/1411579/000104746915001918/0001047469-15-001918.txt</td>\n",
       "      <td>NaN</td>\n",
       "    </tr>\n",
       "    <tr>\n",
       "      <th>7</th>\n",
       "      <td>AMC</td>\n",
       "      <td>1411579</td>\n",
       "      <td>2014-03-04</td>\n",
       "      <td>https://www.sec.gov/Archives/edgar/data/1411579/000104746914001769/0001047469-14-001769.txt</td>\n",
       "      <td>NaN</td>\n",
       "    </tr>\n",
       "  </tbody>\n",
       "</table>\n",
       "</div>"
      ],
      "text/plain": [
       "  ticker      cik        date  \\\n",
       "0    AMC  1411579  2021-03-12   \n",
       "1    AMC  1411579  2020-02-28   \n",
       "2    AMC  1411579  2019-03-01   \n",
       "3    AMC  1411579  2018-03-01   \n",
       "4    AMC  1411579  2017-03-10   \n",
       "5    AMC  1411579  2016-03-08   \n",
       "6    AMC  1411579  2015-03-10   \n",
       "7    AMC  1411579  2014-03-04   \n",
       "\n",
       "                                                                             annual_report_url  \\\n",
       "0  https://www.sec.gov/Archives/edgar/data/1411579/000141157921000006/0001411579-21-000006.txt   \n",
       "1  https://www.sec.gov/Archives/edgar/data/1411579/000141157920000027/0001411579-20-000027.txt   \n",
       "2  https://www.sec.gov/Archives/edgar/data/1411579/000141157919000013/0001411579-19-000013.txt   \n",
       "3  https://www.sec.gov/Archives/edgar/data/1411579/000141157918000014/0001411579-18-000014.txt   \n",
       "4  https://www.sec.gov/Archives/edgar/data/1411579/000141157917000021/0001411579-17-000021.txt   \n",
       "5  https://www.sec.gov/Archives/edgar/data/1411579/000104746916010880/0001047469-16-010880.txt   \n",
       "6  https://www.sec.gov/Archives/edgar/data/1411579/000104746915001918/0001047469-15-001918.txt   \n",
       "7  https://www.sec.gov/Archives/edgar/data/1411579/000104746914001769/0001047469-14-001769.txt   \n",
       "\n",
       "  filling_text  \n",
       "0          NaN  \n",
       "1          NaN  \n",
       "2          NaN  \n",
       "3          NaN  \n",
       "4          NaN  \n",
       "5          NaN  \n",
       "6          NaN  \n",
       "7          NaN  "
      ]
     },
     "execution_count": 10,
     "metadata": {},
     "output_type": "execute_result"
    }
   ],
   "source": [
    "sec_fillings_df"
   ]
  },
  {
   "cell_type": "markdown",
   "id": "classical-intensity",
   "metadata": {},
   "source": [
    "## Downloading Individual fillings documents."
   ]
  },
  {
   "cell_type": "code",
   "execution_count": 12,
   "id": "egyptian-inspiration",
   "metadata": {},
   "outputs": [
    {
     "name": "stderr",
     "output_type": "stream",
     "text": [
      "Downloading Fillings: 100%|██████████| 8/8 [02:09<00:00, 16.16s/filling]\n"
     ]
    }
   ],
   "source": [
    "for index,row in tqdm(sec_fillings_df.iterrows(),desc='Downloading Fillings', \\\n",
    "                      unit='filling',total=len(sec_fillings_df)):\n",
    "    filing_href = row['annual_report_url'] \n",
    "    report_txt= edgar_access.get(filing_href)\n",
    "    #time.sleep(60)\n",
    "    report_soup = BeautifulSoup(report_txt, \"html\")\n",
    "    avalibility_10k = False\n",
    "    for document in report_soup.find_all('document'): \n",
    "        if(re.match(r'\\s+10-K',document.find('type').prettify().splitlines()[1])):\n",
    "            sec_fillings_df.iloc[index]['filling_text'] = document\n",
    "            avalibility_10k = True\n",
    "            break\n",
    "    if not avalibility_10k:\n",
    "        print(\"Documents not available right now\")\n",
    "        print(report_soup.prettify())\n",
    "        break"
   ]
  },
  {
   "cell_type": "code",
   "execution_count": 13,
   "id": "thousand-reynolds",
   "metadata": {},
   "outputs": [],
   "source": [
    "#sec_fillings_df.to_feather(\"../data/interim/sec_fillings_df.feather\")"
   ]
  },
  {
   "cell_type": "markdown",
   "id": "synthetic-auckland",
   "metadata": {},
   "source": [
    "## Normalize corpus"
   ]
  },
  {
   "cell_type": "markdown",
   "id": "atlantic-little",
   "metadata": {},
   "source": [
    "### Replace Special characters"
   ]
  },
  {
   "cell_type": "code",
   "execution_count": 13,
   "id": "diagnostic-state",
   "metadata": {},
   "outputs": [],
   "source": [
    "def extract_text(document):\n",
    "    document = document.getText().splitlines()\n",
    "    document = [line for line in document if re.match(r'\\w+',line)]\n",
    "    #document = [p_tag.getText() for p_tag in document.find_all(['p','font']) if re.match(r'\\w+',p_tag.getText())]\n",
    "    document = [line.replace(u'\\xa0', u' ') for line in document]\n",
    "    document = [line.replace(u'\\u200b', u'') for line in document]\n",
    "    document = [line.replace(u':', u' ') for line in document]\n",
    "    document = [line.replace(r'[^(A-Za-z)|(0-9) ]+', '') for line in document]\n",
    "    document = '\\n'.join(document)\n",
    "    document = document.lower()\n",
    "    return document"
   ]
  },
  {
   "cell_type": "code",
   "execution_count": 15,
   "id": "cutting-traveler",
   "metadata": {},
   "outputs": [],
   "source": [
    "#sec_fillings_df['filling_text_cleaned'] = [extract_text(document) for document in sec_fillings_df['filling_text']]"
   ]
  },
  {
   "cell_type": "code",
   "execution_count": 819,
   "id": "surprised-recruitment",
   "metadata": {},
   "outputs": [],
   "source": [
    "#sample_10k = extract_text(sec_fillings_df.iloc[0]['filling_text'])"
   ]
  },
  {
   "cell_type": "code",
   "execution_count": 820,
   "id": "right-template",
   "metadata": {},
   "outputs": [],
   "source": [
    "#sample_10k = sample_10k.lower()"
   ]
  },
  {
   "cell_type": "code",
   "execution_count": 881,
   "id": "exclusive-southwest",
   "metadata": {},
   "outputs": [],
   "source": [
    "#sample_sent = sent_tokenize(sample_10k)[10:200]"
   ]
  },
  {
   "cell_type": "code",
   "execution_count": 882,
   "id": "thorough-condition",
   "metadata": {},
   "outputs": [],
   "source": [
    "#sample_sent_word = [word_tokenize(line) for line in sample_sent]"
   ]
  },
  {
   "cell_type": "code",
   "execution_count": 14,
   "id": "handed-dodge",
   "metadata": {},
   "outputs": [],
   "source": [
    "def repl(m):\n",
    "    #sent = ' '.join([chars for chars in m.groups() if not chars==''])\n",
    "    sent = ' '.join(m.groups())\n",
    "    return sent"
   ]
  },
  {
   "cell_type": "markdown",
   "id": "dedicated-input",
   "metadata": {},
   "source": [
    "### Remove accented text"
   ]
  },
  {
   "cell_type": "code",
   "execution_count": 15,
   "id": "objective-thirty",
   "metadata": {},
   "outputs": [],
   "source": [
    "def remove_special_chars(document):\n",
    "    document = unicodedata.normalize('NFKD', document).encode('ascii', 'ignore').decode('utf-8', 'ignore')\n",
    "    return document"
   ]
  },
  {
   "cell_type": "code",
   "execution_count": 16,
   "id": "loaded-springer",
   "metadata": {},
   "outputs": [],
   "source": [
    "def seperate_num_strings(document):\n",
    "    for i,line in enumerate(document):\n",
    "        for j,word in enumerate(line):\n",
    "            word = re.sub(r'([a-z]+)([0-9]+)',repl,word).strip()\n",
    "            word = re.sub(r'([0-9]+)([a-z]+)',repl,word).strip()\n",
    "            #line[j] = re.sub(' +', ' ',line[j])\n",
    "            #line[j] = re.sub('\\. +','.',line[j])\n",
    "            #line[j] = re.sub('- +','-',line[j])\n",
    "            #line[j] = re.sub(' +-','-',line[j])\n",
    "            #line[j] = re.sub(' +%','%',line[j])\n",
    "            #line[j] = re.sub('\\$ +','$',line[j])\n",
    "            line[j] = word\n",
    "        document[i] = line\n",
    "    return document"
   ]
  },
  {
   "cell_type": "code",
   "execution_count": 1182,
   "id": "biological-digest",
   "metadata": {},
   "outputs": [],
   "source": [
    "#seperate_num_strings(sample_sent_word)"
   ]
  },
  {
   "cell_type": "code",
   "execution_count": 1186,
   "id": "asian-workshop",
   "metadata": {},
   "outputs": [],
   "source": [
    "line = 'we     had      $ 7.  777 % million covid -19 432babali345'"
   ]
  },
  {
   "cell_type": "code",
   "execution_count": 1189,
   "id": "standard-hanging",
   "metadata": {},
   "outputs": [],
   "source": [
    "line = re.sub(r'([a-z]+)([0-9]+)',repl,line)"
   ]
  },
  {
   "cell_type": "code",
   "execution_count": 1190,
   "id": "incredible-building",
   "metadata": {},
   "outputs": [
    {
     "data": {
      "text/plain": [
       "'we     had      $ 7.  777 % million covid -19 432 babali 345'"
      ]
     },
     "execution_count": 1190,
     "metadata": {},
     "output_type": "execute_result"
    }
   ],
   "source": [
    "re.sub(r'([0-9]+)([a-z]+)',repl,line)"
   ]
  },
  {
   "cell_type": "code",
   "execution_count": 1097,
   "id": "eastern-hungary",
   "metadata": {},
   "outputs": [
    {
     "data": {
      "text/plain": [
       "'we     had      $ 7.777 % milliom'"
      ]
     },
     "execution_count": 1097,
     "metadata": {},
     "output_type": "execute_result"
    }
   ],
   "source": [
    "re.sub('(\\.|$) +',lambda x: ''.join(x.groups()),line)"
   ]
  },
  {
   "cell_type": "code",
   "execution_count": 986,
   "id": "ahead-yesterday",
   "metadata": {},
   "outputs": [
    {
     "data": {
      "text/plain": [
       "<re.Match object; span=(0, 5), match='covid'>"
      ]
     },
     "execution_count": 986,
     "metadata": {},
     "output_type": "execute_result"
    }
   ],
   "source": [
    "re.match(r'([0-9]*)([a-z]*)([0-9]*)|([a-z\\-][0-9]+)','covid-19')"
   ]
  },
  {
   "cell_type": "markdown",
   "id": "automatic-health",
   "metadata": {},
   "source": [
    "### Tokenize"
   ]
  },
  {
   "cell_type": "code",
   "execution_count": 17,
   "id": "sorted-steps",
   "metadata": {},
   "outputs": [],
   "source": [
    "def tokenize(document):\n",
    "    document_senttokenized = sent_tokenize(document)\n",
    "    document_wordtokenized = [word_tokenize(line) for line in document_senttokenized]\n",
    "    return document_wordtokenized"
   ]
  },
  {
   "cell_type": "code",
   "execution_count": 22,
   "id": "restricted-digit",
   "metadata": {},
   "outputs": [],
   "source": [
    "#sample_10k_tokenized = tokenize(sample_10k)"
   ]
  },
  {
   "cell_type": "markdown",
   "id": "sacred-eclipse",
   "metadata": {},
   "source": [
    "### Stemming"
   ]
  },
  {
   "cell_type": "code",
   "execution_count": 21,
   "id": "subtle-climb",
   "metadata": {},
   "outputs": [],
   "source": [
    "stemmer = nltk.porter.PorterStemmer()"
   ]
  },
  {
   "cell_type": "code",
   "execution_count": 22,
   "id": "advisory-universe",
   "metadata": {},
   "outputs": [],
   "source": [
    "def nltk_stemmer(document):\n",
    "    stemmer = nltk.porter.PorterStemmer()\n",
    "    document = [[stemmer.stem(word) for word in line] for line in document]   \n",
    "    return document"
   ]
  },
  {
   "cell_type": "code",
   "execution_count": 25,
   "id": "color-attraction",
   "metadata": {},
   "outputs": [],
   "source": [
    "#sample_10k_stemmed = nltk_stemmer(sample_10k_tokenized)"
   ]
  },
  {
   "cell_type": "markdown",
   "id": "breeding-population",
   "metadata": {},
   "source": [
    "### Lemmatization"
   ]
  },
  {
   "cell_type": "code",
   "execution_count": 23,
   "id": "mighty-saturday",
   "metadata": {},
   "outputs": [],
   "source": [
    "def nltk_lemmatizer(document):\n",
    "    lemmatizer = WordNetLemmatizer()\n",
    "    document = [[lemmatizer.lemmatize(word) for word in line] for line in document]\n",
    "    return document"
   ]
  },
  {
   "cell_type": "code",
   "execution_count": 24,
   "id": "broken-burlington",
   "metadata": {},
   "outputs": [],
   "source": [
    "#sample_10k_lemmatized = nltk_lemmatizer(sample_10k_stemmed)"
   ]
  },
  {
   "cell_type": "markdown",
   "id": "federal-history",
   "metadata": {},
   "source": [
    "### Remove Stopwords"
   ]
  },
  {
   "cell_type": "code",
   "execution_count": 25,
   "id": "experienced-survivor",
   "metadata": {},
   "outputs": [],
   "source": [
    "stop_words = set(stopwords.words('english')) "
   ]
  },
  {
   "cell_type": "code",
   "execution_count": 26,
   "id": "restricted-limit",
   "metadata": {},
   "outputs": [],
   "source": [
    "def remove_stopwords(document):\n",
    "    document = [[word for word in line if not word in stop_words] for line in document]\n",
    "    return document"
   ]
  },
  {
   "cell_type": "code",
   "execution_count": 32,
   "id": "beneficial-warrant",
   "metadata": {},
   "outputs": [],
   "source": [
    "#sample_10k_nostopwords = remove_stopwords(sample_10k_lemmatized)"
   ]
  },
  {
   "cell_type": "markdown",
   "id": "logical-statement",
   "metadata": {},
   "source": [
    "### Get size of double list"
   ]
  },
  {
   "cell_type": "code",
   "execution_count": 27,
   "id": "hollywood-dayton",
   "metadata": {},
   "outputs": [],
   "source": [
    "def get_size_double_list(double_list):\n",
    "    size = 0\n",
    "    for line in double_list:\n",
    "        for word in line:\n",
    "            size+= sys.getsizeof(word)\n",
    "    return size/(1024**2)"
   ]
  },
  {
   "cell_type": "code",
   "execution_count": 35,
   "id": "unlikely-sound",
   "metadata": {},
   "outputs": [],
   "source": [
    "#print(\"total size of {} is {}Mb\".format(\"sample_10k_stemmed\",get_size_double_list(sample_10k_stemmed)))\n",
    "\n",
    "#print(\"total size of {} is {}Mb\".format(\"sample_10k_word_tokenized\",get_size_double_list(sample_10k_tokenized)))\n",
    "\n",
    "#print(\"total size of {} is {}Mb\".format(\"sample_10k_lemmatized\",get_size_double_list(sample_10k_lemmatized)))\n",
    "\n",
    "#print(\"total size of {} is {}Mb\".format(\"sample_10k_lemmatized\",get_size_double_list(sample_10k_nostopwords)))"
   ]
  },
  {
   "cell_type": "markdown",
   "id": "scientific-syndicate",
   "metadata": {},
   "source": [
    "### Contractions"
   ]
  },
  {
   "cell_type": "code",
   "execution_count": 28,
   "id": "upper-convertible",
   "metadata": {},
   "outputs": [],
   "source": [
    "def replace_contractions(document):\n",
    "    document = [contractions.fix(line) for line in document]\n",
    "    return document"
   ]
  },
  {
   "cell_type": "markdown",
   "id": "current-trail",
   "metadata": {},
   "source": [
    "### Removing more special characters"
   ]
  },
  {
   "cell_type": "code",
   "execution_count": 29,
   "id": "broke-dominant",
   "metadata": {},
   "outputs": [],
   "source": [
    "#sample_10k_nocontractions = remove_contractions(sample_10k_nostopwords)"
   ]
  },
  {
   "cell_type": "code",
   "execution_count": 913,
   "id": "common-enough",
   "metadata": {},
   "outputs": [],
   "source": [
    "def remove_specific_chars(document):\n",
    "    char_list = ['.',',','$','(',')','%','#','&',\"'\",\"'s\",'*','+','/','.','``']\n",
    "    document = [[word for word in line if not word in char_list] for line in document]\n",
    "    return document"
   ]
  },
  {
   "cell_type": "code",
   "execution_count": 956,
   "id": "circular-subject",
   "metadata": {},
   "outputs": [],
   "source": [
    "def remove_numbers(document):\n",
    "    document = [[word for word in line if not re.match('^[\\,\\.\\/\\d-]+$',word)] for line in document]\n",
    "    return document"
   ]
  },
  {
   "cell_type": "code",
   "execution_count": 30,
   "id": "developing-politics",
   "metadata": {},
   "outputs": [],
   "source": [
    "def normalize_document(document,lemmatize = False, stemming = False, rm_contractions = False ,rm_stopwords = False):\n",
    "    \n",
    "    document = extract_text(document)\n",
    "    document = remove_special_chars(document)\n",
    "    document = tokenize(document)\n",
    "    \n",
    "    document = seperate_num_strings(document)\n",
    "    \n",
    "    \n",
    "    if lemmatize:\n",
    "        document = nltk_lemmatizer(document)\n",
    "    elif stemming:\n",
    "        document = nltk_stemmer(document)\n",
    "    if rm_stopwords:\n",
    "        document = remove_stopwords(document)\n",
    "    \n",
    "    document = [' '.join(line) for line in document]\n",
    "    \n",
    "    if rm_contractions:\n",
    "        document = replace_contractions(document)\n",
    "    \n",
    "    document = '\\n'.join(document)\n",
    "    \n",
    "    return document\n",
    "    "
   ]
  },
  {
   "cell_type": "code",
   "execution_count": 1193,
   "id": "coastal-bishop",
   "metadata": {},
   "outputs": [],
   "source": [
    "sec_fillings_df['normalized_filling'] = \"\""
   ]
  },
  {
   "cell_type": "code",
   "execution_count": 1194,
   "id": "floppy-maine",
   "metadata": {},
   "outputs": [
    {
     "name": "stderr",
     "output_type": "stream",
     "text": [
      "normalizing Fillings: 100%|██████████| 8/8 [00:06<00:00,  1.25filling/s]\n"
     ]
    }
   ],
   "source": [
    "for index,row in tqdm(sec_fillings_df.iterrows(),desc='normalizing Fillings', \\\n",
    "                      unit='filling',total=len(sec_fillings_df)):\n",
    "    document = row.filling_text\n",
    "    #print(type(normalize_document(document)))\n",
    "    sec_fillings_df.at[index,'normalized_filling'] = normalize_document(document)"
   ]
  },
  {
   "cell_type": "code",
   "execution_count": 1195,
   "id": "massive-headquarters",
   "metadata": {},
   "outputs": [],
   "source": [
    "#del(sec_fillings_df['filling_text'])"
   ]
  },
  {
   "cell_type": "code",
   "execution_count": 1312,
   "id": "federal-specification",
   "metadata": {},
   "outputs": [],
   "source": [
    "sec_fillings_df.to_csv(\"../data/interim/sec_fillings_df.csv\")"
   ]
  },
  {
   "cell_type": "markdown",
   "id": "adjacent-fiction",
   "metadata": {},
   "source": [
    "## Intermittent reading of sec_fillings_df."
   ]
  },
  {
   "cell_type": "code",
   "execution_count": 32,
   "id": "expensive-limit",
   "metadata": {},
   "outputs": [],
   "source": [
    "sec_fillings_df = pd.read_csv(\"../data/interim/sec_fillings_df.csv\")"
   ]
  },
  {
   "cell_type": "markdown",
   "id": "arabic-gravity",
   "metadata": {},
   "source": [
    "## POS-tagging"
   ]
  },
  {
   "cell_type": "markdown",
   "id": "superb-soldier",
   "metadata": {},
   "source": [
    "#### nltk"
   ]
  },
  {
   "cell_type": "code",
   "execution_count": 33,
   "id": "growing-conservation",
   "metadata": {},
   "outputs": [],
   "source": [
    "normdoc = sec_fillings_df.iloc[0].normalized_filling"
   ]
  },
  {
   "cell_type": "code",
   "execution_count": 34,
   "id": "metallic-relative",
   "metadata": {},
   "outputs": [],
   "source": [
    "normdoc_tok = sent_tokenize(normdoc)"
   ]
  },
  {
   "cell_type": "code",
   "execution_count": 1198,
   "id": "twelve-plaza",
   "metadata": {
    "collapsed": true,
    "jupyter": {
     "outputs_hidden": true
    }
   },
   "outputs": [
    {
     "data": {
      "text/plain": [
       "['with the exception of the baltics and portugal , as of december 31 , 2019 , we had a combined 15 imax screens in all of our territories capitals.9 table of contentsthe following table provides detail with respect to the geographic location of our theatrical exhibition circuit as of december 31 , 2020 u.s. markets theatres ( 1 ) screens ( 1 ) alabama 16 212 arizona 12 197 arkansas 4 45 california 54 726 colorado 13 183 connecticut 5 68 delaware 1 14 florida 38 600 georgia 32 400 idaho 1 11 illinois 47 551 indiana 24 321 iowa 7 92 kansas 9 132 kentucky 3 48 louisiana 7 99 maryland 13 144 massachusetts 10 142 michigan 12 193 minnesota 8 117 missouri 11 132 montana 5 55 nebraska 2 21 nevada 2 28 new hampshire 1 10 new jersey 26 329 new mexico 1 12 new york 29 306 north carolina 23 300 north dakota 2 19 ohio 14 176 oklahoma 14 161 oregon 2 25 pennsylvania 28 314 south carolina 5 52 south dakota 1 10 tennessee 21 253 texas 45 664 utah 3 29 virginia 13 173 washington 15 181 west virginia 2 20 wisconsin 6 73 wyoming 1 9 district of columbia 2 21 total u.s. markets 590 7,668 international marketsdenmark 2 10 estonia 3 15 finland 26 150 germany 22 197 ireland 11 77 italy 42 432 lithuania 5 35 norway 13 94 portugal 3 45 saudi arabia 7 44 spain 41 481 sweden 73 401 united kingdom 112 894 total international markets 360 2,875 total 950 10,543 ( 1 ) included in the above table are 70 theatres and 361 screens that we manage or in which we have a partial ownership interest .',\n",
       " 'in the u.s. markets segment , we manage or have a partial interest in seven theatres and 10 table of contents 85 screens .',\n",
       " 'in the international markets segment , we manage or have a partial interest in 63 theatres and 276 screens.our theatrical exhibition revenues are generated primarily from box office admissions and theatre food and beverage sales .',\n",
       " 'we offer consumers a broad range of entertainment alternatives including traditional film programming , private theatre rentals , independent and foreign films , performing arts , music and sports .',\n",
       " 'we also offer food and beverage alternatives beyond traditional concession items , including made-to-order meals , customized coffee , healthy snacks , beer , wine , premium cocktails , and dine-in theatre options .',\n",
       " 'the balance of our revenues are generated from ancillary sources , including on-screen advertising , fees earned from our customer loyalty program , rental of theatre auditoriums , income from gift card and exchange ticket sales , and online ticketing fees.our strategywe are committed to maintaining a leadership position in the exhibition industry by focusing on forward-thinking initiatives for the benefit of our guests .',\n",
       " 'we do this through a combination of unique marketing outreach , seamless digital technology and innovative theatre amenities designed to 1 ) transform amc into a world class leader in customer engagement , 2 ) deliver the best in-person experience while at amc theatres and 3 ) selectively adjust our footprint through expansion in certain markets and strategic closure of underperforming theatres .',\n",
       " 'consistent with our history and culture of innovation , we believe our vision and relentless focus on these key elements , which apply strategic and marketing components to traditional theatrical exhibition , will drive our future success.as discussed above , the covid-19 pandemic has had a significant impact on our business .',\n",
       " 'we have taken and continue to take steps to adapt our business strategy in the short-term in response to the covid-19 pandemic , including adjusting our theatre operating hours in those markets where we are open to align screen availability and associated theatre operating costs with attendance levels for each theatre and implementing a comprehensive set of cleaning and operational protocols across our theatres , which are further discussed below .',\n",
       " 'we have also taken and continue to take significant steps to preserve cash by eliminating non-essential costs .',\n",
       " 'as a result of these steps , and as further discussed below , certain aspects of our longer-term strategy , such as growth capital expenditures with the exception of prior commitments have been suspended at this time .',\n",
       " 'going forward our capital allocation strategy will be driven by the cash generation of our business and will be contingent on a continued required return threshold .',\n",
       " 'we can not currently determine when we will be able to resume these aspects of our longer-term strategy.in the u.s. markets in response to the covid-19 pandemic and under advisement of current & former faculty of harvard universitys school of public health as well as the clorox company , we developed a comprehensive set of cleaning and operational protocols branded amc safe and clean which have been implemented at every one of our u.s. theatres .',\n",
       " 'amc safe & clean protocols include significant reductions in the maximum tickets available for each showtime and seat blocking in reserved seating auditoriums to allow for appropriate social distancing between parties , enhanced cleaning procedures that include extra time between showtimes to allow for a full , thorough cleaning and nightly disinfecting , use of high-tech high-efficiency particulate air vacuums , upgraded air filtration efforts including the use of minimum efficiency reporting value-13 filters wherever possible , new guest and employee safety protocols that include mandatory mask wearing by all guests and employees , employee health checks , hand sanitizing stations throughout the theatre and the availability to guests of disinfectant wipes .',\n",
       " 'the company has also introduced amc private screening , which allows movie goers to reserve a separate amc safe & cleantm auditorium for a private screening for up to 20 people , starting at $ 99 plus tax.in the international markets in response to the covid-19 pandemic , we developed a comprehensive set of cleaning and operational protocols branded we are safer cinema which have been implemented across our european theatres .',\n",
       " 'protocols include significant reductions in the maximum tickets available for each showtime and seat blocking in reserved seating auditoriums to allow for appropriate social distancing between parties and enhanced cleaning procedures that include extra time between showtimes to allow for thorough cleaning .',\n",
       " 'new guest and employee safety protocols include mandatory mask wearing by all guests and employees where directed by government guidelines , one-way guest flow systems in theatres where practical and hand sanitizing stations throughout the theatre.1 ) transform amc into a world class leader in customer engagementamc engages movie-goers through advances in technology and marketing activities to strengthen the bonds with our current guests and create new connections with potential customers that drive both growth and loyalty .',\n",
       " 'amc serves our guests , end-to-end , from before they enter our theatres , through their enjoyment of a comprehensive spectrum 11 table of contentsof film content while at our theatres and then again after the movie when theyve left the theatre and are deciding what film to see the next time they visit.in our u.s. markets , we begin the process of engagement with amc stubs our customer loyalty program which allows members to earn rewards , receive discounts and participate in exclusive members-only offerings and services .',\n",
       " 'it features a traditional paid tier called amc stubs premiereTM for a $ 15 annual membership fee and a non-paid tier called amc stubs insiderTM .',\n",
       " 'both programs reward loyal guests for their patronage of amc theatres .',\n",
       " 'rewards earned are redeemable on future purchases at amc locations .',\n",
       " 'amc stubs a-list is our monthly subscription-based tier of our amc stubs loyalty program .',\n",
       " 'this program offers guests admission to movies at amc up to three times per week including multiple movies per day and repeat visits to already seen movies for $ 19.95 and $ 23.95 per month depending upon geographic market .',\n",
       " 'amc stubs a-list also includes premium offerings including imax , dolby cinemaTM at amc , reald , prime and other proprietary plf brands .',\n",
       " 'amc stubs a-list members can book tickets online in advance and select specific seats at amc theatres with reserved seating .',\n",
       " 'upon the temporary suspension of theatre operations due to the covid-19 pandemic , all monthly a-list subscription charges were put on hold .',\n",
       " 'as we reopened theatres , a-list members had the option to reactivate their subscription , which restarted the monthly charge for the program.as of december 31 , 2020 , we had more than 23,300,000 member households enrolled in amc stubs a-list , amc stubs premiereTM and amc stubs insiderTM programs on a combined basis .',\n",
       " 'our amc stubs members represented approximately 45 % of amc u.s. markets attendance during the year ended december 31 , 2020. our large database of identified movie-goers also provides us with additional insight into our customers movie preferences .',\n",
       " 'this enables us to have a larger , more personalized and targeted marketing effort .',\n",
       " 'in our international markets , we currently have loyalty programs in the major territories in which we operate .',\n",
       " 'the movie-goers can earn points for spending money at the theatre , and those points can be redeemed for tickets and concession items at a later date .',\n",
       " 'we currently have more than 11,400,000 members in our various international loyalty programs .',\n",
       " 'we continue to evaluate the odeon loyalty programs to determine how best to reward our european movie-goers and heighten guest loyalty to drive additional attendance to odeon theatres.our marketing efforts are not limited to our loyalty program as we continue to improve our customer connections through our website and mobile apps and expand our online and movie offerings .',\n",
       " 'we continued to roll out our upgraded mobile applications across the u.s. circuit with the ability to order food and beverage offerings via our mobile applications while ordering tickets ahead of scheduled showtimes .',\n",
       " 'our mobile applications also include amc theatres on demand , a service for members of the amc stubs loyalty program that allows them to rent or buy movies .',\n",
       " 'in response to the covid-19 pandemic , amcs robust online and mobile platforms in our u.s. markets offer customers the safety and convenience of enhanced social distancing by allowing them to purchase tickets and concession items online , avoid the ticket line , and limit other high-touch interactions with amc employees and other guests .',\n",
       " 'online and mobile platforms are also available in our international markets.2 ) deliver the best in-person experience while at amc theatresin conjunction with our advances in technology and marketing initiatives , and consistent with our long-term growth strategy , we plan to continue investing in our theatres and enhancing the consumer experience to deliver the best in-person experience and take greater advantage of incremental revenue-generating opportunities , primarily through comfort and convenience innovations , imaginative food and beverage initiatives , and exciting premium large format ( plf ) offerings .',\n",
       " 'our ability to implement our growth strategy , however , remains highly uncertain , as the full impact and duration of the covid-19 pandemic continues to evolve as of the date of this annual report on form 10-k. comfort and convenience innovations .',\n",
       " 'recliner seating is the key feature of our theatre renovations .',\n",
       " 'we believe that maximizing comfort and convenience for our customers will be increasingly necessary to maintain and improve our relevance .',\n",
       " 'these renovations , in conjunction with capital contributions from our landlords , involve stripping theatres to their basic structure in order to replace finishes throughout , upgrading the sight and sound experience , installing modernized points of sale and , most importantly , replacing traditional theatre seats with plush , electric recliners that allow customers to deploy a leg rest and fully recline at the push of a button .',\n",
       " 'as of december 31 , 2019 , prior to the covid-19 pandemic , the quality improvement in the customer experience could drive a 33 % increase in attendance , on average , at these locations in their first year post renovation .',\n",
       " 'these increases will only continue post-12 table of contentscovid-19 pandemic if attendance returns to normalized pre-covid-19 levels .',\n",
       " 'upon reopening a remodeled theatre , we typically increase the ticket price to reflect the enhanced consumer experience .',\n",
       " 'as of december 31 , 2020 , in our u.s. markets we featured recliner seating in approximately 339 u.s. theatres , including dine-in-theatres , totaling approximately 3,342 screens and representing 43.6 % of total u.s. screens .',\n",
       " 'in our international markets , as of december 31 , 2020 , we had recliner seating in approximately 77 international theatres , totaling approximately 533 screens and representing 18.5 % of total international screens .',\n",
       " 'open-source internet ticketing makes amcs entire universe of seats in the u.s. ( approximately 1.1 million as of december 31 , 2020 ) , for all our show times , as available as possible , on as many websites and mobile applications as possible .',\n",
       " 'our tickets are currently on sale either directly or through mobile apps , at our own website and our mobile apps and other third-party ticketing vendors .',\n",
       " 'for the year ended december 31 , 2020 , approximately 53.0 % of our tickets were purchased online in the u.s. , with approximately 76.0 % of total online tickets being purchased through amc.imaginative food and beverage initiatives .',\n",
       " 'our deployment initiatives also apply to food and beverage enhancements .',\n",
       " 'we have expanded our menu of enhanced food and beverage products to include meals , healthy snacks , premium beers , wine and mixed drinks , and other gourmet products .',\n",
       " 'our long-term growth strategy calls for investment across a spectrum of enhanced food and beverage formats , ranging from simple , less capital-intensive food and beverage design improvements to the development of new dine-in theatre options .',\n",
       " 'as a result of the covid-19 pandemic , we have temporarily modified our food and beverage operations to include more simplified concession menus , cashless transactions technology , hand sanitizer and disinfecting wipes , and condiment and drink refills available by request , all in an effort to reduce the number of touch-points between guests and employees .',\n",
       " 'we have also upgraded our coca-cola freestyle beverage machines to include a mobile app allowing guests to dispense drinks without the need to utilize the machines touch screen.our macguffins bar and lounges ( macguffins ) give us an opportunity to engage our legal age customers .',\n",
       " 'as of december 31 , 2020 , we offer alcohol in approximately 340 amc theatres in the u.s. markets and 251 theatres in our international markets and continue to explore expansion globally .',\n",
       " 'exciting premium large format offerings .',\n",
       " 'plf auditoriums generate our highest customer satisfaction scores , and we believe the investment in premium formats increases the value of the movie-going experience for our guests , ultimately leading to additional ticket revenue .',\n",
       " 'to that end we are committed to investing in and expanding our offerings of the best sight and sound experiences through a combination of our partnerships with imax and dolby cinemaTM and the further development of our own proprietary plf offering , amc prime.imax .',\n",
       " 'imax is one of the worlds leading entertainment technology companies , specializing in motion picture technologies and presentations .',\n",
       " 'as of december 31 , 2019 , amc was the largest imax exhibitor in the u.s. , with 188 ( 3 d enabled ) imax screens and a 56 % market share .',\n",
       " 'each one of our imax local installations is protected by geographic exclusivity , and as of december 31 , 2019 , our imax screen count was 98 % greater than our closest competitor .',\n",
       " 'we also operate 36 imax screens in europe .',\n",
       " 'as part of our long-term growth strategy , we expect to continue to expand our imax relationship across the u.s. and europe , further strengthening our position as the largest imax exhibitor in the u.s. and a leading imax exhibitor in the united kingdom and europe .',\n",
       " 'during the year ended december 31 , 2020 , we closed four imax screens related to u.s. theatres that were permanently closed and opened one new imax screen.dolby cinemaTM .',\n",
       " 'dolby cinemaTM offers a premium cinema offering for movie-goers that combines state-of-the-art image and sound technologies with inspired theatre design and comfort .',\n",
       " 'dolby cinemaTM at amc includes dolby visionTM laser projection and object-oriented dolby atmos audio technology , as well as amcs plush power reclining seats with seat transducers that vibrate with the action on screen.as of december 31 , 2020 , we operated 149 dolby cinemaTM at amc auditoriums in the u.s. in december 2018 , we introduced the first united kingdom dolby cinema auditorium in our iconic leicester square theatre in the heart of london , ending 2020 with six dolby cinemaTM auditoriums in europe .',\n",
       " 'we expect to expand the deployment of our innovative dolby cinemaTM auditoriums in both our u.s. and international markets as part of our long-term growth strategy.13 table of contentsin-house plf brands .',\n",
       " 'we also offer our private label plf experience at many of our locations , with superior sight and sound technology and enhanced seating as contrasted with our traditional auditoriums .',\n",
       " 'these proprietary plf auditoriums offers an enhanced theatrical experience for movie-goers beyond our current core theatres , at a lower price premium than imax or dolby cinemaTM .',\n",
       " 'therefore , it may be especially relevant in smaller or more price-sensitive markets .',\n",
       " 'as of december 31 , 2020 , we operated 54 screens under proprietary plf brand names in the u.s. markets and 75 screens in the international markets.the following table provides detail with respect to digital delivery , 3 d enabled projection , large screen formats , such as imax and our proprietary dolby cinemaTM , other plf screens , enhanced food and beverage offerings and our premium seating as deployed throughout our circuit on december 31 , 2020. this data represents available services in a pre-covid-19 environment .',\n",
       " 'due to mandated government attendance restrictions , the ability for guests to utilize all these amenities has been significantly curtailed u.s. marketsinternational marketsformat theatres screens theatres screensimax 184 185 36 36 dolby cinemaTM 149 149 6 6 other plf 54 54 74 75 dine-in theatres 51 723 2 8 premium seating 339 3,342 77 5333 ) expand and strategically close underperforming theatresour long-term growth strategy includes the deployment of our strategic growth initiatives , opening new-build theatres and continued exploration of small acquisitions .',\n",
       " 'by expanding our platform through disciplined new-build theatres and acquisitions , we are able to further deploy our proven strategic initiatives while further diversifying our consumer base , leading to greater appeal for more films .',\n",
       " 'the additional scale achieved through new-build theatres and acquisitions also serves to benefit amc through global procurement savings and increased overhead efficiencies .',\n",
       " 'we believe that expansion offers us additional opportunities to introduce our proven guest-focused strategies to new movie-goers and will generate meaningful benefits to guests , employees , studio partners and our shareholders .',\n",
       " 'during the year ended december 31 , 2020 , we reopened 18 screens to implement our strategy to install consumer experience upgrades .',\n",
       " 'as a result of the covid-19 pandemic , we have reduced capital expenditures significantly to maintenance levels and with the exception of prior commitments ( which included the 18 screens noted above ) , have eliminated growth capital expenditures at this time .',\n",
       " 'we can not currently determine when we will be able to resume our growth strategy.our long-term strategy also includes strategically closing underperforming theatres .',\n",
       " 'during the year ended december 31 , 2020 , we permanently closed 63 theatres with 593 screens for leased locations where we could not renegotiate an acceptable future rent term and also owned properties , where we are seeking to sell the real estate to monetize its value.the following table sets forth our historical information concerning new builds ( including expansions ) , acquisitions and dispositions ( including net construction closures ) and end-of-period operated theatres and screens through december 31 , 2020 permanent/temporary closures/ ( openings ) , new buildsacquisitionsnettotal theatres number of number of number of number of number of number of number of number of fiscal yeartheatresscreenstheatresscreenstheatresscreenstheatresscreens beginning balance 387 5,426 calendar 2016 2 17 520 5,201 3 86 906 10,558 calendar 2017 12 96 128 736 32 221 1,014 11,169 calendar 2018 11 89 4 39 23 206 1,006 11,091 calendar 2019 10 85 7 70 19 205 1,004 11,041 calendar 2020 8 63 1 14 63 575 950 10,543 43 350 660 6,060 140 1,29314 table of contentsour competitive strengthswe believe we have the following competitive strengths leading guest engagement through digital marketing and technology platforms .',\n",
       " 'through our amc stubs loyalty program , we have developed a consumer database of some 23.3 million households , representing approximately 50 million individuals .',\n",
       " 'our digital marketing and technology platforms allow us to engage with these customers frequently , efficiently and on a very personalized level .',\n",
       " 'we believe personalized data drives increased engagement , resulting in higher attendance.leading market share in important , affluent and diverse markets .',\n",
       " 'as of december 31 , 2019 , prior to the covid-19 pandemic , across our three biggest metropolitan markets in the united statesnew york , los angeles and chicago , representing 17 % of the countrys total box officewe held a 39 % combined market share .',\n",
       " 'we had theatres located in the top 25 u.s. markets , holding the # 1 or # 2 position in 21 of those 25 markets based on box office revenue .',\n",
       " 'during the year ended december 31 , 2020 , we sold our theatre operations in latvia and divested of 49 % of our interest in lithuania operations .',\n",
       " 'we are also the # 1 theatre operator in italy , sweden , norway , finland , and spain ; the # 2 operator in the united kingdom , ireland , and portugal ; and the # 4 operator in germany as of december 31 , 2019 , prior to the covid-19 pandemic .',\n",
       " 'analysis of market share data in 2020 is not meaningful given the effects of the covid-19 pandemic on the theatrical exhibition industry .',\n",
       " 'we believe our strong presence in these top markets makes our theatres highly visible and therefore strategically more important to content providers , who rely on the large audiences and marketing momentum provided by major markets to drive opinion-making and deliver a movies overall box office results.we also have a diversified footprint with complementary global geographic and guest demographic profiles .',\n",
       " 'we have theatres in more densely populated major metropolitan markets , where there is also a scarcity of attractive retail real estate opportunities , as well as complementary suburban and rural markets .',\n",
       " 'guests from different demographic and geographic profiles have different tastes in movies , and we believe by broadening our geographic base , we can help mitigate the impact of film genre volatility on our box office revenues.well located , highly productive theatres .',\n",
       " 'our theatres are generally located in the top retail centers across the united states .',\n",
       " 'we believe this provides for long-term visibility and higher productivity and is a key element in the success of our enhanced food and beverage and more comfort and convenience initiatives .',\n",
       " 'our location strategy , combined with our strong major market presence , enable us to deliver industry-leading theatre-level productivity .',\n",
       " 'during the year ended december 31 , 2019 , prior to the covid-19 pandemic , nine of the ten highest grossing theatres in the u.s. were amc theatres , according to data provided by comscore .',\n",
       " 'analysis of market share data in 2020 is not meaningful given the effects of the covid-19 pandemic on the theatrical exhibition industry .',\n",
       " 'during the same period , amcs u.s. markets average total revenues per theatre was approximately $ 6.3 million .',\n",
       " 'this per unit productivity is important not only to content providers , but also to developers and landlords , for whom per location and per square foot sales numbers are critical measures.amc classic theatres are located primarily in smaller , suburban and rural markets , which affects total revenues per theatre .',\n",
       " 'however , in general , theatres located in smaller suburban and rural markets tend to have less competition and a lower cost structure.in our international markets , many theatres are located in top retail centers in major metropolitan markets with high visibility .',\n",
       " 'we believe that deploying our proven strategic initiatives in these markets will help drive attendance and greatly improve productivity .',\n",
       " 'other theatres are in larger and mid-sized cities and towns in affluent regions.deployment of unique pricing structures to enhance revenue .']"
      ]
     },
     "execution_count": 1198,
     "metadata": {},
     "output_type": "execute_result"
    }
   ],
   "source": [
    "normdoc_tok[100:200]"
   ]
  },
  {
   "cell_type": "code",
   "execution_count": 1199,
   "id": "detected-right",
   "metadata": {},
   "outputs": [],
   "source": [
    "sample_sent = normdoc_tok[120]"
   ]
  },
  {
   "cell_type": "code",
   "execution_count": 1200,
   "id": "filled-hopkins",
   "metadata": {},
   "outputs": [],
   "source": [
    "normdoc_postag = nltk.pos_tag(word_tokenize(sample_sent))"
   ]
  },
  {
   "cell_type": "code",
   "execution_count": 1201,
   "id": "dental-supplier",
   "metadata": {},
   "outputs": [
    {
     "data": {
      "text/html": [
       "<div>\n",
       "<style scoped>\n",
       "    .dataframe tbody tr th:only-of-type {\n",
       "        vertical-align: middle;\n",
       "    }\n",
       "\n",
       "    .dataframe tbody tr th {\n",
       "        vertical-align: top;\n",
       "    }\n",
       "\n",
       "    .dataframe thead th {\n",
       "        text-align: right;\n",
       "    }\n",
       "</style>\n",
       "<table border=\"1\" class=\"dataframe\">\n",
       "  <thead>\n",
       "    <tr style=\"text-align: right;\">\n",
       "      <th></th>\n",
       "      <th>Word</th>\n",
       "      <th>Pos_tag</th>\n",
       "    </tr>\n",
       "  </thead>\n",
       "  <tbody>\n",
       "    <tr>\n",
       "      <th>0</th>\n",
       "      <td>rewards</td>\n",
       "      <td>NNS</td>\n",
       "    </tr>\n",
       "    <tr>\n",
       "      <th>1</th>\n",
       "      <td>earned</td>\n",
       "      <td>VBN</td>\n",
       "    </tr>\n",
       "    <tr>\n",
       "      <th>2</th>\n",
       "      <td>are</td>\n",
       "      <td>VBP</td>\n",
       "    </tr>\n",
       "    <tr>\n",
       "      <th>3</th>\n",
       "      <td>redeemable</td>\n",
       "      <td>JJ</td>\n",
       "    </tr>\n",
       "    <tr>\n",
       "      <th>4</th>\n",
       "      <td>on</td>\n",
       "      <td>IN</td>\n",
       "    </tr>\n",
       "    <tr>\n",
       "      <th>5</th>\n",
       "      <td>future</td>\n",
       "      <td>JJ</td>\n",
       "    </tr>\n",
       "    <tr>\n",
       "      <th>6</th>\n",
       "      <td>purchases</td>\n",
       "      <td>NNS</td>\n",
       "    </tr>\n",
       "    <tr>\n",
       "      <th>7</th>\n",
       "      <td>at</td>\n",
       "      <td>IN</td>\n",
       "    </tr>\n",
       "    <tr>\n",
       "      <th>8</th>\n",
       "      <td>amc</td>\n",
       "      <td>JJ</td>\n",
       "    </tr>\n",
       "    <tr>\n",
       "      <th>9</th>\n",
       "      <td>locations</td>\n",
       "      <td>NNS</td>\n",
       "    </tr>\n",
       "    <tr>\n",
       "      <th>10</th>\n",
       "      <td>.</td>\n",
       "      <td>.</td>\n",
       "    </tr>\n",
       "  </tbody>\n",
       "</table>\n",
       "</div>"
      ],
      "text/plain": [
       "          Word Pos_tag\n",
       "0      rewards     NNS\n",
       "1       earned     VBN\n",
       "2          are     VBP\n",
       "3   redeemable      JJ\n",
       "4           on      IN\n",
       "5       future      JJ\n",
       "6    purchases     NNS\n",
       "7           at      IN\n",
       "8          amc      JJ\n",
       "9    locations     NNS\n",
       "10           .       ."
      ]
     },
     "execution_count": 1201,
     "metadata": {},
     "output_type": "execute_result"
    }
   ],
   "source": [
    "pd.DataFrame(normdoc_postag,columns = ['Word','Pos_tag'])"
   ]
  },
  {
   "cell_type": "markdown",
   "id": "proprietary-breeding",
   "metadata": {},
   "source": [
    "#### Spacy"
   ]
  },
  {
   "cell_type": "code",
   "execution_count": 1250,
   "id": "passive-westminster",
   "metadata": {},
   "outputs": [],
   "source": [
    "line_spacy = nlp(sample_sent)    "
   ]
  },
  {
   "cell_type": "code",
   "execution_count": 1251,
   "id": "manufactured-dancing",
   "metadata": {},
   "outputs": [
    {
     "data": {
      "text/html": [
       "<div>\n",
       "<style scoped>\n",
       "    .dataframe tbody tr th:only-of-type {\n",
       "        vertical-align: middle;\n",
       "    }\n",
       "\n",
       "    .dataframe tbody tr th {\n",
       "        vertical-align: top;\n",
       "    }\n",
       "\n",
       "    .dataframe thead th {\n",
       "        text-align: right;\n",
       "    }\n",
       "</style>\n",
       "<table border=\"1\" class=\"dataframe\">\n",
       "  <thead>\n",
       "    <tr style=\"text-align: right;\">\n",
       "      <th></th>\n",
       "      <th>word</th>\n",
       "      <th>tag</th>\n",
       "      <th>Pos_tag</th>\n",
       "    </tr>\n",
       "  </thead>\n",
       "  <tbody>\n",
       "    <tr>\n",
       "      <th>0</th>\n",
       "      <td>rewards</td>\n",
       "      <td>NNS</td>\n",
       "      <td>NOUN</td>\n",
       "    </tr>\n",
       "    <tr>\n",
       "      <th>1</th>\n",
       "      <td>earned</td>\n",
       "      <td>VBN</td>\n",
       "      <td>VERB</td>\n",
       "    </tr>\n",
       "    <tr>\n",
       "      <th>2</th>\n",
       "      <td>are</td>\n",
       "      <td>VBP</td>\n",
       "      <td>AUX</td>\n",
       "    </tr>\n",
       "    <tr>\n",
       "      <th>3</th>\n",
       "      <td>redeemable</td>\n",
       "      <td>VBN</td>\n",
       "      <td>VERB</td>\n",
       "    </tr>\n",
       "    <tr>\n",
       "      <th>4</th>\n",
       "      <td>on</td>\n",
       "      <td>IN</td>\n",
       "      <td>ADP</td>\n",
       "    </tr>\n",
       "    <tr>\n",
       "      <th>5</th>\n",
       "      <td>future</td>\n",
       "      <td>JJ</td>\n",
       "      <td>ADJ</td>\n",
       "    </tr>\n",
       "    <tr>\n",
       "      <th>6</th>\n",
       "      <td>purchases</td>\n",
       "      <td>NNS</td>\n",
       "      <td>NOUN</td>\n",
       "    </tr>\n",
       "    <tr>\n",
       "      <th>7</th>\n",
       "      <td>at</td>\n",
       "      <td>IN</td>\n",
       "      <td>ADP</td>\n",
       "    </tr>\n",
       "    <tr>\n",
       "      <th>8</th>\n",
       "      <td>amc</td>\n",
       "      <td>NNP</td>\n",
       "      <td>PROPN</td>\n",
       "    </tr>\n",
       "    <tr>\n",
       "      <th>9</th>\n",
       "      <td>locations</td>\n",
       "      <td>NNS</td>\n",
       "      <td>NOUN</td>\n",
       "    </tr>\n",
       "    <tr>\n",
       "      <th>10</th>\n",
       "      <td>.</td>\n",
       "      <td>.</td>\n",
       "      <td>PUNCT</td>\n",
       "    </tr>\n",
       "  </tbody>\n",
       "</table>\n",
       "</div>"
      ],
      "text/plain": [
       "          word  tag Pos_tag\n",
       "0      rewards  NNS    NOUN\n",
       "1       earned  VBN    VERB\n",
       "2          are  VBP     AUX\n",
       "3   redeemable  VBN    VERB\n",
       "4           on   IN     ADP\n",
       "5       future   JJ     ADJ\n",
       "6    purchases  NNS    NOUN\n",
       "7           at   IN     ADP\n",
       "8          amc  NNP   PROPN\n",
       "9    locations  NNS    NOUN\n",
       "10           .    .   PUNCT"
      ]
     },
     "execution_count": 1251,
     "metadata": {},
     "output_type": "execute_result"
    }
   ],
   "source": [
    "pd.DataFrame([(word, word.tag_, word.pos_) for word in line_spacy],columns = ['word','tag','Pos_tag'])"
   ]
  },
  {
   "cell_type": "markdown",
   "id": "alpha-pocket",
   "metadata": {},
   "source": [
    "<B>Spacy performs better at POS tagging </B>"
   ]
  },
  {
   "cell_type": "markdown",
   "id": "indie-cocktail",
   "metadata": {},
   "source": [
    "## Chunking "
   ]
  },
  {
   "cell_type": "markdown",
   "id": "psychological-negotiation",
   "metadata": {},
   "source": [
    "#### nltk"
   ]
  },
  {
   "cell_type": "code",
   "execution_count": 1205,
   "id": "worth-cancer",
   "metadata": {},
   "outputs": [],
   "source": [
    "grammar = \"NP: {<DT>?<JJ>*<NN>}\""
   ]
  },
  {
   "cell_type": "code",
   "execution_count": 1206,
   "id": "figured-dover",
   "metadata": {},
   "outputs": [],
   "source": [
    "cp = nltk.RegexpParser(grammar)"
   ]
  },
  {
   "cell_type": "code",
   "execution_count": 1207,
   "id": "martial-thomson",
   "metadata": {},
   "outputs": [],
   "source": [
    "result = cp.parse(normdoc_postag)"
   ]
  },
  {
   "cell_type": "code",
   "execution_count": 1208,
   "id": "miniature-mortality",
   "metadata": {},
   "outputs": [
    {
     "name": "stdout",
     "output_type": "stream",
     "text": [
      "(S\n",
      "  rewards/NNS\n",
      "  earned/VBN\n",
      "  are/VBP\n",
      "  redeemable/JJ\n",
      "  on/IN\n",
      "  future/JJ\n",
      "  purchases/NNS\n",
      "  at/IN\n",
      "  amc/JJ\n",
      "  locations/NNS\n",
      "  ./.)\n"
     ]
    }
   ],
   "source": [
    "print(result)"
   ]
  },
  {
   "cell_type": "code",
   "execution_count": 1209,
   "id": "identical-certificate",
   "metadata": {},
   "outputs": [],
   "source": [
    "#result.draw() ## Taking long to run"
   ]
  },
  {
   "cell_type": "code",
   "execution_count": 1210,
   "id": "gorgeous-senator",
   "metadata": {},
   "outputs": [
    {
     "name": "stderr",
     "output_type": "stream",
     "text": [
      "[nltk_data] Downloading package conll2000 to\n",
      "[nltk_data]     /Users/vaishali/nltk_data...\n",
      "[nltk_data]   Package conll2000 is already up-to-date!\n"
     ]
    },
    {
     "data": {
      "text/plain": [
       "True"
      ]
     },
     "execution_count": 1210,
     "metadata": {},
     "output_type": "execute_result"
    }
   ],
   "source": [
    "nltk.download('conll2000')"
   ]
  },
  {
   "cell_type": "code",
   "execution_count": 1211,
   "id": "valuable-labor",
   "metadata": {},
   "outputs": [
    {
     "name": "stdout",
     "output_type": "stream",
     "text": [
      "10900 48\n",
      "(S\n",
      "  Chancellor/NNP\n",
      "  (PP of/IN)\n",
      "  (NP the/DT Exchequer/NNP)\n",
      "  (NP Nigel/NNP Lawson/NNP)\n",
      "  (NP 's/POS restated/VBN commitment/NN)\n",
      "  (PP to/TO)\n",
      "  (NP a/DT firm/NN monetary/JJ policy/NN)\n",
      "  (VP has/VBZ helped/VBN to/TO prevent/VB)\n",
      "  (NP a/DT freefall/NN)\n",
      "  (PP in/IN)\n",
      "  (NP sterling/NN)\n",
      "  (PP over/IN)\n",
      "  (NP the/DT past/JJ week/NN)\n",
      "  ./.)\n"
     ]
    }
   ],
   "source": [
    "#### We will use a pre existing corpus to train a  shallow parser.\n",
    "\n",
    "data = conll2000.chunked_sents()\n",
    "train_data = data[:10900]\n",
    "test_data = data[10900:] \n",
    "\n",
    "print(len(train_data), len(test_data))\n",
    "print(train_data[1]) "
   ]
  },
  {
   "cell_type": "code",
   "execution_count": 1212,
   "id": "earned-generic",
   "metadata": {},
   "outputs": [
    {
     "data": {
      "text/plain": [
       "[('Chancellor', 'NNP', 'O'),\n",
       " ('of', 'IN', 'B-PP'),\n",
       " ('the', 'DT', 'B-NP'),\n",
       " ('Exchequer', 'NNP', 'I-NP'),\n",
       " ('Nigel', 'NNP', 'B-NP'),\n",
       " ('Lawson', 'NNP', 'I-NP'),\n",
       " (\"'s\", 'POS', 'B-NP'),\n",
       " ('restated', 'VBN', 'I-NP'),\n",
       " ('commitment', 'NN', 'I-NP'),\n",
       " ('to', 'TO', 'B-PP'),\n",
       " ('a', 'DT', 'B-NP'),\n",
       " ('firm', 'NN', 'I-NP'),\n",
       " ('monetary', 'JJ', 'I-NP'),\n",
       " ('policy', 'NN', 'I-NP'),\n",
       " ('has', 'VBZ', 'B-VP'),\n",
       " ('helped', 'VBN', 'I-VP'),\n",
       " ('to', 'TO', 'I-VP'),\n",
       " ('prevent', 'VB', 'I-VP'),\n",
       " ('a', 'DT', 'B-NP'),\n",
       " ('freefall', 'NN', 'I-NP'),\n",
       " ('in', 'IN', 'B-PP'),\n",
       " ('sterling', 'NN', 'B-NP'),\n",
       " ('over', 'IN', 'B-PP'),\n",
       " ('the', 'DT', 'B-NP'),\n",
       " ('past', 'JJ', 'I-NP'),\n",
       " ('week', 'NN', 'I-NP'),\n",
       " ('.', '.', 'O')]"
      ]
     },
     "execution_count": 1212,
     "metadata": {},
     "output_type": "execute_result"
    }
   ],
   "source": [
    "wtc = tree2conlltags(train_data[1])\n",
    "wtc"
   ]
  },
  {
   "cell_type": "code",
   "execution_count": 1213,
   "id": "driven-familiar",
   "metadata": {},
   "outputs": [],
   "source": [
    "def conll_tag_chunks(chunk_sents):\n",
    "    tagged_sents = [tree2conlltags(tree) for tree in chunk_sents]\n",
    "    return [[(t, c) for (w, t, c) in sent] for sent in tagged_sents]\n",
    "\n",
    "\n",
    "def combined_tagger(train_data, taggers, backoff=None):\n",
    "    for tagger in taggers:\n",
    "        backoff = tagger(train_data, backoff=backoff)\n",
    "    return backoff "
   ]
  },
  {
   "cell_type": "code",
   "execution_count": 1214,
   "id": "tender-charge",
   "metadata": {},
   "outputs": [],
   "source": [
    "from nltk.tag import UnigramTagger, BigramTagger\n",
    "from nltk.chunk import ChunkParserI\n",
    "\n",
    "# define the chunker class\n",
    "class NGramTagChunker(ChunkParserI):\n",
    "    def __init__(self, train_sentences, \n",
    "               tagger_classes=[UnigramTagger, BigramTagger]):\n",
    "        train_sent_tags = conll_tag_chunks(train_sentences)\n",
    "        self.chunk_tagger = combined_tagger(train_sent_tags, tagger_classes)\n",
    "    \n",
    "    \n",
    "    def parse(self, tagged_sentence):\n",
    "        if not tagged_sentence: \n",
    "            return None\n",
    "        pos_tags = [tag for word, tag in tagged_sentence]\n",
    "        chunk_pos_tags = self.chunk_tagger.tag(pos_tags)\n",
    "        chunk_tags = [chunk_tag for (pos_tag, chunk_tag) in chunk_pos_tags]\n",
    "        wpc_tags = [(word, pos_tag, chunk_tag) for ((word, pos_tag), chunk_tag)\n",
    "                     in zip(tagged_sentence, chunk_tags)]\n",
    "        return conlltags2tree(wpc_tags)"
   ]
  },
  {
   "cell_type": "code",
   "execution_count": 1215,
   "id": "sapphire-justice",
   "metadata": {},
   "outputs": [],
   "source": [
    "ntc = NGramTagChunker(train_data)"
   ]
  },
  {
   "cell_type": "code",
   "execution_count": 1216,
   "id": "scientific-chrome",
   "metadata": {},
   "outputs": [
    {
     "name": "stdout",
     "output_type": "stream",
     "text": [
      "ChunkParse score:\n",
      "    IOB Accuracy:  90.0%%\n",
      "    Precision:     82.1%%\n",
      "    Recall:        86.3%%\n",
      "    F-Measure:     84.1%%\n"
     ]
    }
   ],
   "source": [
    "print(ntc.evaluate(test_data))"
   ]
  },
  {
   "cell_type": "code",
   "execution_count": 1217,
   "id": "seven-insider",
   "metadata": {},
   "outputs": [],
   "source": [
    "chunk_tree = ntc.parse(normdoc_postag)"
   ]
  },
  {
   "cell_type": "code",
   "execution_count": 1218,
   "id": "radio-pavilion",
   "metadata": {},
   "outputs": [
    {
     "name": "stdout",
     "output_type": "stream",
     "text": [
      "(S\n",
      "  (NP rewards/NNS earned/VBN)\n",
      "  (VP are/VBP)\n",
      "  (NP redeemable/JJ)\n",
      "  (PP on/IN)\n",
      "  (NP future/JJ purchases/NNS)\n",
      "  (PP at/IN)\n",
      "  (NP amc/JJ locations/NNS)\n",
      "  ./.)\n"
     ]
    }
   ],
   "source": [
    "print(chunk_tree)"
   ]
  },
  {
   "cell_type": "code",
   "execution_count": 1220,
   "id": "turkish-village",
   "metadata": {},
   "outputs": [],
   "source": [
    "from nltk.corpus import treebank"
   ]
  },
  {
   "cell_type": "code",
   "execution_count": 1221,
   "id": "introductory-material",
   "metadata": {},
   "outputs": [],
   "source": [
    "#!brew install ghostscript"
   ]
  },
  {
   "cell_type": "code",
   "execution_count": 1222,
   "id": "labeled-hindu",
   "metadata": {},
   "outputs": [
    {
     "data": {
      "image/png": "[encoded data removed]",
      "text/plain": [
       "Tree('S', [Tree('NP', [('rewards', 'NNS'), ('earned', 'VBN')]), Tree('VP', [('are', 'VBP')]), Tree('NP', [('redeemable', 'JJ')]), Tree('PP', [('on', 'IN')]), Tree('NP', [('future', 'JJ'), ('purchases', 'NNS')]), Tree('PP', [('at', 'IN')]), Tree('NP', [('amc', 'JJ'), ('locations', 'NNS')]), ('.', '.')])"
      ]
     },
     "execution_count": 1222,
     "metadata": {},
     "output_type": "execute_result"
    }
   ],
   "source": [
    "chunk_tree"
   ]
  },
  {
   "cell_type": "markdown",
   "id": "selective-speech",
   "metadata": {},
   "source": [
    "#### spacy"
   ]
  },
  {
   "cell_type": "code",
   "execution_count": 1252,
   "id": "sonic-profit",
   "metadata": {},
   "outputs": [],
   "source": [
    "from spacy import displacy"
   ]
  },
  {
   "cell_type": "code",
   "execution_count": 1253,
   "id": "dirty-current",
   "metadata": {},
   "outputs": [
    {
     "data": {
      "text/html": [
       "<span class=\"tex2jax_ignore\"><svg xmlns=\"http://www.w3.org/2000/svg\" xmlns:xlink=\"http://www.w3.org/1999/xlink\" xml:lang=\"en\" id=\"d296e04e67fd45e4905eda46c83c22e5-0\" class=\"displacy\" width=\"1800\" height=\"312.0\" direction=\"ltr\" style=\"max-width: none; height: 312.0px; color: #000000; background: #ffffff; font-family: Arial; direction: ltr\">\n",
       "<text class=\"displacy-token\" fill=\"currentColor\" text-anchor=\"middle\" y=\"222.0\">\n",
       "    <tspan class=\"displacy-word\" fill=\"currentColor\" x=\"50\">rewards</tspan>\n",
       "    <tspan class=\"displacy-tag\" dy=\"2em\" fill=\"currentColor\" x=\"50\">NOUN</tspan>\n",
       "</text>\n",
       "\n",
       "<text class=\"displacy-token\" fill=\"currentColor\" text-anchor=\"middle\" y=\"222.0\">\n",
       "    <tspan class=\"displacy-word\" fill=\"currentColor\" x=\"225\">earned</tspan>\n",
       "    <tspan class=\"displacy-tag\" dy=\"2em\" fill=\"currentColor\" x=\"225\">VERB</tspan>\n",
       "</text>\n",
       "\n",
       "<text class=\"displacy-token\" fill=\"currentColor\" text-anchor=\"middle\" y=\"222.0\">\n",
       "    <tspan class=\"displacy-word\" fill=\"currentColor\" x=\"400\">are</tspan>\n",
       "    <tspan class=\"displacy-tag\" dy=\"2em\" fill=\"currentColor\" x=\"400\">AUX</tspan>\n",
       "</text>\n",
       "\n",
       "<text class=\"displacy-token\" fill=\"currentColor\" text-anchor=\"middle\" y=\"222.0\">\n",
       "    <tspan class=\"displacy-word\" fill=\"currentColor\" x=\"575\">redeemable</tspan>\n",
       "    <tspan class=\"displacy-tag\" dy=\"2em\" fill=\"currentColor\" x=\"575\">VERB</tspan>\n",
       "</text>\n",
       "\n",
       "<text class=\"displacy-token\" fill=\"currentColor\" text-anchor=\"middle\" y=\"222.0\">\n",
       "    <tspan class=\"displacy-word\" fill=\"currentColor\" x=\"750\">on</tspan>\n",
       "    <tspan class=\"displacy-tag\" dy=\"2em\" fill=\"currentColor\" x=\"750\">ADP</tspan>\n",
       "</text>\n",
       "\n",
       "<text class=\"displacy-token\" fill=\"currentColor\" text-anchor=\"middle\" y=\"222.0\">\n",
       "    <tspan class=\"displacy-word\" fill=\"currentColor\" x=\"925\">future</tspan>\n",
       "    <tspan class=\"displacy-tag\" dy=\"2em\" fill=\"currentColor\" x=\"925\">ADJ</tspan>\n",
       "</text>\n",
       "\n",
       "<text class=\"displacy-token\" fill=\"currentColor\" text-anchor=\"middle\" y=\"222.0\">\n",
       "    <tspan class=\"displacy-word\" fill=\"currentColor\" x=\"1100\">purchases</tspan>\n",
       "    <tspan class=\"displacy-tag\" dy=\"2em\" fill=\"currentColor\" x=\"1100\">NOUN</tspan>\n",
       "</text>\n",
       "\n",
       "<text class=\"displacy-token\" fill=\"currentColor\" text-anchor=\"middle\" y=\"222.0\">\n",
       "    <tspan class=\"displacy-word\" fill=\"currentColor\" x=\"1275\">at</tspan>\n",
       "    <tspan class=\"displacy-tag\" dy=\"2em\" fill=\"currentColor\" x=\"1275\">ADP</tspan>\n",
       "</text>\n",
       "\n",
       "<text class=\"displacy-token\" fill=\"currentColor\" text-anchor=\"middle\" y=\"222.0\">\n",
       "    <tspan class=\"displacy-word\" fill=\"currentColor\" x=\"1450\">amc</tspan>\n",
       "    <tspan class=\"displacy-tag\" dy=\"2em\" fill=\"currentColor\" x=\"1450\">PROPN</tspan>\n",
       "</text>\n",
       "\n",
       "<text class=\"displacy-token\" fill=\"currentColor\" text-anchor=\"middle\" y=\"222.0\">\n",
       "    <tspan class=\"displacy-word\" fill=\"currentColor\" x=\"1625\">locations .</tspan>\n",
       "    <tspan class=\"displacy-tag\" dy=\"2em\" fill=\"currentColor\" x=\"1625\">NOUN</tspan>\n",
       "</text>\n",
       "\n",
       "<g class=\"displacy-arrow\">\n",
       "    <path class=\"displacy-arc\" id=\"arrow-d296e04e67fd45e4905eda46c83c22e5-0-0\" stroke-width=\"2px\" d=\"M70,177.0 C70,2.0 400.0,2.0 400.0,177.0\" fill=\"none\" stroke=\"currentColor\"/>\n",
       "    <text dy=\"1.25em\" style=\"font-size: 0.8em; letter-spacing: 1px\">\n",
       "        <textPath xlink:href=\"#arrow-d296e04e67fd45e4905eda46c83c22e5-0-0\" class=\"displacy-label\" startOffset=\"50%\" side=\"left\" fill=\"currentColor\" text-anchor=\"middle\">nsubj</textPath>\n",
       "    </text>\n",
       "    <path class=\"displacy-arrowhead\" d=\"M70,179.0 L62,167.0 78,167.0\" fill=\"currentColor\"/>\n",
       "</g>\n",
       "\n",
       "<g class=\"displacy-arrow\">\n",
       "    <path class=\"displacy-arc\" id=\"arrow-d296e04e67fd45e4905eda46c83c22e5-0-1\" stroke-width=\"2px\" d=\"M70,177.0 C70,89.5 220.0,89.5 220.0,177.0\" fill=\"none\" stroke=\"currentColor\"/>\n",
       "    <text dy=\"1.25em\" style=\"font-size: 0.8em; letter-spacing: 1px\">\n",
       "        <textPath xlink:href=\"#arrow-d296e04e67fd45e4905eda46c83c22e5-0-1\" class=\"displacy-label\" startOffset=\"50%\" side=\"left\" fill=\"currentColor\" text-anchor=\"middle\">acl</textPath>\n",
       "    </text>\n",
       "    <path class=\"displacy-arrowhead\" d=\"M220.0,179.0 L228.0,167.0 212.0,167.0\" fill=\"currentColor\"/>\n",
       "</g>\n",
       "\n",
       "<g class=\"displacy-arrow\">\n",
       "    <path class=\"displacy-arc\" id=\"arrow-d296e04e67fd45e4905eda46c83c22e5-0-2\" stroke-width=\"2px\" d=\"M420,177.0 C420,89.5 570.0,89.5 570.0,177.0\" fill=\"none\" stroke=\"currentColor\"/>\n",
       "    <text dy=\"1.25em\" style=\"font-size: 0.8em; letter-spacing: 1px\">\n",
       "        <textPath xlink:href=\"#arrow-d296e04e67fd45e4905eda46c83c22e5-0-2\" class=\"displacy-label\" startOffset=\"50%\" side=\"left\" fill=\"currentColor\" text-anchor=\"middle\">acomp</textPath>\n",
       "    </text>\n",
       "    <path class=\"displacy-arrowhead\" d=\"M570.0,179.0 L578.0,167.0 562.0,167.0\" fill=\"currentColor\"/>\n",
       "</g>\n",
       "\n",
       "<g class=\"displacy-arrow\">\n",
       "    <path class=\"displacy-arc\" id=\"arrow-d296e04e67fd45e4905eda46c83c22e5-0-3\" stroke-width=\"2px\" d=\"M595,177.0 C595,89.5 745.0,89.5 745.0,177.0\" fill=\"none\" stroke=\"currentColor\"/>\n",
       "    <text dy=\"1.25em\" style=\"font-size: 0.8em; letter-spacing: 1px\">\n",
       "        <textPath xlink:href=\"#arrow-d296e04e67fd45e4905eda46c83c22e5-0-3\" class=\"displacy-label\" startOffset=\"50%\" side=\"left\" fill=\"currentColor\" text-anchor=\"middle\">prep</textPath>\n",
       "    </text>\n",
       "    <path class=\"displacy-arrowhead\" d=\"M745.0,179.0 L753.0,167.0 737.0,167.0\" fill=\"currentColor\"/>\n",
       "</g>\n",
       "\n",
       "<g class=\"displacy-arrow\">\n",
       "    <path class=\"displacy-arc\" id=\"arrow-d296e04e67fd45e4905eda46c83c22e5-0-4\" stroke-width=\"2px\" d=\"M945,177.0 C945,89.5 1095.0,89.5 1095.0,177.0\" fill=\"none\" stroke=\"currentColor\"/>\n",
       "    <text dy=\"1.25em\" style=\"font-size: 0.8em; letter-spacing: 1px\">\n",
       "        <textPath xlink:href=\"#arrow-d296e04e67fd45e4905eda46c83c22e5-0-4\" class=\"displacy-label\" startOffset=\"50%\" side=\"left\" fill=\"currentColor\" text-anchor=\"middle\">amod</textPath>\n",
       "    </text>\n",
       "    <path class=\"displacy-arrowhead\" d=\"M945,179.0 L937,167.0 953,167.0\" fill=\"currentColor\"/>\n",
       "</g>\n",
       "\n",
       "<g class=\"displacy-arrow\">\n",
       "    <path class=\"displacy-arc\" id=\"arrow-d296e04e67fd45e4905eda46c83c22e5-0-5\" stroke-width=\"2px\" d=\"M770,177.0 C770,2.0 1100.0,2.0 1100.0,177.0\" fill=\"none\" stroke=\"currentColor\"/>\n",
       "    <text dy=\"1.25em\" style=\"font-size: 0.8em; letter-spacing: 1px\">\n",
       "        <textPath xlink:href=\"#arrow-d296e04e67fd45e4905eda46c83c22e5-0-5\" class=\"displacy-label\" startOffset=\"50%\" side=\"left\" fill=\"currentColor\" text-anchor=\"middle\">pobj</textPath>\n",
       "    </text>\n",
       "    <path class=\"displacy-arrowhead\" d=\"M1100.0,179.0 L1108.0,167.0 1092.0,167.0\" fill=\"currentColor\"/>\n",
       "</g>\n",
       "\n",
       "<g class=\"displacy-arrow\">\n",
       "    <path class=\"displacy-arc\" id=\"arrow-d296e04e67fd45e4905eda46c83c22e5-0-6\" stroke-width=\"2px\" d=\"M1120,177.0 C1120,89.5 1270.0,89.5 1270.0,177.0\" fill=\"none\" stroke=\"currentColor\"/>\n",
       "    <text dy=\"1.25em\" style=\"font-size: 0.8em; letter-spacing: 1px\">\n",
       "        <textPath xlink:href=\"#arrow-d296e04e67fd45e4905eda46c83c22e5-0-6\" class=\"displacy-label\" startOffset=\"50%\" side=\"left\" fill=\"currentColor\" text-anchor=\"middle\">prep</textPath>\n",
       "    </text>\n",
       "    <path class=\"displacy-arrowhead\" d=\"M1270.0,179.0 L1278.0,167.0 1262.0,167.0\" fill=\"currentColor\"/>\n",
       "</g>\n",
       "\n",
       "<g class=\"displacy-arrow\">\n",
       "    <path class=\"displacy-arc\" id=\"arrow-d296e04e67fd45e4905eda46c83c22e5-0-7\" stroke-width=\"2px\" d=\"M1470,177.0 C1470,89.5 1620.0,89.5 1620.0,177.0\" fill=\"none\" stroke=\"currentColor\"/>\n",
       "    <text dy=\"1.25em\" style=\"font-size: 0.8em; letter-spacing: 1px\">\n",
       "        <textPath xlink:href=\"#arrow-d296e04e67fd45e4905eda46c83c22e5-0-7\" class=\"displacy-label\" startOffset=\"50%\" side=\"left\" fill=\"currentColor\" text-anchor=\"middle\">compound</textPath>\n",
       "    </text>\n",
       "    <path class=\"displacy-arrowhead\" d=\"M1470,179.0 L1462,167.0 1478,167.0\" fill=\"currentColor\"/>\n",
       "</g>\n",
       "\n",
       "<g class=\"displacy-arrow\">\n",
       "    <path class=\"displacy-arc\" id=\"arrow-d296e04e67fd45e4905eda46c83c22e5-0-8\" stroke-width=\"2px\" d=\"M1295,177.0 C1295,2.0 1625.0,2.0 1625.0,177.0\" fill=\"none\" stroke=\"currentColor\"/>\n",
       "    <text dy=\"1.25em\" style=\"font-size: 0.8em; letter-spacing: 1px\">\n",
       "        <textPath xlink:href=\"#arrow-d296e04e67fd45e4905eda46c83c22e5-0-8\" class=\"displacy-label\" startOffset=\"50%\" side=\"left\" fill=\"currentColor\" text-anchor=\"middle\">pobj</textPath>\n",
       "    </text>\n",
       "    <path class=\"displacy-arrowhead\" d=\"M1625.0,179.0 L1633.0,167.0 1617.0,167.0\" fill=\"currentColor\"/>\n",
       "</g>\n",
       "</svg></span>"
      ],
      "text/plain": [
       "<IPython.core.display.HTML object>"
      ]
     },
     "metadata": {},
     "output_type": "display_data"
    }
   ],
   "source": [
    "displacy.render(line_spacy, style=\"dep\")"
   ]
  },
  {
   "cell_type": "code",
   "execution_count": 1272,
   "id": "korean-sense",
   "metadata": {},
   "outputs": [],
   "source": [
    "sample_ner = normdoc_tok[200:300]"
   ]
  },
  {
   "cell_type": "code",
   "execution_count": 1275,
   "id": "expressed-defense",
   "metadata": {
    "collapsed": true,
    "jupyter": {
     "outputs_hidden": true
    }
   },
   "outputs": [
    {
     "name": "stdout",
     "output_type": "stream",
     "text": [
      "[]\n"
     ]
    },
    {
     "data": {
      "text/html": [
       "<span class=\"tex2jax_ignore\"><div class=\"entities\" style=\"line-height: 2.5; direction: ltr\">amc has developed a dedicated pricing department and , as a result , we have deployed several different strategic pricing structures that have increased revenue and profitability .</div></span>"
      ],
      "text/plain": [
       "<IPython.core.display.HTML object>"
      ]
     },
     "metadata": {},
     "output_type": "display_data"
    },
    {
     "name": "stdout",
     "output_type": "stream",
     "text": [
      "[]\n"
     ]
    },
    {
     "data": {
      "text/html": [
       "<span class=\"tex2jax_ignore\"><div class=\"entities\" style=\"line-height: 2.5; direction: ltr\">in \n",
       "<mark class=\"entity\" style=\"background: #bfe1d9; padding: 0.45em 0.6em; margin: 0 0.25em; line-height: 1; border-radius: 0.35em;\">\n",
       "    june 2018\n",
       "    <span style=\"font-size: 0.8em; font-weight: bold; line-height: 1; border-radius: 0.35em; vertical-align: middle; margin-left: 0.5rem\">DATE</span>\n",
       "</mark>\n",
       " , we launched amc stubs a-list , a subscription pricing structure that offers members \n",
       "<mark class=\"entity\" style=\"background: #e4e7d2; padding: 0.45em 0.6em; margin: 0 0.25em; line-height: 1; border-radius: 0.35em;\">\n",
       "    three\n",
       "    <span style=\"font-size: 0.8em; font-weight: bold; line-height: 1; border-radius: 0.35em; vertical-align: middle; margin-left: 0.5rem\">CARDINAL</span>\n",
       "</mark>\n",
       " movies a week , including premium formats , for a \n",
       "<mark class=\"entity\" style=\"background: #bfe1d9; padding: 0.45em 0.6em; margin: 0 0.25em; line-height: 1; border-radius: 0.35em;\">\n",
       "    monthly\n",
       "    <span style=\"font-size: 0.8em; font-weight: bold; line-height: 1; border-radius: 0.35em; vertical-align: middle; margin-left: 0.5rem\">DATE</span>\n",
       "</mark>\n",
       " fee ranging from $ \n",
       "<mark class=\"entity\" style=\"background: #e4e7d2; padding: 0.45em 0.6em; margin: 0 0.25em; line-height: 1; border-radius: 0.35em;\">\n",
       "    19.95\n",
       "    <span style=\"font-size: 0.8em; font-weight: bold; line-height: 1; border-radius: 0.35em; vertical-align: middle; margin-left: 0.5rem\">MONEY</span>\n",
       "</mark>\n",
       " to $ \n",
       "<mark class=\"entity\" style=\"background: #e4e7d2; padding: 0.45em 0.6em; margin: 0 0.25em; line-height: 1; border-radius: 0.35em;\">\n",
       "    23.95\n",
       "    <span style=\"font-size: 0.8em; font-weight: bold; line-height: 1; border-radius: 0.35em; vertical-align: middle; margin-left: 0.5rem\">MONEY</span>\n",
       "</mark>\n",
       " depending on geographical location .</div></span>"
      ],
      "text/plain": [
       "<IPython.core.display.HTML object>"
      ]
     },
     "metadata": {},
     "output_type": "display_data"
    },
    {
     "name": "stdout",
     "output_type": "stream",
     "text": [
      "[]\n"
     ]
    },
    {
     "data": {
      "text/html": [
       "<span class=\"tex2jax_ignore\"><div class=\"entities\" style=\"line-height: 2.5; direction: ltr\">around the same time , we launched discount \n",
       "<mark class=\"entity\" style=\"background: #bfe1d9; padding: 0.45em 0.6em; margin: 0 0.25em; line-height: 1; border-radius: 0.35em;\">\n",
       "    tuesday\n",
       "    <span style=\"font-size: 0.8em; font-weight: bold; line-height: 1; border-radius: 0.35em; vertical-align: middle; margin-left: 0.5rem\">DATE</span>\n",
       "</mark>\n",
       " which offers amc stubs members a reduced price for movie attendance on \n",
       "<mark class=\"entity\" style=\"background: #bfe1d9; padding: 0.45em 0.6em; margin: 0 0.25em; line-height: 1; border-radius: 0.35em;\">\n",
       "    tuesdays\n",
       "    <span style=\"font-size: 0.8em; font-weight: bold; line-height: 1; border-radius: 0.35em; vertical-align: middle; margin-left: 0.5rem\">DATE</span>\n",
       "</mark>\n",
       " .</div></span>"
      ],
      "text/plain": [
       "<IPython.core.display.HTML object>"
      ]
     },
     "metadata": {},
     "output_type": "display_data"
    },
    {
     "name": "stdout",
     "output_type": "stream",
     "text": [
      "[]\n"
     ]
    },
    {
     "data": {
      "text/html": [
       "<span class=\"tex2jax_ignore\"><div class=\"entities\" style=\"line-height: 2.5; direction: ltr\">prior to the covid-19 pandemic , the results showed an incremental increase in attendance and corresponding increase in admissions and food and beverage revenue .</div></span>"
      ],
      "text/plain": [
       "<IPython.core.display.HTML object>"
      ]
     },
     "metadata": {},
     "output_type": "display_data"
    },
    {
     "name": "stdout",
     "output_type": "stream",
     "text": [
      "[]\n"
     ]
    },
    {
     "data": {
      "text/html": [
       "<span class=\"tex2jax_ignore\"><div class=\"entities\" style=\"line-height: 2.5; direction: ltr\">\n",
       "<mark class=\"entity\" style=\"background: #e4e7d2; padding: 0.45em 0.6em; margin: 0 0.25em; line-height: 1; border-radius: 0.35em;\">\n",
       "    15\n",
       "    <span style=\"font-size: 0.8em; font-weight: bold; line-height: 1; border-radius: 0.35em; vertical-align: middle; margin-left: 0.5rem\">CARDINAL</span>\n",
       "</mark>\n",
       " table of contentssources of revenuefilm content .</div></span>"
      ],
      "text/plain": [
       "<IPython.core.display.HTML object>"
      ]
     },
     "metadata": {},
     "output_type": "display_data"
    },
    {
     "name": "stdout",
     "output_type": "stream",
     "text": [
      "[]\n"
     ]
    },
    {
     "data": {
      "text/html": [
       "<span class=\"tex2jax_ignore\"><div class=\"entities\" style=\"line-height: 2.5; direction: ltr\">box office admissions are our largest source of revenue .</div></span>"
      ],
      "text/plain": [
       "<IPython.core.display.HTML object>"
      ]
     },
     "metadata": {},
     "output_type": "display_data"
    },
    {
     "name": "stdout",
     "output_type": "stream",
     "text": [
      "[]\n"
     ]
    },
    {
     "data": {
      "text/html": [
       "<span class=\"tex2jax_ignore\"><div class=\"entities\" style=\"line-height: 2.5; direction: ltr\">we predominantly license \n",
       "<mark class=\"entity\" style=\"background: #e4e7d2; padding: 0.45em 0.6em; margin: 0 0.25em; line-height: 1; border-radius: 0.35em;\">\n",
       "    first\n",
       "    <span style=\"font-size: 0.8em; font-weight: bold; line-height: 1; border-radius: 0.35em; vertical-align: middle; margin-left: 0.5rem\">ORDINAL</span>\n",
       "</mark>\n",
       "-run films from distributors owned by major film production companies and from independent distributors on a film-by-film and theatre-by-theatre basis .</div></span>"
      ],
      "text/plain": [
       "<IPython.core.display.HTML object>"
      ]
     },
     "metadata": {},
     "output_type": "display_data"
    },
    {
     "name": "stdout",
     "output_type": "stream",
     "text": [
      "[]\n"
     ]
    },
    {
     "data": {
      "text/html": [
       "<span class=\"tex2jax_ignore\"><div class=\"entities\" style=\"line-height: 2.5; direction: ltr\">film exhibition costs are accrued based on the applicable admissions revenues and estimates of the final settlement pursuant to our film licenses .</div></span>"
      ],
      "text/plain": [
       "<IPython.core.display.HTML object>"
      ]
     },
     "metadata": {},
     "output_type": "display_data"
    },
    {
     "name": "stdout",
     "output_type": "stream",
     "text": [
      "[]\n"
     ]
    },
    {
     "data": {
      "text/html": [
       "<span class=\"tex2jax_ignore\"><div class=\"entities\" style=\"line-height: 2.5; direction: ltr\">these licenses typically state that rental fees are based on aggregate terms established prior to the opening of the picture .</div></span>"
      ],
      "text/plain": [
       "<IPython.core.display.HTML object>"
      ]
     },
     "metadata": {},
     "output_type": "display_data"
    },
    {
     "name": "stdout",
     "output_type": "stream",
     "text": [
      "[]\n"
     ]
    },
    {
     "data": {
      "text/html": [
       "<span class=\"tex2jax_ignore\"><div class=\"entities\" style=\"line-height: 2.5; direction: ltr\">in certain circumstances and less frequently , our rental fees are based on a mutually agreed settlement upon the conclusion of the picture .</div></span>"
      ],
      "text/plain": [
       "<IPython.core.display.HTML object>"
      ]
     },
     "metadata": {},
     "output_type": "display_data"
    },
    {
     "name": "stdout",
     "output_type": "stream",
     "text": [
      "[]\n"
     ]
    },
    {
     "data": {
      "text/html": [
       "<span class=\"tex2jax_ignore\"><div class=\"entities\" style=\"line-height: 2.5; direction: ltr\">in some \n",
       "<mark class=\"entity\" style=\"background: #c887fb; padding: 0.45em 0.6em; margin: 0 0.25em; line-height: 1; border-radius: 0.35em;\">\n",
       "    european\n",
       "    <span style=\"font-size: 0.8em; font-weight: bold; line-height: 1; border-radius: 0.35em; vertical-align: middle; margin-left: 0.5rem\">NORP</span>\n",
       "</mark>\n",
       " territories , rental fees are established on a \n",
       "<mark class=\"entity\" style=\"background: #bfe1d9; padding: 0.45em 0.6em; margin: 0 0.25em; line-height: 1; border-radius: 0.35em;\">\n",
       "    weekly\n",
       "    <span style=\"font-size: 0.8em; font-weight: bold; line-height: 1; border-radius: 0.35em; vertical-align: middle; margin-left: 0.5rem\">DATE</span>\n",
       "</mark>\n",
       " basis for \n",
       "<mark class=\"entity\" style=\"background: #bfe1d9; padding: 0.45em 0.6em; margin: 0 0.25em; line-height: 1; border-radius: 0.35em;\">\n",
       "    the coming weeks\n",
       "    <span style=\"font-size: 0.8em; font-weight: bold; line-height: 1; border-radius: 0.35em; vertical-align: middle; margin-left: 0.5rem\">DATE</span>\n",
       "</mark>\n",
       " percentage forecast .</div></span>"
      ],
      "text/plain": [
       "<IPython.core.display.HTML object>"
      ]
     },
     "metadata": {},
     "output_type": "display_data"
    },
    {
     "name": "stdout",
     "output_type": "stream",
     "text": [
      "[]\n"
     ]
    },
    {
     "data": {
      "text/html": [
       "<span class=\"tex2jax_ignore\"><div class=\"entities\" style=\"line-height: 2.5; direction: ltr\">some european licenses use a per capita agreement instead , paying a flat amount per ticket , where the sum is agreed in long-term agreements in advance of the film showing .</div></span>"
      ],
      "text/plain": [
       "<IPython.core.display.HTML object>"
      ]
     },
     "metadata": {},
     "output_type": "display_data"
    },
    {
     "name": "stdout",
     "output_type": "stream",
     "text": [
      "[]\n"
     ]
    },
    {
     "data": {
      "text/html": [
       "<span class=\"tex2jax_ignore\"><div class=\"entities\" style=\"line-height: 2.5; direction: ltr\">under an aggregate terms formula , we usually pay the distributor a specified percentage of box office gross or pay based on a scale of percentages tied to different amounts of box office gross , or in europe , we pay based on the number of \n",
       "<mark class=\"entity\" style=\"background: #bfe1d9; padding: 0.45em 0.6em; margin: 0 0.25em; line-height: 1; border-radius: 0.35em;\">\n",
       "    weeks\n",
       "    <span style=\"font-size: 0.8em; font-weight: bold; line-height: 1; border-radius: 0.35em; vertical-align: middle; margin-left: 0.5rem\">DATE</span>\n",
       "</mark>\n",
       " since release .</div></span>"
      ],
      "text/plain": [
       "<IPython.core.display.HTML object>"
      ]
     },
     "metadata": {},
     "output_type": "display_data"
    },
    {
     "name": "stdout",
     "output_type": "stream",
     "text": [
      "[]\n"
     ]
    },
    {
     "data": {
      "text/html": [
       "<span class=\"tex2jax_ignore\"><div class=\"entities\" style=\"line-height: 2.5; direction: ltr\">the settlement process allows for negotiation based upon how a film actually performs .</div></span>"
      ],
      "text/plain": [
       "<IPython.core.display.HTML object>"
      ]
     },
     "metadata": {},
     "output_type": "display_data"
    },
    {
     "name": "stdout",
     "output_type": "stream",
     "text": [
      "[]\n"
     ]
    },
    {
     "data": {
      "text/html": [
       "<span class=\"tex2jax_ignore\"><div class=\"entities\" style=\"line-height: 2.5; direction: ltr\">the north american industry box office has been significantly impacted by the covid-19 pandemic during \n",
       "<mark class=\"entity\" style=\"background: #bfe1d9; padding: 0.45em 0.6em; margin: 0 0.25em; line-height: 1; border-radius: 0.35em;\">\n",
       "    the year ended december 31 , 2020\n",
       "    <span style=\"font-size: 0.8em; font-weight: bold; line-height: 1; border-radius: 0.35em; vertical-align: middle; margin-left: 0.5rem\">DATE</span>\n",
       "</mark>\n",
       ". although certain states authorized the reopening of theatres \n",
       "<mark class=\"entity\" style=\"background: #bfe1d9; padding: 0.45em 0.6em; margin: 0 0.25em; line-height: 1; border-radius: 0.35em;\">\n",
       "    as early as june 2020\n",
       "    <span style=\"font-size: 0.8em; font-weight: bold; line-height: 1; border-radius: 0.35em; vertical-align: middle; margin-left: 0.5rem\">DATE</span>\n",
       "</mark>\n",
       " , with limited seating capacities and social distancing guidelines , some states , including california and new york , remain partially or entirely closed for theatrical exhibition as of \n",
       "<mark class=\"entity\" style=\"background: #bfe1d9; padding: 0.45em 0.6em; margin: 0 0.25em; line-height: 1; border-radius: 0.35em;\">\n",
       "    december 31 , 2020\n",
       "    <span style=\"font-size: 0.8em; font-weight: bold; line-height: 1; border-radius: 0.35em; vertical-align: middle; margin-left: 0.5rem\">DATE</span>\n",
       "</mark>\n",
       ". as a result , studios have postponed new film releases or moved them to the home video market , and movie release dates may continue to move in the future .</div></span>"
      ],
      "text/plain": [
       "<IPython.core.display.HTML object>"
      ]
     },
     "metadata": {},
     "output_type": "display_data"
    },
    {
     "name": "stdout",
     "output_type": "stream",
     "text": [
      "[]\n"
     ]
    },
    {
     "data": {
      "text/html": [
       "<span class=\"tex2jax_ignore\"><div class=\"entities\" style=\"line-height: 2.5; direction: ltr\">major movie releases that were previously scheduled to be released in \n",
       "<mark class=\"entity\" style=\"background: #bfe1d9; padding: 0.45em 0.6em; margin: 0 0.25em; line-height: 1; border-radius: 0.35em;\">\n",
       "    2020\n",
       "    <span style=\"font-size: 0.8em; font-weight: bold; line-height: 1; border-radius: 0.35em; vertical-align: middle; margin-left: 0.5rem\">DATE</span>\n",
       "</mark>\n",
       " have either been rescheduled for \n",
       "<mark class=\"entity\" style=\"background: #bfe1d9; padding: 0.45em 0.6em; margin: 0 0.25em; line-height: 1; border-radius: 0.35em;\">\n",
       "    2021\n",
       "    <span style=\"font-size: 0.8em; font-weight: bold; line-height: 1; border-radius: 0.35em; vertical-align: middle; margin-left: 0.5rem\">DATE</span>\n",
       "</mark>\n",
       " or slated for direct to streaming or pvod platforms in lieu of a theatrical release , which left a reduced slate of movie releases for \n",
       "<mark class=\"entity\" style=\"background: #bfe1d9; padding: 0.45em 0.6em; margin: 0 0.25em; line-height: 1; border-radius: 0.35em;\">\n",
       "    2020\n",
       "    <span style=\"font-size: 0.8em; font-weight: bold; line-height: 1; border-radius: 0.35em; vertical-align: middle; margin-left: 0.5rem\">DATE</span>\n",
       "</mark>\n",
       " , and release dates may continue to move .</div></span>"
      ],
      "text/plain": [
       "<IPython.core.display.HTML object>"
      ]
     },
     "metadata": {},
     "output_type": "display_data"
    },
    {
     "name": "stdout",
     "output_type": "stream",
     "text": [
      "[]\n"
     ]
    },
    {
     "data": {
      "text/html": [
       "<span class=\"tex2jax_ignore\"><div class=\"entities\" style=\"line-height: 2.5; direction: ltr\">certain competitors have decided to temporarily reclose their theatres in light of the ongoing pandemic and the reduced slate of movie releases , which may further exacerbate the trend described above .</div></span>"
      ],
      "text/plain": [
       "<IPython.core.display.HTML object>"
      ]
     },
     "metadata": {},
     "output_type": "display_data"
    },
    {
     "name": "stdout",
     "output_type": "stream",
     "text": [
      "[]\n"
     ]
    },
    {
     "data": {
      "text/html": [
       "<span class=\"tex2jax_ignore\"><div class=\"entities\" style=\"line-height: 2.5; direction: ltr\">as a result of the reduced slate of \n",
       "<mark class=\"entity\" style=\"background: #e4e7d2; padding: 0.45em 0.6em; margin: 0 0.25em; line-height: 1; border-radius: 0.35em;\">\n",
       "    first\n",
       "    <span style=\"font-size: 0.8em; font-weight: bold; line-height: 1; border-radius: 0.35em; vertical-align: middle; margin-left: 0.5rem\">ORDINAL</span>\n",
       "</mark>\n",
       "-run movie releases , we have licensed and exhibited a larger number of films that were released in \n",
       "<mark class=\"entity\" style=\"background: #bfe1d9; padding: 0.45em 0.6em; margin: 0 0.25em; line-height: 1; border-radius: 0.35em;\">\n",
       "    prior years\n",
       "    <span style=\"font-size: 0.8em; font-weight: bold; line-height: 1; border-radius: 0.35em; vertical-align: middle; margin-left: 0.5rem\">DATE</span>\n",
       "</mark>\n",
       " or \n",
       "<mark class=\"entity\" style=\"background: #bfe1d9; padding: 0.45em 0.6em; margin: 0 0.25em; line-height: 1; border-radius: 0.35em;\">\n",
       "    decades\n",
       "    <span style=\"font-size: 0.8em; font-weight: bold; line-height: 1; border-radius: 0.35em; vertical-align: middle; margin-left: 0.5rem\">DATE</span>\n",
       "</mark>\n",
       " and where the film rental terms are much lower than for \n",
       "<mark class=\"entity\" style=\"background: #e4e7d2; padding: 0.45em 0.6em; margin: 0 0.25em; line-height: 1; border-radius: 0.35em;\">\n",
       "    first\n",
       "    <span style=\"font-size: 0.8em; font-weight: bold; line-height: 1; border-radius: 0.35em; vertical-align: middle; margin-left: 0.5rem\">ORDINAL</span>\n",
       "</mark>\n",
       "-run movie releases .</div></span>"
      ],
      "text/plain": [
       "<IPython.core.display.HTML object>"
      ]
     },
     "metadata": {},
     "output_type": "display_data"
    },
    {
     "name": "stdout",
     "output_type": "stream",
     "text": [
      "[]\n"
     ]
    },
    {
     "data": {
      "text/html": [
       "<span class=\"tex2jax_ignore\"><div class=\"entities\" style=\"line-height: 2.5; direction: ltr\">the combination of theatre closures , reopening restrictions and limited new film distribution has resulted in a significantly lower industry box office for \n",
       "<mark class=\"entity\" style=\"background: #bfe1d9; padding: 0.45em 0.6em; margin: 0 0.25em; line-height: 1; border-radius: 0.35em;\">\n",
       "    the year ended december 31 , 2020\n",
       "    <span style=\"font-size: 0.8em; font-weight: bold; line-height: 1; border-radius: 0.35em; vertical-align: middle; margin-left: 0.5rem\">DATE</span>\n",
       "</mark>\n",
       " compared to \n",
       "<mark class=\"entity\" style=\"background: #bfe1d9; padding: 0.45em 0.6em; margin: 0 0.25em; line-height: 1; border-radius: 0.35em;\">\n",
       "    the year ended december 31 , 2019\n",
       "    <span style=\"font-size: 0.8em; font-weight: bold; line-height: 1; border-radius: 0.35em; vertical-align: middle; margin-left: 0.5rem\">DATE</span>\n",
       "</mark>\n",
       ". in response to the current low attendance levels , ( in addition to any local capacity restrictions ) we have made adjustments to theatre operating \n",
       "<mark class=\"entity\" style=\"background: #bfe1d9; padding: 0.45em 0.6em; margin: 0 0.25em; line-height: 1; border-radius: 0.35em;\">\n",
       "    hours\n",
       "    <span style=\"font-size: 0.8em; font-weight: bold; line-height: 1; border-radius: 0.35em; vertical-align: middle; margin-left: 0.5rem\">TIME</span>\n",
       "</mark>\n",
       " in those markets where we are open to align screen availability and associated theatre operating costs with attendance levels for each theatre .</div></span>"
      ],
      "text/plain": [
       "<IPython.core.display.HTML object>"
      ]
     },
     "metadata": {},
     "output_type": "display_data"
    },
    {
     "name": "stdout",
     "output_type": "stream",
     "text": [
      "[]\n"
     ]
    },
    {
     "data": {
      "text/html": [
       "<span class=\"tex2jax_ignore\"><div class=\"entities\" style=\"line-height: 2.5; direction: ltr\">we also introduced amc private screening , which allows moviegoers to reserve a separate amc safe &amp; clean auditorium for a private screening for \n",
       "<mark class=\"entity\" style=\"background: #e4e7d2; padding: 0.45em 0.6em; margin: 0 0.25em; line-height: 1; border-radius: 0.35em;\">\n",
       "    up to 20\n",
       "    <span style=\"font-size: 0.8em; font-weight: bold; line-height: 1; border-radius: 0.35em; vertical-align: middle; margin-left: 0.5rem\">CARDINAL</span>\n",
       "</mark>\n",
       " people , starting at $ \n",
       "<mark class=\"entity\" style=\"background: #e4e7d2; padding: 0.45em 0.6em; margin: 0 0.25em; line-height: 1; border-radius: 0.35em;\">\n",
       "    99\n",
       "    <span style=\"font-size: 0.8em; font-weight: bold; line-height: 1; border-radius: 0.35em; vertical-align: middle; margin-left: 0.5rem\">MONEY</span>\n",
       "</mark>\n",
       " plus tax .</div></span>"
      ],
      "text/plain": [
       "<IPython.core.display.HTML object>"
      ]
     },
     "metadata": {},
     "output_type": "display_data"
    },
    {
     "name": "stdout",
     "output_type": "stream",
     "text": [
      "[]\n"
     ]
    },
    {
     "data": {
      "text/html": [
       "<span class=\"tex2jax_ignore\"><div class=\"entities\" style=\"line-height: 2.5; direction: ltr\">during \n",
       "<mark class=\"entity\" style=\"background: #bfe1d9; padding: 0.45em 0.6em; margin: 0 0.25em; line-height: 1; border-radius: 0.35em;\">\n",
       "    2020\n",
       "    <span style=\"font-size: 0.8em; font-weight: bold; line-height: 1; border-radius: 0.35em; vertical-align: middle; margin-left: 0.5rem\">DATE</span>\n",
       "</mark>\n",
       " , we entered into an agreement with universal , a division of comcast corporation ( nasdaq cmcsa ) , to distribute films utilizing a minimum \n",
       "<mark class=\"entity\" style=\"background: #bfe1d9; padding: 0.45em 0.6em; margin: 0 0.25em; line-height: 1; border-radius: 0.35em;\">\n",
       "    17-day\n",
       "    <span style=\"font-size: 0.8em; font-weight: bold; line-height: 1; border-radius: 0.35em; vertical-align: middle; margin-left: 0.5rem\">DATE</span>\n",
       "</mark>\n",
       " theatrical exhibition window , after which time universal will have the option to make its titles available across pvod platforms .</div></span>"
      ],
      "text/plain": [
       "<IPython.core.display.HTML object>"
      ]
     },
     "metadata": {},
     "output_type": "display_data"
    },
    {
     "name": "stdout",
     "output_type": "stream",
     "text": [
      "[]\n"
     ]
    },
    {
     "data": {
      "text/html": [
       "<span class=\"tex2jax_ignore\"><div class=\"entities\" style=\"line-height: 2.5; direction: ltr\">subsequently , universal revised their plans to extend the theatrical exhibition window to \n",
       "<mark class=\"entity\" style=\"background: #bfe1d9; padding: 0.45em 0.6em; margin: 0 0.25em; line-height: 1; border-radius: 0.35em;\">\n",
       "    31 days\n",
       "    <span style=\"font-size: 0.8em; font-weight: bold; line-height: 1; border-radius: 0.35em; vertical-align: middle; margin-left: 0.5rem\">DATE</span>\n",
       "</mark>\n",
       " for films that generate opening weekend box office in the \n",
       "<mark class=\"entity\" style=\"background: #feca74; padding: 0.45em 0.6em; margin: 0 0.25em; line-height: 1; border-radius: 0.35em;\">\n",
       "    u.s\n",
       "    <span style=\"font-size: 0.8em; font-weight: bold; line-height: 1; border-radius: 0.35em; vertical-align: middle; margin-left: 0.5rem\">GPE</span>\n",
       "</mark>\n",
       ". and canada of \n",
       "<mark class=\"entity\" style=\"background: #e4e7d2; padding: 0.45em 0.6em; margin: 0 0.25em; line-height: 1; border-radius: 0.35em;\">\n",
       "    greater than $ 50 million\n",
       "    <span style=\"font-size: 0.8em; font-weight: bold; line-height: 1; border-radius: 0.35em; vertical-align: middle; margin-left: 0.5rem\">MONEY</span>\n",
       "</mark>\n",
       " .</div></span>"
      ],
      "text/plain": [
       "<IPython.core.display.HTML object>"
      ]
     },
     "metadata": {},
     "output_type": "display_data"
    },
    {
     "name": "stdout",
     "output_type": "stream",
     "text": [
      "[]\n"
     ]
    },
    {
     "data": {
      "text/html": [
       "<span class=\"tex2jax_ignore\"><div class=\"entities\" style=\"line-height: 2.5; direction: ltr\">this multi-year agreement preserves exclusivity for theatrical viewing for \n",
       "<mark class=\"entity\" style=\"background: #bfe1d9; padding: 0.45em 0.6em; margin: 0 0.25em; line-height: 1; border-radius: 0.35em;\">\n",
       "    at least the first three weekends\n",
       "    <span style=\"font-size: 0.8em; font-weight: bold; line-height: 1; border-radius: 0.35em; vertical-align: middle; margin-left: 0.5rem\">DATE</span>\n",
       "</mark>\n",
       " of a films release , during which time a considerable majority of a movies theatrical box office revenue typically is generated .</div></span>"
      ],
      "text/plain": [
       "<IPython.core.display.HTML object>"
      ]
     },
     "metadata": {},
     "output_type": "display_data"
    },
    {
     "name": "stdout",
     "output_type": "stream",
     "text": [
      "[]\n"
     ]
    },
    {
     "data": {
      "text/html": [
       "<span class=\"tex2jax_ignore\"><div class=\"entities\" style=\"line-height: 2.5; direction: ltr\">amc will also share in new revenue streams that will come to the movie ecosystem from pvod .</div></span>"
      ],
      "text/plain": [
       "<IPython.core.display.HTML object>"
      ]
     },
     "metadata": {},
     "output_type": "display_data"
    },
    {
     "name": "stdout",
     "output_type": "stream",
     "text": [
      "[]\n"
     ]
    },
    {
     "data": {
      "text/html": [
       "<span class=\"tex2jax_ignore\"><div class=\"entities\" style=\"line-height: 2.5; direction: ltr\">during the \n",
       "<mark class=\"entity\" style=\"background: #bfe1d9; padding: 0.45em 0.6em; margin: 0 0.25em; line-height: 1; border-radius: 0.35em;\">\n",
       "    2020 calendar year\n",
       "    <span style=\"font-size: 0.8em; font-weight: bold; line-height: 1; border-radius: 0.35em; vertical-align: middle; margin-left: 0.5rem\">DATE</span>\n",
       "</mark>\n",
       " , films licensed from our \n",
       "<mark class=\"entity\" style=\"background: #e4e7d2; padding: 0.45em 0.6em; margin: 0 0.25em; line-height: 1; border-radius: 0.35em;\">\n",
       "    six\n",
       "    <span style=\"font-size: 0.8em; font-weight: bold; line-height: 1; border-radius: 0.35em; vertical-align: middle; margin-left: 0.5rem\">CARDINAL</span>\n",
       "</mark>\n",
       " largest distributors based on revenues accounted for \n",
       "<mark class=\"entity\" style=\"background: #e4e7d2; padding: 0.45em 0.6em; margin: 0 0.25em; line-height: 1; border-radius: 0.35em;\">\n",
       "    approximately 80 %\n",
       "    <span style=\"font-size: 0.8em; font-weight: bold; line-height: 1; border-radius: 0.35em; vertical-align: middle; margin-left: 0.5rem\">PERCENT</span>\n",
       "</mark>\n",
       " of our \n",
       "<mark class=\"entity\" style=\"background: #feca74; padding: 0.45em 0.6em; margin: 0 0.25em; line-height: 1; border-radius: 0.35em;\">\n",
       "    u.s\n",
       "    <span style=\"font-size: 0.8em; font-weight: bold; line-height: 1; border-radius: 0.35em; vertical-align: middle; margin-left: 0.5rem\">GPE</span>\n",
       "</mark>\n",
       ". admissions revenues , which consisted of sony , disney , universal , warner bros. , paramount , and lionsgate .</div></span>"
      ],
      "text/plain": [
       "<IPython.core.display.HTML object>"
      ]
     },
     "metadata": {},
     "output_type": "display_data"
    },
    {
     "name": "stdout",
     "output_type": "stream",
     "text": [
      "[]\n"
     ]
    },
    {
     "data": {
      "text/html": [
       "<span class=\"tex2jax_ignore\"><div class=\"entities\" style=\"line-height: 2.5; direction: ltr\">in europe , \n",
       "<mark class=\"entity\" style=\"background: #e4e7d2; padding: 0.45em 0.6em; margin: 0 0.25em; line-height: 1; border-radius: 0.35em;\">\n",
       "    approximately 75 %\n",
       "    <span style=\"font-size: 0.8em; font-weight: bold; line-height: 1; border-radius: 0.35em; vertical-align: middle; margin-left: 0.5rem\">PERCENT</span>\n",
       "</mark>\n",
       " of our box office revenue came from films attributed to our \n",
       "<mark class=\"entity\" style=\"background: #e4e7d2; padding: 0.45em 0.6em; margin: 0 0.25em; line-height: 1; border-radius: 0.35em;\">\n",
       "    three\n",
       "    <span style=\"font-size: 0.8em; font-weight: bold; line-height: 1; border-radius: 0.35em; vertical-align: middle; margin-left: 0.5rem\">CARDINAL</span>\n",
       "</mark>\n",
       " largest distributor groups ; which consisted of warner bros. , disney , and various independent distributors as a whole ( with each independent distributor representing \n",
       "<mark class=\"entity\" style=\"background: #e4e7d2; padding: 0.45em 0.6em; margin: 0 0.25em; line-height: 1; border-radius: 0.35em;\">\n",
       "    10 %\n",
       "    <span style=\"font-size: 0.8em; font-weight: bold; line-height: 1; border-radius: 0.35em; vertical-align: middle; margin-left: 0.5rem\">PERCENT</span>\n",
       "</mark>\n",
       " or less ) .</div></span>"
      ],
      "text/plain": [
       "<IPython.core.display.HTML object>"
      ]
     },
     "metadata": {},
     "output_type": "display_data"
    },
    {
     "name": "stdout",
     "output_type": "stream",
     "text": [
      "[]\n"
     ]
    },
    {
     "data": {
      "text/html": [
       "<span class=\"tex2jax_ignore\"><div class=\"entities\" style=\"line-height: 2.5; direction: ltr\">our revenues attributable to individual distributors may vary significantly from \n",
       "<mark class=\"entity\" style=\"background: #bfe1d9; padding: 0.45em 0.6em; margin: 0 0.25em; line-height: 1; border-radius: 0.35em;\">\n",
       "    year to year\n",
       "    <span style=\"font-size: 0.8em; font-weight: bold; line-height: 1; border-radius: 0.35em; vertical-align: middle; margin-left: 0.5rem\">DATE</span>\n",
       "</mark>\n",
       " depending upon the commercial success of each distributors films in any given year.food and beverage .</div></span>"
      ],
      "text/plain": [
       "<IPython.core.display.HTML object>"
      ]
     },
     "metadata": {},
     "output_type": "display_data"
    },
    {
     "name": "stdout",
     "output_type": "stream",
     "text": [
      "[]\n"
     ]
    },
    {
     "data": {
      "text/html": [
       "<span class=\"tex2jax_ignore\"><div class=\"entities\" style=\"line-height: 2.5; direction: ltr\">food and beverage sales are our \n",
       "<mark class=\"entity\" style=\"background: #e4e7d2; padding: 0.45em 0.6em; margin: 0 0.25em; line-height: 1; border-radius: 0.35em;\">\n",
       "    second\n",
       "    <span style=\"font-size: 0.8em; font-weight: bold; line-height: 1; border-radius: 0.35em; vertical-align: middle; margin-left: 0.5rem\">ORDINAL</span>\n",
       "</mark>\n",
       " largest source of revenue after box office admissions .</div></span>"
      ],
      "text/plain": [
       "<IPython.core.display.HTML object>"
      ]
     },
     "metadata": {},
     "output_type": "display_data"
    },
    {
     "name": "stdout",
     "output_type": "stream",
     "text": [
      "[]\n"
     ]
    },
    {
     "data": {
      "text/html": [
       "<span class=\"tex2jax_ignore\"><div class=\"entities\" style=\"line-height: 2.5; direction: ltr\">food and beverage items traditionally include popcorn , soft drinks , candy and hot dogs .</div></span>"
      ],
      "text/plain": [
       "<IPython.core.display.HTML object>"
      ]
     },
     "metadata": {},
     "output_type": "display_data"
    },
    {
     "name": "stdout",
     "output_type": "stream",
     "text": [
      "[]\n"
     ]
    },
    {
     "data": {
      "text/html": [
       "<span class=\"tex2jax_ignore\"><div class=\"entities\" style=\"line-height: 2.5; direction: ltr\">different varieties of food and beverage items are offered at our theatres based on preferences in the particular geographic region .</div></span>"
      ],
      "text/plain": [
       "<IPython.core.display.HTML object>"
      ]
     },
     "metadata": {},
     "output_type": "display_data"
    },
    {
     "name": "stdout",
     "output_type": "stream",
     "text": [
      "[]\n"
     ]
    },
    {
     "data": {
      "text/html": [
       "<span class=\"tex2jax_ignore\"><div class=\"entities\" style=\"line-height: 2.5; direction: ltr\">we design our theatres to have more food and beverage capacity to make it easier to serve larger numbers of customers .</div></span>"
      ],
      "text/plain": [
       "<IPython.core.display.HTML object>"
      ]
     },
     "metadata": {},
     "output_type": "display_data"
    },
    {
     "name": "stdout",
     "output_type": "stream",
     "text": [
      "[]\n"
     ]
    },
    {
     "data": {
      "text/html": [
       "<span class=\"tex2jax_ignore\"><div class=\"entities\" style=\"line-height: 2.5; direction: ltr\">strategic placement of large food and beverage operations within theatres increases their visibility , aids in reducing the length of lines , allows flexibility to introduce new concepts and improves traffic flow around the food and beverage stands.16 table of contentsprior to the covid-19 pandemic , to address recent consumer trends , we expanded our menu of enhanced food and beverage products to include made-to-order drinks and meals , customized coffee , healthy snacks , premium beers , wine and mixed drinks , and other gourmet products .</div></span>"
      ],
      "text/plain": [
       "<IPython.core.display.HTML object>"
      ]
     },
     "metadata": {},
     "output_type": "display_data"
    },
    {
     "name": "stdout",
     "output_type": "stream",
     "text": [
      "[]\n"
     ]
    },
    {
     "data": {
      "text/html": [
       "<span class=\"tex2jax_ignore\"><div class=\"entities\" style=\"line-height: 2.5; direction: ltr\">our long-term growth strategy includes continued investment across a spectrum of enhanced food and beverage formats , ranging from simple , less capital-intensive food and beverage design improvements to the development of new dine-in theatre options .</div></span>"
      ],
      "text/plain": [
       "<IPython.core.display.HTML object>"
      ]
     },
     "metadata": {},
     "output_type": "display_data"
    },
    {
     "name": "stdout",
     "output_type": "stream",
     "text": [
      "[]\n"
     ]
    },
    {
     "data": {
      "text/html": [
       "<span class=\"tex2jax_ignore\"><div class=\"entities\" style=\"line-height: 2.5; direction: ltr\">the costs of these conversions in some cases are partially covered by investments from the theatre landlord .</div></span>"
      ],
      "text/plain": [
       "<IPython.core.display.HTML object>"
      ]
     },
     "metadata": {},
     "output_type": "display_data"
    },
    {
     "name": "stdout",
     "output_type": "stream",
     "text": [
      "[]\n"
     ]
    },
    {
     "data": {
      "text/html": [
       "<span class=\"tex2jax_ignore\"><div class=\"entities\" style=\"line-height: 2.5; direction: ltr\">we currently operate \n",
       "<mark class=\"entity\" style=\"background: #e4e7d2; padding: 0.45em 0.6em; margin: 0 0.25em; line-height: 1; border-radius: 0.35em;\">\n",
       "    51\n",
       "    <span style=\"font-size: 0.8em; font-weight: bold; line-height: 1; border-radius: 0.35em; vertical-align: middle; margin-left: 0.5rem\">CARDINAL</span>\n",
       "</mark>\n",
       " dine-in theatres in the \n",
       "<mark class=\"entity\" style=\"background: #feca74; padding: 0.45em 0.6em; margin: 0 0.25em; line-height: 1; border-radius: 0.35em;\">\n",
       "    u.s\n",
       "    <span style=\"font-size: 0.8em; font-weight: bold; line-height: 1; border-radius: 0.35em; vertical-align: middle; margin-left: 0.5rem\">GPE</span>\n",
       "</mark>\n",
       ". and \n",
       "<mark class=\"entity\" style=\"background: #e4e7d2; padding: 0.45em 0.6em; margin: 0 0.25em; line-height: 1; border-radius: 0.35em;\">\n",
       "    two\n",
       "    <span style=\"font-size: 0.8em; font-weight: bold; line-height: 1; border-radius: 0.35em; vertical-align: middle; margin-left: 0.5rem\">CARDINAL</span>\n",
       "</mark>\n",
       " dine-in theatres in europe that deliver chef-inspired menus with seat-side or delivery service to luxury recliners with tables .</div></span>"
      ],
      "text/plain": [
       "<IPython.core.display.HTML object>"
      ]
     },
     "metadata": {},
     "output_type": "display_data"
    },
    {
     "name": "stdout",
     "output_type": "stream",
     "text": [
      "[]\n"
     ]
    },
    {
     "data": {
      "text/html": [
       "<span class=\"tex2jax_ignore\"><div class=\"entities\" style=\"line-height: 2.5; direction: ltr\">our recent dine-in theatre concepts are designed to capitalize on the latest food service trend , the fast and casual eating experience.as a result of the covid-19 pandemic , we have temporarily modified our food and beverage operations to include more simplified concession menus , cashless transactions technology , hand sanitizer and disinfecting wipes , and condiment and drink refills available by request , all in an effort to reduce the number of touch-points between guests and employees .</div></span>"
      ],
      "text/plain": [
       "<IPython.core.display.HTML object>"
      ]
     },
     "metadata": {},
     "output_type": "display_data"
    },
    {
     "name": "stdout",
     "output_type": "stream",
     "text": [
      "[]\n"
     ]
    },
    {
     "data": {
      "text/html": [
       "<span class=\"tex2jax_ignore\"><div class=\"entities\" style=\"line-height: 2.5; direction: ltr\">we have also upgraded our coca-cola freestyle beverage machines to include a mobile app allowing guests to dispense drinks without the need to utilize the machines touch screen.amc human capital resourcesour people .</div></span>"
      ],
      "text/plain": [
       "<IPython.core.display.HTML object>"
      ]
     },
     "metadata": {},
     "output_type": "display_data"
    },
    {
     "name": "stdout",
     "output_type": "stream",
     "text": [
      "[]\n"
     ]
    },
    {
     "data": {
      "text/html": [
       "<span class=\"tex2jax_ignore\"><div class=\"entities\" style=\"line-height: 2.5; direction: ltr\">amc associates are core to our commitment to delivering the best theatrical experience in the world .</div></span>"
      ],
      "text/plain": [
       "<IPython.core.display.HTML object>"
      ]
     },
     "metadata": {},
     "output_type": "display_data"
    },
    {
     "name": "stdout",
     "output_type": "stream",
     "text": [
      "[]\n"
     ]
    },
    {
     "data": {
      "text/html": [
       "<span class=\"tex2jax_ignore\"><div class=\"entities\" style=\"line-height: 2.5; direction: ltr\">they uphold amcs mission of focusing on the guest experience in our theatres , an experience in which excellent customer service is complemented with amazing food and beverage , comfort and premium sight and sound.covid-19 pandemic impacts .</div></span>"
      ],
      "text/plain": [
       "<IPython.core.display.HTML object>"
      ]
     },
     "metadata": {},
     "output_type": "display_data"
    },
    {
     "name": "stdout",
     "output_type": "stream",
     "text": [
      "[]\n"
     ]
    },
    {
     "data": {
      "text/html": [
       "<span class=\"tex2jax_ignore\"><div class=\"entities\" style=\"line-height: 2.5; direction: ltr\">the pandemic has had enormous impacts on our industry , guests and associates and has resulted in material variances in our associate metrics in \n",
       "<mark class=\"entity\" style=\"background: #bfe1d9; padding: 0.45em 0.6em; margin: 0 0.25em; line-height: 1; border-radius: 0.35em;\">\n",
       "    calendar 2020\n",
       "    <span style=\"font-size: 0.8em; font-weight: bold; line-height: 1; border-radius: 0.35em; vertical-align: middle; margin-left: 0.5rem\">DATE</span>\n",
       "</mark>\n",
       " compared to \n",
       "<mark class=\"entity\" style=\"background: #bfe1d9; padding: 0.45em 0.6em; margin: 0 0.25em; line-height: 1; border-radius: 0.35em;\">\n",
       "    prior years\n",
       "    <span style=\"font-size: 0.8em; font-weight: bold; line-height: 1; border-radius: 0.35em; vertical-align: middle; margin-left: 0.5rem\">DATE</span>\n",
       "</mark>\n",
       " .</div></span>"
      ],
      "text/plain": [
       "<IPython.core.display.HTML object>"
      ]
     },
     "metadata": {},
     "output_type": "display_data"
    },
    {
     "name": "stdout",
     "output_type": "stream",
     "text": [
      "[]\n"
     ]
    },
    {
     "data": {
      "text/html": [
       "<span class=\"tex2jax_ignore\"><div class=\"entities\" style=\"line-height: 2.5; direction: ltr\">as of \n",
       "<mark class=\"entity\" style=\"background: #bfe1d9; padding: 0.45em 0.6em; margin: 0 0.25em; line-height: 1; border-radius: 0.35em;\">\n",
       "    december 31 , 2020\n",
       "    <span style=\"font-size: 0.8em; font-weight: bold; line-height: 1; border-radius: 0.35em; vertical-align: middle; margin-left: 0.5rem\">DATE</span>\n",
       "</mark>\n",
       " , we employed a total of \n",
       "<mark class=\"entity\" style=\"background: #e4e7d2; padding: 0.45em 0.6em; margin: 0 0.25em; line-height: 1; border-radius: 0.35em;\">\n",
       "    approximately 25,019\n",
       "    <span style=\"font-size: 0.8em; font-weight: bold; line-height: 1; border-radius: 0.35em; vertical-align: middle; margin-left: 0.5rem\">CARDINAL</span>\n",
       "</mark>\n",
       " employees , including part-time and furloughed employees , consisting of \n",
       "<mark class=\"entity\" style=\"background: #e4e7d2; padding: 0.45em 0.6em; margin: 0 0.25em; line-height: 1; border-radius: 0.35em;\">\n",
       "    approximately 3,449\n",
       "    <span style=\"font-size: 0.8em; font-weight: bold; line-height: 1; border-radius: 0.35em; vertical-align: middle; margin-left: 0.5rem\">CARDINAL</span>\n",
       "</mark>\n",
       " full-time and \n",
       "<mark class=\"entity\" style=\"background: #e4e7d2; padding: 0.45em 0.6em; margin: 0 0.25em; line-height: 1; border-radius: 0.35em;\">\n",
       "    approximately 21,570\n",
       "    <span style=\"font-size: 0.8em; font-weight: bold; line-height: 1; border-radius: 0.35em; vertical-align: middle; margin-left: 0.5rem\">CARDINAL</span>\n",
       "</mark>\n",
       " part-time employees , down from an aggregate of \n",
       "<mark class=\"entity\" style=\"background: #e4e7d2; padding: 0.45em 0.6em; margin: 0 0.25em; line-height: 1; border-radius: 0.35em;\">\n",
       "    approximately 38,872\n",
       "    <span style=\"font-size: 0.8em; font-weight: bold; line-height: 1; border-radius: 0.35em; vertical-align: middle; margin-left: 0.5rem\">CARDINAL</span>\n",
       "</mark>\n",
       " employees consisting of \n",
       "<mark class=\"entity\" style=\"background: #e4e7d2; padding: 0.45em 0.6em; margin: 0 0.25em; line-height: 1; border-radius: 0.35em;\">\n",
       "    approximately 3,952\n",
       "    <span style=\"font-size: 0.8em; font-weight: bold; line-height: 1; border-radius: 0.35em; vertical-align: middle; margin-left: 0.5rem\">CARDINAL</span>\n",
       "</mark>\n",
       " full-time and approximately \n",
       "<mark class=\"entity\" style=\"background: #e4e7d2; padding: 0.45em 0.6em; margin: 0 0.25em; line-height: 1; border-radius: 0.35em;\">\n",
       "    34,920\n",
       "    <span style=\"font-size: 0.8em; font-weight: bold; line-height: 1; border-radius: 0.35em; vertical-align: middle; margin-left: 0.5rem\">CARDINAL</span>\n",
       "</mark>\n",
       " part-time employees as of \n",
       "<mark class=\"entity\" style=\"background: #bfe1d9; padding: 0.45em 0.6em; margin: 0 0.25em; line-height: 1; border-radius: 0.35em;\">\n",
       "    december 31 , 2019\n",
       "    <span style=\"font-size: 0.8em; font-weight: bold; line-height: 1; border-radius: 0.35em; vertical-align: middle; margin-left: 0.5rem\">DATE</span>\n",
       "</mark>\n",
       ". due to covid-19 pandemic and the resulting temporary theatre closures for part of \n",
       "<mark class=\"entity\" style=\"background: #bfe1d9; padding: 0.45em 0.6em; margin: 0 0.25em; line-height: 1; border-radius: 0.35em;\">\n",
       "    the year 2020\n",
       "    <span style=\"font-size: 0.8em; font-weight: bold; line-height: 1; border-radius: 0.35em; vertical-align: middle; margin-left: 0.5rem\">DATE</span>\n",
       "</mark>\n",
       " , \n",
       "<mark class=\"entity\" style=\"background: #e4e7d2; padding: 0.45em 0.6em; margin: 0 0.25em; line-height: 1; border-radius: 0.35em;\">\n",
       "    100 %\n",
       "    <span style=\"font-size: 0.8em; font-weight: bold; line-height: 1; border-radius: 0.35em; vertical-align: middle; margin-left: 0.5rem\">PERCENT</span>\n",
       "</mark>\n",
       " of our full-time and part-time corporate and theatre associates eligible under the law were partially or fully furloughed .</div></span>"
      ],
      "text/plain": [
       "<IPython.core.display.HTML object>"
      ]
     },
     "metadata": {},
     "output_type": "display_data"
    },
    {
     "name": "stdout",
     "output_type": "stream",
     "text": [
      "[]\n"
     ]
    },
    {
     "data": {
      "text/html": [
       "<span class=\"tex2jax_ignore\"><div class=\"entities\" style=\"line-height: 2.5; direction: ltr\">despite the challenges presented by the pandemic , our associates have been instrumental in delivering amcs safe &amp; clean program which launched upon the reopening of our theatres in \n",
       "<mark class=\"entity\" style=\"background: #bfe1d9; padding: 0.45em 0.6em; margin: 0 0.25em; line-height: 1; border-radius: 0.35em;\">\n",
       "    the fall of 2020\n",
       "    <span style=\"font-size: 0.8em; font-weight: bold; line-height: 1; border-radius: 0.35em; vertical-align: middle; margin-left: 0.5rem\">DATE</span>\n",
       "</mark>\n",
       ". safe &amp; clean is a set of cleaning protocols and measures that we have implemented to protect the health and safety of our guests and associates .</div></span>"
      ],
      "text/plain": [
       "<IPython.core.display.HTML object>"
      ]
     },
     "metadata": {},
     "output_type": "display_data"
    },
    {
     "name": "stdout",
     "output_type": "stream",
     "text": [
      "[]\n"
     ]
    },
    {
     "data": {
      "text/html": [
       "<span class=\"tex2jax_ignore\"><div class=\"entities\" style=\"line-height: 2.5; direction: ltr\">our new policies and procedures are advised by faculty members at harvard school of public health and have been developed with the clorox company .</div></span>"
      ],
      "text/plain": [
       "<IPython.core.display.HTML object>"
      ]
     },
     "metadata": {},
     "output_type": "display_data"
    },
    {
     "name": "stdout",
     "output_type": "stream",
     "text": [
      "[]\n"
     ]
    },
    {
     "data": {
      "text/html": [
       "<span class=\"tex2jax_ignore\"><div class=\"entities\" style=\"line-height: 2.5; direction: ltr\">talent acquisition , development and retention .</div></span>"
      ],
      "text/plain": [
       "<IPython.core.display.HTML object>"
      ]
     },
     "metadata": {},
     "output_type": "display_data"
    },
    {
     "name": "stdout",
     "output_type": "stream",
     "text": [
      "[]\n"
     ]
    },
    {
     "data": {
      "text/html": [
       "<span class=\"tex2jax_ignore\"><div class=\"entities\" style=\"line-height: 2.5; direction: ltr\">critical to our operations is the hiring , developing and retaining of employees who support our guest-focused mission in our theatres .</div></span>"
      ],
      "text/plain": [
       "<IPython.core.display.HTML object>"
      ]
     },
     "metadata": {},
     "output_type": "display_data"
    },
    {
     "name": "stdout",
     "output_type": "stream",
     "text": [
      "[]\n"
     ]
    },
    {
     "data": {
      "text/html": [
       "<span class=\"tex2jax_ignore\"><div class=\"entities\" style=\"line-height: 2.5; direction: ltr\">acquiring the right talent at speed and scale is a core capability that we regularly monitor and manage , given the need to rapidly staff our frontline operations .</div></span>"
      ],
      "text/plain": [
       "<IPython.core.display.HTML object>"
      ]
     },
     "metadata": {},
     "output_type": "display_data"
    },
    {
     "name": "stdout",
     "output_type": "stream",
     "text": [
      "[]\n"
     ]
    },
    {
     "data": {
      "text/html": [
       "<span class=\"tex2jax_ignore\"><div class=\"entities\" style=\"line-height: 2.5; direction: ltr\">once hired , we focus on the development of our associates , creating experiences and programs that promote performance , growth and career opportunities for those who are life-long passionate about our business .</div></span>"
      ],
      "text/plain": [
       "<IPython.core.display.HTML object>"
      ]
     },
     "metadata": {},
     "output_type": "display_data"
    },
    {
     "name": "stdout",
     "output_type": "stream",
     "text": [
      "[]\n"
     ]
    },
    {
     "data": {
      "text/html": [
       "<span class=\"tex2jax_ignore\"><div class=\"entities\" style=\"line-height: 2.5; direction: ltr\">we sponsor numerous training , education and leadership development programs for associates at all levels , from \n",
       "<mark class=\"entity\" style=\"background: #bfe1d9; padding: 0.45em 0.6em; margin: 0 0.25em; line-height: 1; border-radius: 0.35em;\">\n",
       "    hourly\n",
       "    <span style=\"font-size: 0.8em; font-weight: bold; line-height: 1; border-radius: 0.35em; vertical-align: middle; margin-left: 0.5rem\">TIME</span>\n",
       "</mark>\n",
       " associates to executive officers .</div></span>"
      ],
      "text/plain": [
       "<IPython.core.display.HTML object>"
      ]
     },
     "metadata": {},
     "output_type": "display_data"
    },
    {
     "name": "stdout",
     "output_type": "stream",
     "text": [
      "[]\n"
     ]
    },
    {
     "data": {
      "text/html": [
       "<span class=\"tex2jax_ignore\"><div class=\"entities\" style=\"line-height: 2.5; direction: ltr\">these programs are designed to enhance leadership and managerial capability , ensure quality execution of our programs , drive client satisfaction and increase return on investment .</div></span>"
      ],
      "text/plain": [
       "<IPython.core.display.HTML object>"
      ]
     },
     "metadata": {},
     "output_type": "display_data"
    },
    {
     "name": "stdout",
     "output_type": "stream",
     "text": [
      "[]\n"
     ]
    },
    {
     "data": {
      "text/html": [
       "<span class=\"tex2jax_ignore\"><div class=\"entities\" style=\"line-height: 2.5; direction: ltr\">diversity and inclusion .</div></span>"
      ],
      "text/plain": [
       "<IPython.core.display.HTML object>"
      ]
     },
     "metadata": {},
     "output_type": "display_data"
    },
    {
     "name": "stdout",
     "output_type": "stream",
     "text": [
      "[]\n"
     ]
    },
    {
     "data": {
      "text/html": [
       "<span class=\"tex2jax_ignore\"><div class=\"entities\" style=\"line-height: 2.5; direction: ltr\">our goal is to create a workforce as diverse as the guests we serve and the movies we show on our screens .</div></span>"
      ],
      "text/plain": [
       "<IPython.core.display.HTML object>"
      ]
     },
     "metadata": {},
     "output_type": "display_data"
    },
    {
     "name": "stdout",
     "output_type": "stream",
     "text": [
      "[]\n"
     ]
    },
    {
     "data": {
      "text/html": [
       "<span class=\"tex2jax_ignore\"><div class=\"entities\" style=\"line-height: 2.5; direction: ltr\">as such , diversity and inclusion are fundamental to our culture and critical to our success .</div></span>"
      ],
      "text/plain": [
       "<IPython.core.display.HTML object>"
      ]
     },
     "metadata": {},
     "output_type": "display_data"
    },
    {
     "name": "stdout",
     "output_type": "stream",
     "text": [
      "[]\n"
     ]
    },
    {
     "data": {
      "text/html": [
       "<span class=\"tex2jax_ignore\"><div class=\"entities\" style=\"line-height: 2.5; direction: ltr\">in support of this goal , amc established \n",
       "<mark class=\"entity\" style=\"background: #e4e7d2; padding: 0.45em 0.6em; margin: 0 0.25em; line-height: 1; border-radius: 0.35em;\">\n",
       "    four\n",
       "    <span style=\"font-size: 0.8em; font-weight: bold; line-height: 1; border-radius: 0.35em; vertical-align: middle; margin-left: 0.5rem\">CARDINAL</span>\n",
       "</mark>\n",
       " councils in support of women , latinos , african american and lgbtq+ associates in \n",
       "<mark class=\"entity\" style=\"background: #bfe1d9; padding: 0.45em 0.6em; margin: 0 0.25em; line-height: 1; border-radius: 0.35em;\">\n",
       "    year 2020\n",
       "    <span style=\"font-size: 0.8em; font-weight: bold; line-height: 1; border-radius: 0.35em; vertical-align: middle; margin-left: 0.5rem\">DATE</span>\n",
       "</mark>\n",
       ". the purpose of these councils is to strengthen amcs culture by defining opportunities to embrace our diversity , lead with fairness and impartiality and create a more inclusive work environment by leveraging associate experiences .</div></span>"
      ],
      "text/plain": [
       "<IPython.core.display.HTML object>"
      ]
     },
     "metadata": {},
     "output_type": "display_data"
    },
    {
     "name": "stdout",
     "output_type": "stream",
     "text": [
      "[]\n"
     ]
    },
    {
     "data": {
      "text/html": [
       "<span class=\"tex2jax_ignore\"><div class=\"entities\" style=\"line-height: 2.5; direction: ltr\">the councils are supported by the diversity , equity , and inclusion ( dei ) function under the guidance of the chief human resources officer .</div></span>"
      ],
      "text/plain": [
       "<IPython.core.display.HTML object>"
      ]
     },
     "metadata": {},
     "output_type": "display_data"
    },
    {
     "name": "stdout",
     "output_type": "stream",
     "text": [
      "[]\n"
     ]
    },
    {
     "data": {
      "text/html": [
       "<span class=\"tex2jax_ignore\"><div class=\"entities\" style=\"line-height: 2.5; direction: ltr\">this dei focus ensures that all communities are represented in our long-term systemic approach .</div></span>"
      ],
      "text/plain": [
       "<IPython.core.display.HTML object>"
      ]
     },
     "metadata": {},
     "output_type": "display_data"
    },
    {
     "name": "stdout",
     "output_type": "stream",
     "text": [
      "[]\n"
     ]
    },
    {
     "data": {
      "text/html": [
       "<span class=\"tex2jax_ignore\"><div class=\"entities\" style=\"line-height: 2.5; direction: ltr\">our work has been recognized externally amc has received a perfect score for \n",
       "<mark class=\"entity\" style=\"background: #bfe1d9; padding: 0.45em 0.6em; margin: 0 0.25em; line-height: 1; border-radius: 0.35em;\">\n",
       "    13 consecutive years\n",
       "    <span style=\"font-size: 0.8em; font-weight: bold; line-height: 1; border-radius: 0.35em; vertical-align: middle; margin-left: 0.5rem\">DATE</span>\n",
       "</mark>\n",
       " on the human rights campaign foundations corporate equality index as \n",
       "<mark class=\"entity\" style=\"background: #e4e7d2; padding: 0.45em 0.6em; margin: 0 0.25em; line-height: 1; border-radius: 0.35em;\">\n",
       "    one\n",
       "    <span style=\"font-size: 0.8em; font-weight: bold; line-height: 1; border-radius: 0.35em; vertical-align: middle; margin-left: 0.5rem\">CARDINAL</span>\n",
       "</mark>\n",
       " of the best places to work for lgbtq equality ; and for \n",
       "<mark class=\"entity\" style=\"background: #bfe1d9; padding: 0.45em 0.6em; margin: 0 0.25em; line-height: 1; border-radius: 0.35em;\">\n",
       "    six years\n",
       "    <span style=\"font-size: 0.8em; font-weight: bold; line-height: 1; border-radius: 0.35em; vertical-align: middle; margin-left: 0.5rem\">DATE</span>\n",
       "</mark>\n",
       " running has been named \n",
       "<mark class=\"entity\" style=\"background: #e4e7d2; padding: 0.45em 0.6em; margin: 0 0.25em; line-height: 1; border-radius: 0.35em;\">\n",
       "    one\n",
       "    <span style=\"font-size: 0.8em; font-weight: bold; line-height: 1; border-radius: 0.35em; vertical-align: middle; margin-left: 0.5rem\">CARDINAL</span>\n",
       "</mark>\n",
       " of the best places to work for people with disabilities on the disability equality index .</div></span>"
      ],
      "text/plain": [
       "<IPython.core.display.HTML object>"
      ]
     },
     "metadata": {},
     "output_type": "display_data"
    },
    {
     "name": "stdout",
     "output_type": "stream",
     "text": [
      "[]\n"
     ]
    },
    {
     "data": {
      "text/html": [
       "<span class=\"tex2jax_ignore\"><div class=\"entities\" style=\"line-height: 2.5; direction: ltr\">\n",
       "<mark class=\"entity\" style=\"background: #e4e7d2; padding: 0.45em 0.6em; margin: 0 0.25em; line-height: 1; border-radius: 0.35em;\">\n",
       "    17\n",
       "    <span style=\"font-size: 0.8em; font-weight: bold; line-height: 1; border-radius: 0.35em; vertical-align: middle; margin-left: 0.5rem\">CARDINAL</span>\n",
       "</mark>\n",
       " table of contentscompensation , benefits , safety and wellness .</div></span>"
      ],
      "text/plain": [
       "<IPython.core.display.HTML object>"
      ]
     },
     "metadata": {},
     "output_type": "display_data"
    },
    {
     "name": "stdout",
     "output_type": "stream",
     "text": [
      "[]\n"
     ]
    },
    {
     "data": {
      "text/html": [
       "<span class=\"tex2jax_ignore\"><div class=\"entities\" style=\"line-height: 2.5; direction: ltr\">in addition to offering market competitive salaries and wages , we offer comprehensive health and retirement benefits to eligible employees .</div></span>"
      ],
      "text/plain": [
       "<IPython.core.display.HTML object>"
      ]
     },
     "metadata": {},
     "output_type": "display_data"
    },
    {
     "name": "stdout",
     "output_type": "stream",
     "text": [
      "[]\n"
     ]
    },
    {
     "data": {
      "text/html": [
       "<span class=\"tex2jax_ignore\"><div class=\"entities\" style=\"line-height: 2.5; direction: ltr\">our health and welfare benefits are supplemented with specific programs to manage or improve common health conditions , a variety of voluntary benefits and paid time away from work programs .</div></span>"
      ],
      "text/plain": [
       "<IPython.core.display.HTML object>"
      ]
     },
     "metadata": {},
     "output_type": "display_data"
    },
    {
     "name": "stdout",
     "output_type": "stream",
     "text": [
      "[]\n"
     ]
    },
    {
     "data": {
      "text/html": [
       "<span class=\"tex2jax_ignore\"><div class=\"entities\" style=\"line-height: 2.5; direction: ltr\">we also provide a number of innovative programs designed to promote physical , emotional and financial well-being .</div></span>"
      ],
      "text/plain": [
       "<IPython.core.display.HTML object>"
      ]
     },
     "metadata": {},
     "output_type": "display_data"
    },
    {
     "name": "stdout",
     "output_type": "stream",
     "text": [
      "[]\n"
     ]
    },
    {
     "data": {
      "text/html": [
       "<span class=\"tex2jax_ignore\"><div class=\"entities\" style=\"line-height: 2.5; direction: ltr\">our commitment to the safety and health of our associates continues to be a top priority.theatrical exhibition industry and competitionu.s .</div></span>"
      ],
      "text/plain": [
       "<IPython.core.display.HTML object>"
      ]
     },
     "metadata": {},
     "output_type": "display_data"
    },
    {
     "name": "stdout",
     "output_type": "stream",
     "text": [
      "[]\n"
     ]
    },
    {
     "data": {
      "text/html": [
       "<span class=\"tex2jax_ignore\"><div class=\"entities\" style=\"line-height: 2.5; direction: ltr\">markets .</div></span>"
      ],
      "text/plain": [
       "<IPython.core.display.HTML object>"
      ]
     },
     "metadata": {},
     "output_type": "display_data"
    },
    {
     "name": "stdout",
     "output_type": "stream",
     "text": [
      "[]\n"
     ]
    },
    {
     "data": {
      "text/html": [
       "<span class=\"tex2jax_ignore\"><div class=\"entities\" style=\"line-height: 2.5; direction: ltr\">in the \n",
       "<mark class=\"entity\" style=\"background: #feca74; padding: 0.45em 0.6em; margin: 0 0.25em; line-height: 1; border-radius: 0.35em;\">\n",
       "    u.s\n",
       "    <span style=\"font-size: 0.8em; font-weight: bold; line-height: 1; border-radius: 0.35em; vertical-align: middle; margin-left: 0.5rem\">GPE</span>\n",
       "</mark>\n",
       ". , the movie exhibition business is large , stable , and mature .</div></span>"
      ],
      "text/plain": [
       "<IPython.core.display.HTML object>"
      ]
     },
     "metadata": {},
     "output_type": "display_data"
    },
    {
     "name": "stdout",
     "output_type": "stream",
     "text": [
      "[]\n"
     ]
    },
    {
     "data": {
      "text/html": [
       "<span class=\"tex2jax_ignore\"><div class=\"entities\" style=\"line-height: 2.5; direction: ltr\">while in \n",
       "<mark class=\"entity\" style=\"background: #bfe1d9; padding: 0.45em 0.6em; margin: 0 0.25em; line-height: 1; border-radius: 0.35em;\">\n",
       "    any given calendar quarter\n",
       "    <span style=\"font-size: 0.8em; font-weight: bold; line-height: 1; border-radius: 0.35em; vertical-align: middle; margin-left: 0.5rem\">DATE</span>\n",
       "</mark>\n",
       " the quantity and quality of movies can drive volatile results , box office revenues have generally advanced from \n",
       "<mark class=\"entity\" style=\"background: #bfe1d9; padding: 0.45em 0.6em; margin: 0 0.25em; line-height: 1; border-radius: 0.35em;\">\n",
       "    2011\n",
       "    <span style=\"font-size: 0.8em; font-weight: bold; line-height: 1; border-radius: 0.35em; vertical-align: middle; margin-left: 0.5rem\">DATE</span>\n",
       "</mark>\n",
       " to \n",
       "<mark class=\"entity\" style=\"background: #bfe1d9; padding: 0.45em 0.6em; margin: 0 0.25em; line-height: 1; border-radius: 0.35em;\">\n",
       "    2019\n",
       "    <span style=\"font-size: 0.8em; font-weight: bold; line-height: 1; border-radius: 0.35em; vertical-align: middle; margin-left: 0.5rem\">DATE</span>\n",
       "</mark>\n",
       ". the industrys best year ever , in terms of revenues , was \n",
       "<mark class=\"entity\" style=\"background: #bfe1d9; padding: 0.45em 0.6em; margin: 0 0.25em; line-height: 1; border-radius: 0.35em;\">\n",
       "    2018\n",
       "    <span style=\"font-size: 0.8em; font-weight: bold; line-height: 1; border-radius: 0.35em; vertical-align: middle; margin-left: 0.5rem\">DATE</span>\n",
       "</mark>\n",
       " , with box office revenues of \n",
       "<mark class=\"entity\" style=\"background: #e4e7d2; padding: 0.45em 0.6em; margin: 0 0.25em; line-height: 1; border-radius: 0.35em;\">\n",
       "    approximately $ 11.9 billion\n",
       "    <span style=\"font-size: 0.8em; font-weight: bold; line-height: 1; border-radius: 0.35em; vertical-align: middle; margin-left: 0.5rem\">MONEY</span>\n",
       "</mark>\n",
       " , an increase of \n",
       "<mark class=\"entity\" style=\"background: #e4e7d2; padding: 0.45em 0.6em; margin: 0 0.25em; line-height: 1; border-radius: 0.35em;\">\n",
       "    approximately 7.1 %\n",
       "    <span style=\"font-size: 0.8em; font-weight: bold; line-height: 1; border-radius: 0.35em; vertical-align: middle; margin-left: 0.5rem\">PERCENT</span>\n",
       "</mark>\n",
       " from \n",
       "<mark class=\"entity\" style=\"background: #bfe1d9; padding: 0.45em 0.6em; margin: 0 0.25em; line-height: 1; border-radius: 0.35em;\">\n",
       "    2017\n",
       "    <span style=\"font-size: 0.8em; font-weight: bold; line-height: 1; border-radius: 0.35em; vertical-align: middle; margin-left: 0.5rem\">DATE</span>\n",
       "</mark>\n",
       " , with \n",
       "<mark class=\"entity\" style=\"background: #e4e7d2; padding: 0.45em 0.6em; margin: 0 0.25em; line-height: 1; border-radius: 0.35em;\">\n",
       "    1.3 billion\n",
       "    <span style=\"font-size: 0.8em; font-weight: bold; line-height: 1; border-radius: 0.35em; vertical-align: middle; margin-left: 0.5rem\">CARDINAL</span>\n",
       "</mark>\n",
       " admissions in the \n",
       "<mark class=\"entity\" style=\"background: #feca74; padding: 0.45em 0.6em; margin: 0 0.25em; line-height: 1; border-radius: 0.35em;\">\n",
       "    u.s\n",
       "    <span style=\"font-size: 0.8em; font-weight: bold; line-height: 1; border-radius: 0.35em; vertical-align: middle; margin-left: 0.5rem\">GPE</span>\n",
       "</mark>\n",
       ". and canada .</div></span>"
      ],
      "text/plain": [
       "<IPython.core.display.HTML object>"
      ]
     },
     "metadata": {},
     "output_type": "display_data"
    },
    {
     "name": "stdout",
     "output_type": "stream",
     "text": [
      "[]\n"
     ]
    },
    {
     "data": {
      "text/html": [
       "<span class=\"tex2jax_ignore\"><div class=\"entities\" style=\"line-height: 2.5; direction: ltr\">due to the covid-19 pandemic , local , state and federal governments issued stay-at-home orders and closure notices for certain businesses , including all theatres and studio production , for an extended portion of \n",
       "<mark class=\"entity\" style=\"background: #bfe1d9; padding: 0.45em 0.6em; margin: 0 0.25em; line-height: 1; border-radius: 0.35em;\">\n",
       "    2020\n",
       "    <span style=\"font-size: 0.8em; font-weight: bold; line-height: 1; border-radius: 0.35em; vertical-align: middle; margin-left: 0.5rem\">DATE</span>\n",
       "</mark>\n",
       ". as a result , new film content production remained nearly non-existent and a large portion of \n",
       "<mark class=\"entity\" style=\"background: #bfe1d9; padding: 0.45em 0.6em; margin: 0 0.25em; line-height: 1; border-radius: 0.35em;\">\n",
       "    2020\n",
       "    <span style=\"font-size: 0.8em; font-weight: bold; line-height: 1; border-radius: 0.35em; vertical-align: middle; margin-left: 0.5rem\">DATE</span>\n",
       "</mark>\n",
       " scheduled movies were released in the home on streaming platforms or moved into \n",
       "<mark class=\"entity\" style=\"background: #bfe1d9; padding: 0.45em 0.6em; margin: 0 0.25em; line-height: 1; border-radius: 0.35em;\">\n",
       "    2021\n",
       "    <span style=\"font-size: 0.8em; font-weight: bold; line-height: 1; border-radius: 0.35em; vertical-align: middle; margin-left: 0.5rem\">DATE</span>\n",
       "</mark>\n",
       ". we believe it is the quality of the movie-going experience that will define future success .</div></span>"
      ],
      "text/plain": [
       "<IPython.core.display.HTML object>"
      ]
     },
     "metadata": {},
     "output_type": "display_data"
    },
    {
     "name": "stdout",
     "output_type": "stream",
     "text": [
      "[]\n"
     ]
    },
    {
     "data": {
      "text/html": [
       "<span class=\"tex2jax_ignore\"><div class=\"entities\" style=\"line-height: 2.5; direction: ltr\">whether through enhanced food and beverage options ( food and beverage kiosks , marketplaces , coca-cola freestyle , macguffins or dine-in theatres ) , more comfort and convenience ( recliner seating , open-source internet ticketing , reserved seating ) , engagement and loyalty ( amc stubs , mobile apps , social media ) or sight and sound ( digital projectors , \n",
       "<mark class=\"entity\" style=\"background: #e4e7d2; padding: 0.45em 0.6em; margin: 0 0.25em; line-height: 1; border-radius: 0.35em;\">\n",
       "    3\n",
       "    <span style=\"font-size: 0.8em; font-weight: bold; line-height: 1; border-radius: 0.35em; vertical-align: middle; margin-left: 0.5rem\">CARDINAL</span>\n",
       "</mark>\n",
       " d , dolby cinemaTM at amc , other plf screens or imax ) , it is the ease of use and the amenities that these innovations bring to customers that we believe will drive sustained profitability in \n",
       "<mark class=\"entity\" style=\"background: #bfe1d9; padding: 0.45em 0.6em; margin: 0 0.25em; line-height: 1; border-radius: 0.35em;\">\n",
       "    the years ahead\n",
       "    <span style=\"font-size: 0.8em; font-weight: bold; line-height: 1; border-radius: 0.35em; vertical-align: middle; margin-left: 0.5rem\">DATE</span>\n",
       "</mark>\n",
       " .</div></span>"
      ],
      "text/plain": [
       "<IPython.core.display.HTML object>"
      ]
     },
     "metadata": {},
     "output_type": "display_data"
    },
    {
     "name": "stdout",
     "output_type": "stream",
     "text": [
      "[]\n"
     ]
    },
    {
     "data": {
      "text/html": [
       "<span class=\"tex2jax_ignore\"><div class=\"entities\" style=\"line-height: 2.5; direction: ltr\">the following table represents information about the u.s./canada exhibition industry obtained from the national association of theatre owners box office average revenuesattendanceticketnumber ofindoor \n",
       "<mark class=\"entity\" style=\"background: #bfe1d9; padding: 0.45em 0.6em; margin: 0 0.25em; line-height: 1; border-radius: 0.35em;\">\n",
       "    calendar year\n",
       "    <span style=\"font-size: 0.8em; font-weight: bold; line-height: 1; border-radius: 0.35em; vertical-align: middle; margin-left: 0.5rem\">DATE</span>\n",
       "</mark>\n",
       " ( in \n",
       "<mark class=\"entity\" style=\"background: #e4e7d2; padding: 0.45em 0.6em; margin: 0 0.25em; line-height: 1; border-radius: 0.35em;\">\n",
       "    millions\n",
       "    <span style=\"font-size: 0.8em; font-weight: bold; line-height: 1; border-radius: 0.35em; vertical-align: middle; margin-left: 0.5rem\">CARDINAL</span>\n",
       "</mark>\n",
       " ) ( in \n",
       "<mark class=\"entity\" style=\"background: #e4e7d2; padding: 0.45em 0.6em; margin: 0 0.25em; line-height: 1; border-radius: 0.35em;\">\n",
       "    millions\n",
       "    <span style=\"font-size: 0.8em; font-weight: bold; line-height: 1; border-radius: 0.35em; vertical-align: middle; margin-left: 0.5rem\">CARDINAL</span>\n",
       "</mark>\n",
       " ) pricetheatresscreens \n",
       "<mark class=\"entity\" style=\"background: #e4e7d2; padding: 0.45em 0.6em; margin: 0 0.25em; line-height: 1; border-radius: 0.35em;\">\n",
       "    2020 $ 2,205 240 $\n",
       "    <span style=\"font-size: 0.8em; font-weight: bold; line-height: 1; border-radius: 0.35em; vertical-align: middle; margin-left: 0.5rem\">MONEY</span>\n",
       "</mark>\n",
       " \n",
       "<mark class=\"entity\" style=\"background: #e4e7d2; padding: 0.45em 0.6em; margin: 0 0.25em; line-height: 1; border-radius: 0.35em;\">\n",
       "    9.18\n",
       "    <span style=\"font-size: 0.8em; font-weight: bold; line-height: 1; border-radius: 0.35em; vertical-align: middle; margin-left: 0.5rem\">MONEY</span>\n",
       "</mark>\n",
       " 5,477 40,2002019 11,400 1,244 \n",
       "<mark class=\"entity\" style=\"background: #e4e7d2; padding: 0.45em 0.6em; margin: 0 0.25em; line-height: 1; border-radius: 0.35em;\">\n",
       "    9.16 5,548\n",
       "    <span style=\"font-size: 0.8em; font-weight: bold; line-height: 1; border-radius: 0.35em; vertical-align: middle; margin-left: 0.5rem\">CARDINAL</span>\n",
       "</mark>\n",
       " 40,6132018 11,880 \n",
       "<mark class=\"entity\" style=\"background: #e4e7d2; padding: 0.45em 0.6em; margin: 0 0.25em; line-height: 1; border-radius: 0.35em;\">\n",
       "    1,304\n",
       "    <span style=\"font-size: 0.8em; font-weight: bold; line-height: 1; border-radius: 0.35em; vertical-align: middle; margin-left: 0.5rem\">CARDINAL</span>\n",
       "</mark>\n",
       " \n",
       "<mark class=\"entity\" style=\"background: #e4e7d2; padding: 0.45em 0.6em; margin: 0 0.25em; line-height: 1; border-radius: 0.35em;\">\n",
       "    9.11\n",
       "    <span style=\"font-size: 0.8em; font-weight: bold; line-height: 1; border-radius: 0.35em; vertical-align: middle; margin-left: 0.5rem\">CARDINAL</span>\n",
       "</mark>\n",
       " 5,482 40,3132017 11,091 1,236 \n",
       "<mark class=\"entity\" style=\"background: #e4e7d2; padding: 0.45em 0.6em; margin: 0 0.25em; line-height: 1; border-radius: 0.35em;\">\n",
       "    8.97 5,398\n",
       "    <span style=\"font-size: 0.8em; font-weight: bold; line-height: 1; border-radius: 0.35em; vertical-align: middle; margin-left: 0.5rem\">CARDINAL</span>\n",
       "</mark>\n",
       " 39,6512016 \n",
       "<mark class=\"entity\" style=\"background: #e4e7d2; padding: 0.45em 0.6em; margin: 0 0.25em; line-height: 1; border-radius: 0.35em;\">\n",
       "    11,372\n",
       "    <span style=\"font-size: 0.8em; font-weight: bold; line-height: 1; border-radius: 0.35em; vertical-align: middle; margin-left: 0.5rem\">CARDINAL</span>\n",
       "</mark>\n",
       " 1,314 \n",
       "<mark class=\"entity\" style=\"background: #e4e7d2; padding: 0.45em 0.6em; margin: 0 0.25em; line-height: 1; border-radius: 0.35em;\">\n",
       "    8.65\n",
       "    <span style=\"font-size: 0.8em; font-weight: bold; line-height: 1; border-radius: 0.35em; vertical-align: middle; margin-left: 0.5rem\">CARDINAL</span>\n",
       "</mark>\n",
       " 5,472 40,0092015 \n",
       "<mark class=\"entity\" style=\"background: #e4e7d2; padding: 0.45em 0.6em; margin: 0 0.25em; line-height: 1; border-radius: 0.35em;\">\n",
       "    11,120\n",
       "    <span style=\"font-size: 0.8em; font-weight: bold; line-height: 1; border-radius: 0.35em; vertical-align: middle; margin-left: 0.5rem\">CARDINAL</span>\n",
       "</mark>\n",
       " 1,320 \n",
       "<mark class=\"entity\" style=\"background: #e4e7d2; padding: 0.45em 0.6em; margin: 0 0.25em; line-height: 1; border-radius: 0.35em;\">\n",
       "    8.42\n",
       "    <span style=\"font-size: 0.8em; font-weight: bold; line-height: 1; border-radius: 0.35em; vertical-align: middle; margin-left: 0.5rem\">CARDINAL</span>\n",
       "</mark>\n",
       " 5,484 39,4112014 10,400 \n",
       "<mark class=\"entity\" style=\"background: #e4e7d2; padding: 0.45em 0.6em; margin: 0 0.25em; line-height: 1; border-radius: 0.35em;\">\n",
       "    1,270\n",
       "    <span style=\"font-size: 0.8em; font-weight: bold; line-height: 1; border-radius: 0.35em; vertical-align: middle; margin-left: 0.5rem\">CARDINAL</span>\n",
       "</mark>\n",
       " 8.19 \n",
       "<mark class=\"entity\" style=\"background: #e4e7d2; padding: 0.45em 0.6em; margin: 0 0.25em; line-height: 1; border-radius: 0.35em;\">\n",
       "    5,463\n",
       "    <span style=\"font-size: 0.8em; font-weight: bold; line-height: 1; border-radius: 0.35em; vertical-align: middle; margin-left: 0.5rem\">CARDINAL</span>\n",
       "</mark>\n",
       " \n",
       "<mark class=\"entity\" style=\"background: #e4e7d2; padding: 0.45em 0.6em; margin: 0 0.25em; line-height: 1; border-radius: 0.35em;\">\n",
       "    39,3562013\n",
       "    <span style=\"font-size: 0.8em; font-weight: bold; line-height: 1; border-radius: 0.35em; vertical-align: middle; margin-left: 0.5rem\">CARDINAL</span>\n",
       "</mark>\n",
       " \n",
       "<mark class=\"entity\" style=\"background: #e4e7d2; padding: 0.45em 0.6em; margin: 0 0.25em; line-height: 1; border-radius: 0.35em;\">\n",
       "    10,920\n",
       "    <span style=\"font-size: 0.8em; font-weight: bold; line-height: 1; border-radius: 0.35em; vertical-align: middle; margin-left: 0.5rem\">CARDINAL</span>\n",
       "</mark>\n",
       " \n",
       "<mark class=\"entity\" style=\"background: #e4e7d2; padding: 0.45em 0.6em; margin: 0 0.25em; line-height: 1; border-radius: 0.35em;\">\n",
       "    1,340\n",
       "    <span style=\"font-size: 0.8em; font-weight: bold; line-height: 1; border-radius: 0.35em; vertical-align: middle; margin-left: 0.5rem\">CARDINAL</span>\n",
       "</mark>\n",
       " 8.15 5,326 39,3682012 10,790 1,360 \n",
       "<mark class=\"entity\" style=\"background: #e4e7d2; padding: 0.45em 0.6em; margin: 0 0.25em; line-height: 1; border-radius: 0.35em;\">\n",
       "    7.93 5,317\n",
       "    <span style=\"font-size: 0.8em; font-weight: bold; line-height: 1; border-radius: 0.35em; vertical-align: middle; margin-left: 0.5rem\">MONEY</span>\n",
       "</mark>\n",
       " 39,0562011 10,180 1,280 \n",
       "<mark class=\"entity\" style=\"background: #e4e7d2; padding: 0.45em 0.6em; margin: 0 0.25em; line-height: 1; border-radius: 0.35em;\">\n",
       "    7.95 5,331 38,974\n",
       "    <span style=\"font-size: 0.8em; font-weight: bold; line-height: 1; border-radius: 0.35em; vertical-align: middle; margin-left: 0.5rem\">CARDINAL</span>\n",
       "</mark>\n",
       " based on information obtained from comscore , we believe that the \n",
       "<mark class=\"entity\" style=\"background: #e4e7d2; padding: 0.45em 0.6em; margin: 0 0.25em; line-height: 1; border-radius: 0.35em;\">\n",
       "    three\n",
       "    <span style=\"font-size: 0.8em; font-weight: bold; line-height: 1; border-radius: 0.35em; vertical-align: middle; margin-left: 0.5rem\">CARDINAL</span>\n",
       "</mark>\n",
       " largest exhibitors , in terms of u.s./canada box office revenue ( amc , regal entertainment group , and cinemark holdings , inc. ) generated \n",
       "<mark class=\"entity\" style=\"background: #e4e7d2; padding: 0.45em 0.6em; margin: 0 0.25em; line-height: 1; border-radius: 0.35em;\">\n",
       "    approximately 60 %\n",
       "    <span style=\"font-size: 0.8em; font-weight: bold; line-height: 1; border-radius: 0.35em; vertical-align: middle; margin-left: 0.5rem\">PERCENT</span>\n",
       "</mark>\n",
       " of the box office revenues in \n",
       "<mark class=\"entity\" style=\"background: #bfe1d9; padding: 0.45em 0.6em; margin: 0 0.25em; line-height: 1; border-radius: 0.35em;\">\n",
       "    2020\n",
       "    <span style=\"font-size: 0.8em; font-weight: bold; line-height: 1; border-radius: 0.35em; vertical-align: middle; margin-left: 0.5rem\">DATE</span>\n",
       "</mark>\n",
       ". international markets .</div></span>"
      ],
      "text/plain": [
       "<IPython.core.display.HTML object>"
      ]
     },
     "metadata": {},
     "output_type": "display_data"
    },
    {
     "name": "stdout",
     "output_type": "stream",
     "text": [
      "[]\n"
     ]
    },
    {
     "data": {
      "text/html": [
       "<span class=\"tex2jax_ignore\"><div class=\"entities\" style=\"line-height: 2.5; direction: ltr\">movie-going is a popular leisure activity with high penetration across key geographies in our international markets .</div></span>"
      ],
      "text/plain": [
       "<IPython.core.display.HTML object>"
      ]
     },
     "metadata": {},
     "output_type": "display_data"
    },
    {
     "name": "stdout",
     "output_type": "stream",
     "text": [
      "[]\n"
     ]
    },
    {
     "data": {
      "text/html": [
       "<span class=\"tex2jax_ignore\"><div class=\"entities\" style=\"line-height: 2.5; direction: ltr\">theatre appeal has proven resilient to competition for consumers leisure spending and to recessionary periods and we believe we will continue to benefit from increased spending across international markets .</div></span>"
      ],
      "text/plain": [
       "<IPython.core.display.HTML object>"
      ]
     },
     "metadata": {},
     "output_type": "display_data"
    },
    {
     "name": "stdout",
     "output_type": "stream",
     "text": [
      "[]\n"
     ]
    },
    {
     "data": {
      "text/html": [
       "<span class=\"tex2jax_ignore\"><div class=\"entities\" style=\"line-height: 2.5; direction: ltr\">the european market lags the \n",
       "<mark class=\"entity\" style=\"background: #feca74; padding: 0.45em 0.6em; margin: 0 0.25em; line-height: 1; border-radius: 0.35em;\">\n",
       "    u.s\n",
       "    <span style=\"font-size: 0.8em; font-weight: bold; line-height: 1; border-radius: 0.35em; vertical-align: middle; margin-left: 0.5rem\">GPE</span>\n",
       "</mark>\n",
       ". market across a number of factors , including \n",
       "<mark class=\"entity\" style=\"background: #bfe1d9; padding: 0.45em 0.6em; margin: 0 0.25em; line-height: 1; border-radius: 0.35em;\">\n",
       "    annual\n",
       "    <span style=\"font-size: 0.8em; font-weight: bold; line-height: 1; border-radius: 0.35em; vertical-align: middle; margin-left: 0.5rem\">DATE</span>\n",
       "</mark>\n",
       " spend per customer , number of imax screens and screens per capita that cause us to believe that the deployment of our customer initiatives will be successful in these markets .</div></span>"
      ],
      "text/plain": [
       "<IPython.core.display.HTML object>"
      ]
     },
     "metadata": {},
     "output_type": "display_data"
    },
    {
     "name": "stdout",
     "output_type": "stream",
     "text": [
      "[]\n"
     ]
    },
    {
     "data": {
      "text/html": [
       "<span class=\"tex2jax_ignore\"><div class=\"entities\" style=\"line-height: 2.5; direction: ltr\">on the other hand , our european markets are more densely populated and operate with fewer screens per \n",
       "<mark class=\"entity\" style=\"background: #e4e7d2; padding: 0.45em 0.6em; margin: 0 0.25em; line-height: 1; border-radius: 0.35em;\">\n",
       "    one million\n",
       "    <span style=\"font-size: 0.8em; font-weight: bold; line-height: 1; border-radius: 0.35em; vertical-align: middle; margin-left: 0.5rem\">CARDINAL</span>\n",
       "</mark>\n",
       " of population , making the screens we acquired more valuable.additionally , \n",
       "<mark class=\"entity\" style=\"background: #feca74; padding: 0.45em 0.6em; margin: 0 0.25em; line-height: 1; border-radius: 0.35em;\">\n",
       "    u.s\n",
       "    <span style=\"font-size: 0.8em; font-weight: bold; line-height: 1; border-radius: 0.35em; vertical-align: middle; margin-left: 0.5rem\">GPE</span>\n",
       "</mark>\n",
       ". films generate the majority of the box office in europe , but movie-goers in specific geographies welcome locally produced films with local actors and familiar story lines which can mitigate film genre attendance fluctuations .</div></span>"
      ],
      "text/plain": [
       "<IPython.core.display.HTML object>"
      ]
     },
     "metadata": {},
     "output_type": "display_data"
    },
    {
     "name": "stdout",
     "output_type": "stream",
     "text": [
      "[]\n"
     ]
    },
    {
     "data": {
      "text/html": [
       "<span class=\"tex2jax_ignore\"><div class=\"entities\" style=\"line-height: 2.5; direction: ltr\">going forward , we believe we will see positive growth in theatre attendance as we deploy our proven guest centered innovations like recliner seating , enhanced food and beverage offerings , and premium large \n",
       "<mark class=\"entity\" style=\"background: #e4e7d2; padding: 0.45em 0.6em; margin: 0 0.25em; line-height: 1; border-radius: 0.35em;\">\n",
       "    18\n",
       "    <span style=\"font-size: 0.8em; font-weight: bold; line-height: 1; border-radius: 0.35em; vertical-align: middle; margin-left: 0.5rem\">CARDINAL</span>\n",
       "</mark>\n",
       " table of contentsformat experiences .</div></span>"
      ],
      "text/plain": [
       "<IPython.core.display.HTML object>"
      ]
     },
     "metadata": {},
     "output_type": "display_data"
    },
    {
     "name": "stdout",
     "output_type": "stream",
     "text": [
      "[]\n"
     ]
    },
    {
     "data": {
      "text/html": [
       "<span class=\"tex2jax_ignore\"><div class=\"entities\" style=\"line-height: 2.5; direction: ltr\">like the \n",
       "<mark class=\"entity\" style=\"background: #feca74; padding: 0.45em 0.6em; margin: 0 0.25em; line-height: 1; border-radius: 0.35em;\">\n",
       "    u.s\n",
       "    <span style=\"font-size: 0.8em; font-weight: bold; line-height: 1; border-radius: 0.35em; vertical-align: middle; margin-left: 0.5rem\">GPE</span>\n",
       "</mark>\n",
       ". , the international industry box office suffered from \n",
       "<mark class=\"entity\" style=\"background: #bfe1d9; padding: 0.45em 0.6em; margin: 0 0.25em; line-height: 1; border-radius: 0.35em;\">\n",
       "    months\n",
       "    <span style=\"font-size: 0.8em; font-weight: bold; line-height: 1; border-radius: 0.35em; vertical-align: middle; margin-left: 0.5rem\">DATE</span>\n",
       "</mark>\n",
       " of theatre closures , significantly fewer new films and reopening restrictions and generated far fewer sales than 2019.the following table provides information about the exhibition industry attendance for the international markets where we operate obtained from screen digest as well as territory industry trade sources \n",
       "<mark class=\"entity\" style=\"background: #bfe1d9; padding: 0.45em 0.6em; margin: 0 0.25em; line-height: 1; border-radius: 0.35em;\">\n",
       "    calendar year\n",
       "    <span style=\"font-size: 0.8em; font-weight: bold; line-height: 1; border-radius: 0.35em; vertical-align: middle; margin-left: 0.5rem\">DATE</span>\n",
       "</mark>\n",
       " ( in \n",
       "<mark class=\"entity\" style=\"background: #e4e7d2; padding: 0.45em 0.6em; margin: 0 0.25em; line-height: 1; border-radius: 0.35em;\">\n",
       "    millions\n",
       "    <span style=\"font-size: 0.8em; font-weight: bold; line-height: 1; border-radius: 0.35em; vertical-align: middle; margin-left: 0.5rem\">CARDINAL</span>\n",
       "</mark>\n",
       " ) 2020201920182017 united kingdom \n",
       "<mark class=\"entity\" style=\"background: #e4e7d2; padding: 0.45em 0.6em; margin: 0 0.25em; line-height: 1; border-radius: 0.35em;\">\n",
       "    44.0\n",
       "    <span style=\"font-size: 0.8em; font-weight: bold; line-height: 1; border-radius: 0.35em; vertical-align: middle; margin-left: 0.5rem\">CARDINAL</span>\n",
       "</mark>\n",
       " 176.0 \n",
       "<mark class=\"entity\" style=\"background: #e4e7d2; padding: 0.45em 0.6em; margin: 0 0.25em; line-height: 1; border-radius: 0.35em;\">\n",
       "    177.3\n",
       "    <span style=\"font-size: 0.8em; font-weight: bold; line-height: 1; border-radius: 0.35em; vertical-align: middle; margin-left: 0.5rem\">CARDINAL</span>\n",
       "</mark>\n",
       " \n",
       "<mark class=\"entity\" style=\"background: #e4e7d2; padding: 0.45em 0.6em; margin: 0 0.25em; line-height: 1; border-radius: 0.35em;\">\n",
       "    170.6\n",
       "    <span style=\"font-size: 0.8em; font-weight: bold; line-height: 1; border-radius: 0.35em; vertical-align: middle; margin-left: 0.5rem\">CARDINAL</span>\n",
       "</mark>\n",
       " germany \n",
       "<mark class=\"entity\" style=\"background: #e4e7d2; padding: 0.45em 0.6em; margin: 0 0.25em; line-height: 1; border-radius: 0.35em;\">\n",
       "    37.3\n",
       "    <span style=\"font-size: 0.8em; font-weight: bold; line-height: 1; border-radius: 0.35em; vertical-align: middle; margin-left: 0.5rem\">CARDINAL</span>\n",
       "</mark>\n",
       " \n",
       "<mark class=\"entity\" style=\"background: #e4e7d2; padding: 0.45em 0.6em; margin: 0 0.25em; line-height: 1; border-radius: 0.35em;\">\n",
       "    119.9\n",
       "    <span style=\"font-size: 0.8em; font-weight: bold; line-height: 1; border-radius: 0.35em; vertical-align: middle; margin-left: 0.5rem\">CARDINAL</span>\n",
       "</mark>\n",
       " \n",
       "<mark class=\"entity\" style=\"background: #e4e7d2; padding: 0.45em 0.6em; margin: 0 0.25em; line-height: 1; border-radius: 0.35em;\">\n",
       "    104.2\n",
       "    <span style=\"font-size: 0.8em; font-weight: bold; line-height: 1; border-radius: 0.35em; vertical-align: middle; margin-left: 0.5rem\">CARDINAL</span>\n",
       "</mark>\n",
       " \n",
       "<mark class=\"entity\" style=\"background: #e4e7d2; padding: 0.45em 0.6em; margin: 0 0.25em; line-height: 1; border-radius: 0.35em;\">\n",
       "    122.3\n",
       "    <span style=\"font-size: 0.8em; font-weight: bold; line-height: 1; border-radius: 0.35em; vertical-align: middle; margin-left: 0.5rem\">CARDINAL</span>\n",
       "</mark>\n",
       " spain \n",
       "<mark class=\"entity\" style=\"background: #e4e7d2; padding: 0.45em 0.6em; margin: 0 0.25em; line-height: 1; border-radius: 0.35em;\">\n",
       "    28.7\n",
       "    <span style=\"font-size: 0.8em; font-weight: bold; line-height: 1; border-radius: 0.35em; vertical-align: middle; margin-left: 0.5rem\">CARDINAL</span>\n",
       "</mark>\n",
       " 105.8 97.8 \n",
       "<mark class=\"entity\" style=\"background: #e4e7d2; padding: 0.45em 0.6em; margin: 0 0.25em; line-height: 1; border-radius: 0.35em;\">\n",
       "    99.8\n",
       "    <span style=\"font-size: 0.8em; font-weight: bold; line-height: 1; border-radius: 0.35em; vertical-align: middle; margin-left: 0.5rem\">CARDINAL</span>\n",
       "</mark>\n",
       " italy \n",
       "<mark class=\"entity\" style=\"background: #e4e7d2; padding: 0.45em 0.6em; margin: 0 0.25em; line-height: 1; border-radius: 0.35em;\">\n",
       "    30.2\n",
       "    <span style=\"font-size: 0.8em; font-weight: bold; line-height: 1; border-radius: 0.35em; vertical-align: middle; margin-left: 0.5rem\">CARDINAL</span>\n",
       "</mark>\n",
       " \n",
       "<mark class=\"entity\" style=\"background: #e4e7d2; padding: 0.45em 0.6em; margin: 0 0.25em; line-height: 1; border-radius: 0.35em;\">\n",
       "    104.7\n",
       "    <span style=\"font-size: 0.8em; font-weight: bold; line-height: 1; border-radius: 0.35em; vertical-align: middle; margin-left: 0.5rem\">CARDINAL</span>\n",
       "</mark>\n",
       " \n",
       "<mark class=\"entity\" style=\"background: #e4e7d2; padding: 0.45em 0.6em; margin: 0 0.25em; line-height: 1; border-radius: 0.35em;\">\n",
       "    91.8 99.0\n",
       "    <span style=\"font-size: 0.8em; font-weight: bold; line-height: 1; border-radius: 0.35em; vertical-align: middle; margin-left: 0.5rem\">CARDINAL</span>\n",
       "</mark>\n",
       " sweden \n",
       "<mark class=\"entity\" style=\"background: #e4e7d2; padding: 0.45em 0.6em; margin: 0 0.25em; line-height: 1; border-radius: 0.35em;\">\n",
       "    5.4\n",
       "    <span style=\"font-size: 0.8em; font-weight: bold; line-height: 1; border-radius: 0.35em; vertical-align: middle; margin-left: 0.5rem\">CARDINAL</span>\n",
       "</mark>\n",
       " \n",
       "<mark class=\"entity\" style=\"background: #e4e7d2; padding: 0.45em 0.6em; margin: 0 0.25em; line-height: 1; border-radius: 0.35em;\">\n",
       "    15.8 16.3 16.9\n",
       "    <span style=\"font-size: 0.8em; font-weight: bold; line-height: 1; border-radius: 0.35em; vertical-align: middle; margin-left: 0.5rem\">QUANTITY</span>\n",
       "</mark>\n",
       " ireland \n",
       "<mark class=\"entity\" style=\"background: #e4e7d2; padding: 0.45em 0.6em; margin: 0 0.25em; line-height: 1; border-radius: 0.35em;\">\n",
       "    3.9\n",
       "    <span style=\"font-size: 0.8em; font-weight: bold; line-height: 1; border-radius: 0.35em; vertical-align: middle; margin-left: 0.5rem\">CARDINAL</span>\n",
       "</mark>\n",
       " \n",
       "<mark class=\"entity\" style=\"background: #e4e7d2; padding: 0.45em 0.6em; margin: 0 0.25em; line-height: 1; border-radius: 0.35em;\">\n",
       "    15.1\n",
       "    <span style=\"font-size: 0.8em; font-weight: bold; line-height: 1; border-radius: 0.35em; vertical-align: middle; margin-left: 0.5rem\">CARDINAL</span>\n",
       "</mark>\n",
       " \n",
       "<mark class=\"entity\" style=\"background: #e4e7d2; padding: 0.45em 0.6em; margin: 0 0.25em; line-height: 1; border-radius: 0.35em;\">\n",
       "    15.8\n",
       "    <span style=\"font-size: 0.8em; font-weight: bold; line-height: 1; border-radius: 0.35em; vertical-align: middle; margin-left: 0.5rem\">CARDINAL</span>\n",
       "</mark>\n",
       " \n",
       "<mark class=\"entity\" style=\"background: #e4e7d2; padding: 0.45em 0.6em; margin: 0 0.25em; line-height: 1; border-radius: 0.35em;\">\n",
       "    16.1\n",
       "    <span style=\"font-size: 0.8em; font-weight: bold; line-height: 1; border-radius: 0.35em; vertical-align: middle; margin-left: 0.5rem\">CARDINAL</span>\n",
       "</mark>\n",
       " portugal \n",
       "<mark class=\"entity\" style=\"background: #e4e7d2; padding: 0.45em 0.6em; margin: 0 0.25em; line-height: 1; border-radius: 0.35em;\">\n",
       "    3.6\n",
       "    <span style=\"font-size: 0.8em; font-weight: bold; line-height: 1; border-radius: 0.35em; vertical-align: middle; margin-left: 0.5rem\">CARDINAL</span>\n",
       "</mark>\n",
       " \n",
       "<mark class=\"entity\" style=\"background: #e4e7d2; padding: 0.45em 0.6em; margin: 0 0.25em; line-height: 1; border-radius: 0.35em;\">\n",
       "    15.2 14.6 15.6\n",
       "    <span style=\"font-size: 0.8em; font-weight: bold; line-height: 1; border-radius: 0.35em; vertical-align: middle; margin-left: 0.5rem\">QUANTITY</span>\n",
       "</mark>\n",
       " norway \n",
       "<mark class=\"entity\" style=\"background: #e4e7d2; padding: 0.45em 0.6em; margin: 0 0.25em; line-height: 1; border-radius: 0.35em;\">\n",
       "    4.8\n",
       "    <span style=\"font-size: 0.8em; font-weight: bold; line-height: 1; border-radius: 0.35em; vertical-align: middle; margin-left: 0.5rem\">CARDINAL</span>\n",
       "</mark>\n",
       " \n",
       "<mark class=\"entity\" style=\"background: #e4e7d2; padding: 0.45em 0.6em; margin: 0 0.25em; line-height: 1; border-radius: 0.35em;\">\n",
       "    11.3 12.1 11.8\n",
       "    <span style=\"font-size: 0.8em; font-weight: bold; line-height: 1; border-radius: 0.35em; vertical-align: middle; margin-left: 0.5rem\">QUANTITY</span>\n",
       "</mark>\n",
       " baltics ( \n",
       "<mark class=\"entity\" style=\"background: #e4e7d2; padding: 0.45em 0.6em; margin: 0 0.25em; line-height: 1; border-radius: 0.35em;\">\n",
       "    1\n",
       "    <span style=\"font-size: 0.8em; font-weight: bold; line-height: 1; border-radius: 0.35em; vertical-align: middle; margin-left: 0.5rem\">CARDINAL</span>\n",
       "</mark>\n",
       " ) \n",
       "<mark class=\"entity\" style=\"background: #e4e7d2; padding: 0.45em 0.6em; margin: 0 0.25em; line-height: 1; border-radius: 0.35em;\">\n",
       "    3.7\n",
       "    <span style=\"font-size: 0.8em; font-weight: bold; line-height: 1; border-radius: 0.35em; vertical-align: middle; margin-left: 0.5rem\">CARDINAL</span>\n",
       "</mark>\n",
       " 10.1 \n",
       "<mark class=\"entity\" style=\"background: #e4e7d2; padding: 0.45em 0.6em; margin: 0 0.25em; line-height: 1; border-radius: 0.35em;\">\n",
       "    10.5\n",
       "    <span style=\"font-size: 0.8em; font-weight: bold; line-height: 1; border-radius: 0.35em; vertical-align: middle; margin-left: 0.5rem\">CARDINAL</span>\n",
       "</mark>\n",
       " 9.2 finland \n",
       "<mark class=\"entity\" style=\"background: #e4e7d2; padding: 0.45em 0.6em; margin: 0 0.25em; line-height: 1; border-radius: 0.35em;\">\n",
       "    3.9\n",
       "    <span style=\"font-size: 0.8em; font-weight: bold; line-height: 1; border-radius: 0.35em; vertical-align: middle; margin-left: 0.5rem\">CARDINAL</span>\n",
       "</mark>\n",
       " 8.4 \n",
       "<mark class=\"entity\" style=\"background: #e4e7d2; padding: 0.45em 0.6em; margin: 0 0.25em; line-height: 1; border-radius: 0.35em;\">\n",
       "    8.1 8.5\n",
       "    <span style=\"font-size: 0.8em; font-weight: bold; line-height: 1; border-radius: 0.35em; vertical-align: middle; margin-left: 0.5rem\">CARDINAL</span>\n",
       "</mark>\n",
       " total \n",
       "<mark class=\"entity\" style=\"background: #e4e7d2; padding: 0.45em 0.6em; margin: 0 0.25em; line-height: 1; border-radius: 0.35em;\">\n",
       "    165.5\n",
       "    <span style=\"font-size: 0.8em; font-weight: bold; line-height: 1; border-radius: 0.35em; vertical-align: middle; margin-left: 0.5rem\">CARDINAL</span>\n",
       "</mark>\n",
       " 582.3 548.5 \n",
       "<mark class=\"entity\" style=\"background: #e4e7d2; padding: 0.45em 0.6em; margin: 0 0.25em; line-height: 1; border-radius: 0.35em;\">\n",
       "    569.8\n",
       "    <span style=\"font-size: 0.8em; font-weight: bold; line-height: 1; border-radius: 0.35em; vertical-align: middle; margin-left: 0.5rem\">CARDINAL</span>\n",
       "</mark>\n",
       " ( \n",
       "<mark class=\"entity\" style=\"background: #e4e7d2; padding: 0.45em 0.6em; margin: 0 0.25em; line-height: 1; border-radius: 0.35em;\">\n",
       "    1\n",
       "    <span style=\"font-size: 0.8em; font-weight: bold; line-height: 1; border-radius: 0.35em; vertical-align: middle; margin-left: 0.5rem\">CARDINAL</span>\n",
       "</mark>\n",
       " ) on \n",
       "<mark class=\"entity\" style=\"background: #bfe1d9; padding: 0.45em 0.6em; margin: 0 0.25em; line-height: 1; border-radius: 0.35em;\">\n",
       "    august 28 , 2020\n",
       "    <span style=\"font-size: 0.8em; font-weight: bold; line-height: 1; border-radius: 0.35em; vertical-align: middle; margin-left: 0.5rem\">DATE</span>\n",
       "</mark>\n",
       " , the company entered into an agreement to sell its equity interest in forum cinemas ou , which consists of \n",
       "<mark class=\"entity\" style=\"background: #e4e7d2; padding: 0.45em 0.6em; margin: 0 0.25em; line-height: 1; border-radius: 0.35em;\">\n",
       "    nine\n",
       "    <span style=\"font-size: 0.8em; font-weight: bold; line-height: 1; border-radius: 0.35em; vertical-align: middle; margin-left: 0.5rem\">CARDINAL</span>\n",
       "</mark>\n",
       " theatres located in the baltics region ( latvia , \n",
       "<mark class=\"entity\" style=\"background: #feca74; padding: 0.45em 0.6em; margin: 0 0.25em; line-height: 1; border-radius: 0.35em;\">\n",
       "    lithuania\n",
       "    <span style=\"font-size: 0.8em; font-weight: bold; line-height: 1; border-radius: 0.35em; vertical-align: middle; margin-left: 0.5rem\">GPE</span>\n",
       "</mark>\n",
       " and \n",
       "<mark class=\"entity\" style=\"background: #feca74; padding: 0.45em 0.6em; margin: 0 0.25em; line-height: 1; border-radius: 0.35em;\">\n",
       "    estonia\n",
       "    <span style=\"font-size: 0.8em; font-weight: bold; line-height: 1; border-radius: 0.35em; vertical-align: middle; margin-left: 0.5rem\">GPE</span>\n",
       "</mark>\n",
       " ) .</div></span>"
      ],
      "text/plain": [
       "<IPython.core.display.HTML object>"
      ]
     },
     "metadata": {},
     "output_type": "display_data"
    },
    {
     "name": "stdout",
     "output_type": "stream",
     "text": [
      "[]\n"
     ]
    },
    {
     "data": {
      "text/html": [
       "<span class=\"tex2jax_ignore\"><div class=\"entities\" style=\"line-height: 2.5; direction: ltr\">the completion of the sale will take place in several steps and is contingent upon clearance from each regulatory competition council in each country .</div></span>"
      ],
      "text/plain": [
       "<IPython.core.display.HTML object>"
      ]
     },
     "metadata": {},
     "output_type": "display_data"
    },
    {
     "name": "stdout",
     "output_type": "stream",
     "text": [
      "[]\n"
     ]
    },
    {
     "data": {
      "text/html": [
       "<span class=\"tex2jax_ignore\"><div class=\"entities\" style=\"line-height: 2.5; direction: ltr\">for further information see note \n",
       "<mark class=\"entity\" style=\"background: #e4e7d2; padding: 0.45em 0.6em; margin: 0 0.25em; line-height: 1; border-radius: 0.35em;\">\n",
       "    1\n",
       "    <span style=\"font-size: 0.8em; font-weight: bold; line-height: 1; border-radius: 0.35em; vertical-align: middle; margin-left: 0.5rem\">CARDINAL</span>\n",
       "</mark>\n",
       " the company and significant accounting policies in the notes to the consolidated financial statements under part ii , item \n",
       "<mark class=\"entity\" style=\"background: #e4e7d2; padding: 0.45em 0.6em; margin: 0 0.25em; line-height: 1; border-radius: 0.35em;\">\n",
       "    8\n",
       "    <span style=\"font-size: 0.8em; font-weight: bold; line-height: 1; border-radius: 0.35em; vertical-align: middle; margin-left: 0.5rem\">CARDINAL</span>\n",
       "</mark>\n",
       " thereof.competition .</div></span>"
      ],
      "text/plain": [
       "<IPython.core.display.HTML object>"
      ]
     },
     "metadata": {},
     "output_type": "display_data"
    },
    {
     "name": "stdout",
     "output_type": "stream",
     "text": [
      "[]\n"
     ]
    },
    {
     "data": {
      "text/html": [
       "<span class=\"tex2jax_ignore\"><div class=\"entities\" style=\"line-height: 2.5; direction: ltr\">our theatres are subject to varying degrees of competition in the geographic areas in which they operate .</div></span>"
      ],
      "text/plain": [
       "<IPython.core.display.HTML object>"
      ]
     },
     "metadata": {},
     "output_type": "display_data"
    },
    {
     "name": "stdout",
     "output_type": "stream",
     "text": [
      "[]\n"
     ]
    },
    {
     "data": {
      "text/html": [
       "<span class=\"tex2jax_ignore\"><div class=\"entities\" style=\"line-height: 2.5; direction: ltr\">competition is often intense with respect to attracting patrons , licensing motion pictures and finding new theatre sites .</div></span>"
      ],
      "text/plain": [
       "<IPython.core.display.HTML object>"
      ]
     },
     "metadata": {},
     "output_type": "display_data"
    },
    {
     "name": "stdout",
     "output_type": "stream",
     "text": [
      "[]\n"
     ]
    },
    {
     "data": {
      "text/html": [
       "<span class=\"tex2jax_ignore\"><div class=\"entities\" style=\"line-height: 2.5; direction: ltr\">where real estate is readily available , it is easier to open a theatre near \n",
       "<mark class=\"entity\" style=\"background: #e4e7d2; padding: 0.45em 0.6em; margin: 0 0.25em; line-height: 1; border-radius: 0.35em;\">\n",
       "    one\n",
       "    <span style=\"font-size: 0.8em; font-weight: bold; line-height: 1; border-radius: 0.35em; vertical-align: middle; margin-left: 0.5rem\">CARDINAL</span>\n",
       "</mark>\n",
       " of our theatres , which may adversely affect operations at our theatre .</div></span>"
      ],
      "text/plain": [
       "<IPython.core.display.HTML object>"
      ]
     },
     "metadata": {},
     "output_type": "display_data"
    },
    {
     "name": "stdout",
     "output_type": "stream",
     "text": [
      "[]\n"
     ]
    },
    {
     "data": {
      "text/html": [
       "<span class=\"tex2jax_ignore\"><div class=\"entities\" style=\"line-height: 2.5; direction: ltr\">however , in certain of our densely populated major metropolitan markets , we believe a scarcity of attractive retail real estate opportunities enhances the strategic value of our existing theatres .</div></span>"
      ],
      "text/plain": [
       "<IPython.core.display.HTML object>"
      ]
     },
     "metadata": {},
     "output_type": "display_data"
    },
    {
     "name": "stdout",
     "output_type": "stream",
     "text": [
      "[]\n"
     ]
    },
    {
     "data": {
      "text/html": [
       "<span class=\"tex2jax_ignore\"><div class=\"entities\" style=\"line-height: 2.5; direction: ltr\">we also believe the complexity inherent in operating in these major metropolitan markets is a deterrent to other less sophisticated competitors , protecting our market share position.the theatrical exhibition industry faces competition from other forms of out-of-home entertainment , such as concerts , amusement parks and sporting events , and from other distribution channels for filmed entertainment , such as cable television , pay-per-view , video streaming services , pvod , and home video systems , as well as from all other forms of entertainment.we believe movie-going is a compelling consumer out-of-home entertainment experience .</div></span>"
      ],
      "text/plain": [
       "<IPython.core.display.HTML object>"
      ]
     },
     "metadata": {},
     "output_type": "display_data"
    },
    {
     "name": "stdout",
     "output_type": "stream",
     "text": [
      "[]\n"
     ]
    },
    {
     "data": {
      "text/html": [
       "<span class=\"tex2jax_ignore\"><div class=\"entities\" style=\"line-height: 2.5; direction: ltr\">movie theatres currently garner a relatively small share of overall consumer entertainment time and spend , and our industry benefits from available capacity to satisfy additional consumer demand without capital investment.regulatory environmentthe distribution of motion pictures is subject to regulation under federal and state antitrust laws and has been the subject of numerous antitrust cases .</div></span>"
      ],
      "text/plain": [
       "<IPython.core.display.HTML object>"
      ]
     },
     "metadata": {},
     "output_type": "display_data"
    },
    {
     "name": "stdout",
     "output_type": "stream",
     "text": [
      "[]\n"
     ]
    },
    {
     "data": {
      "text/html": [
       "<span class=\"tex2jax_ignore\"><div class=\"entities\" style=\"line-height: 2.5; direction: ltr\">consent decrees , resulting from \n",
       "<mark class=\"entity\" style=\"background: #e4e7d2; padding: 0.45em 0.6em; margin: 0 0.25em; line-height: 1; border-radius: 0.35em;\">\n",
       "    one\n",
       "    <span style=\"font-size: 0.8em; font-weight: bold; line-height: 1; border-radius: 0.35em; vertical-align: middle; margin-left: 0.5rem\">CARDINAL</span>\n",
       "</mark>\n",
       " of those cases to which we were not a party , have had a material impact on the industry and us .</div></span>"
      ],
      "text/plain": [
       "<IPython.core.display.HTML object>"
      ]
     },
     "metadata": {},
     "output_type": "display_data"
    },
    {
     "name": "stdout",
     "output_type": "stream",
     "text": [
      "[]\n"
     ]
    },
    {
     "data": {
      "text/html": [
       "<span class=\"tex2jax_ignore\"><div class=\"entities\" style=\"line-height: 2.5; direction: ltr\">those consent decrees bound certain major motion picture distributors and limited how motion pictures could be distributed .</div></span>"
      ],
      "text/plain": [
       "<IPython.core.display.HTML object>"
      ]
     },
     "metadata": {},
     "output_type": "display_data"
    },
    {
     "name": "stdout",
     "output_type": "stream",
     "text": [
      "[]\n"
     ]
    },
    {
     "data": {
      "text/html": [
       "<span class=\"tex2jax_ignore\"><div class=\"entities\" style=\"line-height: 2.5; direction: ltr\">the \n",
       "<mark class=\"entity\" style=\"background: #feca74; padding: 0.45em 0.6em; margin: 0 0.25em; line-height: 1; border-radius: 0.35em;\">\n",
       "    u.s\n",
       "    <span style=\"font-size: 0.8em; font-weight: bold; line-height: 1; border-radius: 0.35em; vertical-align: middle; margin-left: 0.5rem\">GPE</span>\n",
       "</mark>\n",
       ". department of justice recently terminated the consent decrees , subject to a \n",
       "<mark class=\"entity\" style=\"background: #bfe1d9; padding: 0.45em 0.6em; margin: 0 0.25em; line-height: 1; border-radius: 0.35em;\">\n",
       "    two-year\n",
       "    <span style=\"font-size: 0.8em; font-weight: bold; line-height: 1; border-radius: 0.35em; vertical-align: middle; margin-left: 0.5rem\">DATE</span>\n",
       "</mark>\n",
       " sunset period for certain prohibitions including block booking and circuit dealing .</div></span>"
      ],
      "text/plain": [
       "<IPython.core.display.HTML object>"
      ]
     },
     "metadata": {},
     "output_type": "display_data"
    },
    {
     "name": "stdout",
     "output_type": "stream",
     "text": [
      "[]\n"
     ]
    },
    {
     "data": {
      "text/html": [
       "<span class=\"tex2jax_ignore\"><div class=\"entities\" style=\"line-height: 2.5; direction: ltr\">at this time , we can not project what impact , if any , termination of the consent decrees may have on industry licensing practices.our theatres in the united states must comply with title iii of the americans with disabilities act , or ada .</div></span>"
      ],
      "text/plain": [
       "<IPython.core.display.HTML object>"
      ]
     },
     "metadata": {},
     "output_type": "display_data"
    },
    {
     "name": "stdout",
     "output_type": "stream",
     "text": [
      "[]\n"
     ]
    },
    {
     "data": {
      "text/html": [
       "<span class=\"tex2jax_ignore\"><div class=\"entities\" style=\"line-height: 2.5; direction: ltr\">compliance with the ada requires that public accommodations , including websites and mobile apps for such accommodations , be accessible to individuals with disabilities and that new construction or alterations made to conform to accessibility guidelines .</div></span>"
      ],
      "text/plain": [
       "<IPython.core.display.HTML object>"
      ]
     },
     "metadata": {},
     "output_type": "display_data"
    },
    {
     "name": "stdout",
     "output_type": "stream",
     "text": [
      "[]\n"
     ]
    },
    {
     "data": {
      "text/html": [
       "<span class=\"tex2jax_ignore\"><div class=\"entities\" style=\"line-height: 2.5; direction: ltr\">non-compliance with the ada could result in the imposition of injunctive relief , fines , and awards of damages to private litigants and additional capital expenditures to remedy such noncompliance .</div></span>"
      ],
      "text/plain": [
       "<IPython.core.display.HTML object>"
      ]
     },
     "metadata": {},
     "output_type": "display_data"
    },
    {
     "name": "stdout",
     "output_type": "stream",
     "text": [
      "[]\n"
     ]
    },
    {
     "data": {
      "text/html": [
       "<span class=\"tex2jax_ignore\"><div class=\"entities\" style=\"line-height: 2.5; direction: ltr\">as an \n",
       "<mark class=\"entity\" style=\"background: #e4e7d2; padding: 0.45em 0.6em; margin: 0 0.25em; line-height: 1; border-radius: 0.35em;\">\n",
       "    19\n",
       "    <span style=\"font-size: 0.8em; font-weight: bold; line-height: 1; border-radius: 0.35em; vertical-align: middle; margin-left: 0.5rem\">CARDINAL</span>\n",
       "</mark>\n",
       " table of contentsemployer covered by the ada , we must make reasonable accommodations to the limitations of employees and qualified applicants with disabilities , provided that such reasonable accommodations do not pose an undue hardship on the operation of our business .</div></span>"
      ],
      "text/plain": [
       "<IPython.core.display.HTML object>"
      ]
     },
     "metadata": {},
     "output_type": "display_data"
    },
    {
     "name": "stdout",
     "output_type": "stream",
     "text": [
      "[]\n"
     ]
    },
    {
     "data": {
      "text/html": [
       "<span class=\"tex2jax_ignore\"><div class=\"entities\" style=\"line-height: 2.5; direction: ltr\">in addition , many of our employees are covered by various government employment regulations , including minimum wage , overtime and working conditions regulations .</div></span>"
      ],
      "text/plain": [
       "<IPython.core.display.HTML object>"
      ]
     },
     "metadata": {},
     "output_type": "display_data"
    },
    {
     "name": "stdout",
     "output_type": "stream",
     "text": [
      "[]\n"
     ]
    },
    {
     "data": {
      "text/html": [
       "<span class=\"tex2jax_ignore\"><div class=\"entities\" style=\"line-height: 2.5; direction: ltr\">in europe , all territories have similar national regulations relating to disabilities.our operations also are subject to federal , state and local laws regulating such matters as construction , renovation and operation of theatres as well as wages and working conditions , citizenship , health and sanitation requirements , consumer and employee privacy rights , and licensing , including alcoholic beverage sales .</div></span>"
      ],
      "text/plain": [
       "<IPython.core.display.HTML object>"
      ]
     },
     "metadata": {},
     "output_type": "display_data"
    },
    {
     "name": "stdout",
     "output_type": "stream",
     "text": [
      "[]\n"
     ]
    },
    {
     "data": {
      "text/html": [
       "<span class=\"tex2jax_ignore\"><div class=\"entities\" style=\"line-height: 2.5; direction: ltr\">we believe our theatres are in material compliance with such requirements.we own and operate theatres and other properties in the united states , united kingdom , \n",
       "<mark class=\"entity\" style=\"background: #feca74; padding: 0.45em 0.6em; margin: 0 0.25em; line-height: 1; border-radius: 0.35em;\">\n",
       "    spain\n",
       "    <span style=\"font-size: 0.8em; font-weight: bold; line-height: 1; border-radius: 0.35em; vertical-align: middle; margin-left: 0.5rem\">GPE</span>\n",
       "</mark>\n",
       " , \n",
       "<mark class=\"entity\" style=\"background: #feca74; padding: 0.45em 0.6em; margin: 0 0.25em; line-height: 1; border-radius: 0.35em;\">\n",
       "    italy\n",
       "    <span style=\"font-size: 0.8em; font-weight: bold; line-height: 1; border-radius: 0.35em; vertical-align: middle; margin-left: 0.5rem\">GPE</span>\n",
       "</mark>\n",
       " , germany , \n",
       "<mark class=\"entity\" style=\"background: #feca74; padding: 0.45em 0.6em; margin: 0 0.25em; line-height: 1; border-radius: 0.35em;\">\n",
       "    portugal\n",
       "    <span style=\"font-size: 0.8em; font-weight: bold; line-height: 1; border-radius: 0.35em; vertical-align: middle; margin-left: 0.5rem\">GPE</span>\n",
       "</mark>\n",
       " , \n",
       "<mark class=\"entity\" style=\"background: #feca74; padding: 0.45em 0.6em; margin: 0 0.25em; line-height: 1; border-radius: 0.35em;\">\n",
       "    ireland\n",
       "    <span style=\"font-size: 0.8em; font-weight: bold; line-height: 1; border-radius: 0.35em; vertical-align: middle; margin-left: 0.5rem\">GPE</span>\n",
       "</mark>\n",
       " , \n",
       "<mark class=\"entity\" style=\"background: #feca74; padding: 0.45em 0.6em; margin: 0 0.25em; line-height: 1; border-radius: 0.35em;\">\n",
       "    sweden\n",
       "    <span style=\"font-size: 0.8em; font-weight: bold; line-height: 1; border-radius: 0.35em; vertical-align: middle; margin-left: 0.5rem\">GPE</span>\n",
       "</mark>\n",
       " , \n",
       "<mark class=\"entity\" style=\"background: #feca74; padding: 0.45em 0.6em; margin: 0 0.25em; line-height: 1; border-radius: 0.35em;\">\n",
       "    finland\n",
       "    <span style=\"font-size: 0.8em; font-weight: bold; line-height: 1; border-radius: 0.35em; vertical-align: middle; margin-left: 0.5rem\">GPE</span>\n",
       "</mark>\n",
       " , \n",
       "<mark class=\"entity\" style=\"background: #feca74; padding: 0.45em 0.6em; margin: 0 0.25em; line-height: 1; border-radius: 0.35em;\">\n",
       "    norway\n",
       "    <span style=\"font-size: 0.8em; font-weight: bold; line-height: 1; border-radius: 0.35em; vertical-align: middle; margin-left: 0.5rem\">GPE</span>\n",
       "</mark>\n",
       " , denmark , and \n",
       "<mark class=\"entity\" style=\"background: #feca74; padding: 0.45em 0.6em; margin: 0 0.25em; line-height: 1; border-radius: 0.35em;\">\n",
       "    saudi arabia\n",
       "    <span style=\"font-size: 0.8em; font-weight: bold; line-height: 1; border-radius: 0.35em; vertical-align: middle; margin-left: 0.5rem\">GPE</span>\n",
       "</mark>\n",
       " , which are subject to various federal , state and local laws and regulations .</div></span>"
      ],
      "text/plain": [
       "<IPython.core.display.HTML object>"
      ]
     },
     "metadata": {},
     "output_type": "display_data"
    },
    {
     "name": "stdout",
     "output_type": "stream",
     "text": [
      "[]\n"
     ]
    },
    {
     "data": {
      "text/html": [
       "<span class=\"tex2jax_ignore\"><div class=\"entities\" style=\"line-height: 2.5; direction: ltr\">certain of these laws and regulations , including those relating to environmental protection , may impose joint and several liability on certain statutory classes of persons for the costs of investigation or remediation of contamination , regardless of fault or the legality of original disposal .</div></span>"
      ],
      "text/plain": [
       "<IPython.core.display.HTML object>"
      ]
     },
     "metadata": {},
     "output_type": "display_data"
    },
    {
     "name": "stdout",
     "output_type": "stream",
     "text": [
      "[]\n"
     ]
    },
    {
     "data": {
      "text/html": [
       "<span class=\"tex2jax_ignore\"><div class=\"entities\" style=\"line-height: 2.5; direction: ltr\">we believe our theatres are in material compliance with such requirements.during the covid-19 pandemic , our theatres have been subject to various governmental orders requiring us to take or refrain from certain activities including , but not limited to , suspending operations , reduction in seating capacities , enforcement of social distancing , establishment of enhanced cleaning protocols , restrictions on food and beverage sales , tracking the identity of guests , employee protection protocols , and limitation on \n",
       "<mark class=\"entity\" style=\"background: #bfe1d9; padding: 0.45em 0.6em; margin: 0 0.25em; line-height: 1; border-radius: 0.35em;\">\n",
       "    operating hours\n",
       "    <span style=\"font-size: 0.8em; font-weight: bold; line-height: 1; border-radius: 0.35em; vertical-align: middle; margin-left: 0.5rem\">TIME</span>\n",
       "</mark>\n",
       " .</div></span>"
      ],
      "text/plain": [
       "<IPython.core.display.HTML object>"
      ]
     },
     "metadata": {},
     "output_type": "display_data"
    },
    {
     "name": "stdout",
     "output_type": "stream",
     "text": [
      "[]\n"
     ]
    },
    {
     "data": {
      "text/html": [
       "<span class=\"tex2jax_ignore\"><div class=\"entities\" style=\"line-height: 2.5; direction: ltr\">although the orders have been modified frequently , we believe our theatres have maintained material compliance with such orders .</div></span>"
      ],
      "text/plain": [
       "<IPython.core.display.HTML object>"
      ]
     },
     "metadata": {},
     "output_type": "display_data"
    },
    {
     "name": "stdout",
     "output_type": "stream",
     "text": [
      "[]\n"
     ]
    },
    {
     "data": {
      "text/html": [
       "<span class=\"tex2jax_ignore\"><div class=\"entities\" style=\"line-height: 2.5; direction: ltr\">we currently can not predict when or if covid-19 related governmental orders will be fully terminated and whether similar orders will be utilized more frequently during future public health outbreaks .</div></span>"
      ],
      "text/plain": [
       "<IPython.core.display.HTML object>"
      ]
     },
     "metadata": {},
     "output_type": "display_data"
    },
    {
     "name": "stdout",
     "output_type": "stream",
     "text": [
      "[]\n"
     ]
    },
    {
     "data": {
      "text/html": [
       "<span class=\"tex2jax_ignore\"><div class=\"entities\" style=\"line-height: 2.5; direction: ltr\">seasonalityour revenues are dependent upon the timing of motion picture releases by distributors .</div></span>"
      ],
      "text/plain": [
       "<IPython.core.display.HTML object>"
      ]
     },
     "metadata": {},
     "output_type": "display_data"
    },
    {
     "name": "stdout",
     "output_type": "stream",
     "text": [
      "[]\n"
     ]
    },
    {
     "data": {
      "text/html": [
       "<span class=\"tex2jax_ignore\"><div class=\"entities\" style=\"line-height: 2.5; direction: ltr\">the most marketable motion pictures are usually released during \n",
       "<mark class=\"entity\" style=\"background: #bfe1d9; padding: 0.45em 0.6em; margin: 0 0.25em; line-height: 1; border-radius: 0.35em;\">\n",
       "    the summer and the year-end holiday seasons\n",
       "    <span style=\"font-size: 0.8em; font-weight: bold; line-height: 1; border-radius: 0.35em; vertical-align: middle; margin-left: 0.5rem\">DATE</span>\n",
       "</mark>\n",
       " .</div></span>"
      ],
      "text/plain": [
       "<IPython.core.display.HTML object>"
      ]
     },
     "metadata": {},
     "output_type": "display_data"
    },
    {
     "name": "stdout",
     "output_type": "stream",
     "text": [
      "[]\n"
     ]
    },
    {
     "data": {
      "text/html": [
       "<span class=\"tex2jax_ignore\"><div class=\"entities\" style=\"line-height: 2.5; direction: ltr\">therefore , our business is seasonal , with higher attendance and revenues generally occurring during \n",
       "<mark class=\"entity\" style=\"background: #bfe1d9; padding: 0.45em 0.6em; margin: 0 0.25em; line-height: 1; border-radius: 0.35em;\">\n",
       "    the summer months and holiday seasons\n",
       "    <span style=\"font-size: 0.8em; font-weight: bold; line-height: 1; border-radius: 0.35em; vertical-align: middle; margin-left: 0.5rem\">DATE</span>\n",
       "</mark>\n",
       " .</div></span>"
      ],
      "text/plain": [
       "<IPython.core.display.HTML object>"
      ]
     },
     "metadata": {},
     "output_type": "display_data"
    },
    {
     "name": "stdout",
     "output_type": "stream",
     "text": [
      "[]\n"
     ]
    },
    {
     "data": {
      "text/html": [
       "<span class=\"tex2jax_ignore\"><div class=\"entities\" style=\"line-height: 2.5; direction: ltr\">during the covid-19 pandemic , and in following periods , our business and results of operations have not and may continue to not experience our historically typical patterns of seasonality.available informationwe make available free of charge on our website ( www.amctheatres.com ) under investor relations / financial performance/ sec filings , \n",
       "<mark class=\"entity\" style=\"background: #bfe1d9; padding: 0.45em 0.6em; margin: 0 0.25em; line-height: 1; border-radius: 0.35em;\">\n",
       "    annual\n",
       "    <span style=\"font-size: 0.8em; font-weight: bold; line-height: 1; border-radius: 0.35em; vertical-align: middle; margin-left: 0.5rem\">DATE</span>\n",
       "</mark>\n",
       " reports on form \n",
       "<mark class=\"entity\" style=\"background: #e4e7d2; padding: 0.45em 0.6em; margin: 0 0.25em; line-height: 1; border-radius: 0.35em;\">\n",
       "    10-k\n",
       "    <span style=\"font-size: 0.8em; font-weight: bold; line-height: 1; border-radius: 0.35em; vertical-align: middle; margin-left: 0.5rem\">QUANTITY</span>\n",
       "</mark>\n",
       " , \n",
       "<mark class=\"entity\" style=\"background: #bfe1d9; padding: 0.45em 0.6em; margin: 0 0.25em; line-height: 1; border-radius: 0.35em;\">\n",
       "    quarterly\n",
       "    <span style=\"font-size: 0.8em; font-weight: bold; line-height: 1; border-radius: 0.35em; vertical-align: middle; margin-left: 0.5rem\">DATE</span>\n",
       "</mark>\n",
       " reports on form \n",
       "<mark class=\"entity\" style=\"background: #e4e7d2; padding: 0.45em 0.6em; margin: 0 0.25em; line-height: 1; border-radius: 0.35em;\">\n",
       "    10\n",
       "    <span style=\"font-size: 0.8em; font-weight: bold; line-height: 1; border-radius: 0.35em; vertical-align: middle; margin-left: 0.5rem\">CARDINAL</span>\n",
       "</mark>\n",
       "-q , current reports on form \n",
       "<mark class=\"entity\" style=\"background: #e4e7d2; padding: 0.45em 0.6em; margin: 0 0.25em; line-height: 1; border-radius: 0.35em;\">\n",
       "    8-k\n",
       "    <span style=\"font-size: 0.8em; font-weight: bold; line-height: 1; border-radius: 0.35em; vertical-align: middle; margin-left: 0.5rem\">QUANTITY</span>\n",
       "</mark>\n",
       " , proxy materials on schedule \n",
       "<mark class=\"entity\" style=\"background: #e4e7d2; padding: 0.45em 0.6em; margin: 0 0.25em; line-height: 1; border-radius: 0.35em;\">\n",
       "    14\n",
       "    <span style=\"font-size: 0.8em; font-weight: bold; line-height: 1; border-radius: 0.35em; vertical-align: middle; margin-left: 0.5rem\">CARDINAL</span>\n",
       "</mark>\n",
       " a and amendments to those reports as soon as reasonably practicable after we electronically file or furnish such materials with the securities and exchange commission .</div></span>"
      ],
      "text/plain": [
       "<IPython.core.display.HTML object>"
      ]
     },
     "metadata": {},
     "output_type": "display_data"
    },
    {
     "name": "stdout",
     "output_type": "stream",
     "text": [
      "[]\n"
     ]
    },
    {
     "data": {
      "text/html": [
       "<span class=\"tex2jax_ignore\"><div class=\"entities\" style=\"line-height: 2.5; direction: ltr\">the contents of our internet website are not incorporated into this report .</div></span>"
      ],
      "text/plain": [
       "<IPython.core.display.HTML object>"
      ]
     },
     "metadata": {},
     "output_type": "display_data"
    }
   ],
   "source": [
    "for line in sample_ner:\n",
    "    line_spacy_ner = nlp(line) \n",
    "    # print named entities in article\n",
    "    print([(word, word.ent_type_) for word in line_spacy if word.ent_type_])\n",
    "\n",
    "    # visualize named entities\n",
    "    displacy.render(line_spacy_ner, style='ent', jupyter=True)"
   ]
  },
  {
   "cell_type": "markdown",
   "id": "fantastic-order",
   "metadata": {},
   "source": [
    "## Fetching historical data"
   ]
  },
  {
   "cell_type": "code",
   "execution_count": 2162,
   "id": "civil-procedure",
   "metadata": {},
   "outputs": [],
   "source": [
    "from sklearn.preprocessing import Normalizer"
   ]
  },
  {
   "cell_type": "code",
   "execution_count": 2233,
   "id": "optical-central",
   "metadata": {},
   "outputs": [],
   "source": [
    "historical_stock_prices = pd.read_csv('../data/external/AMC.csv')\n",
    "historical_stock_prices.Date = pd.to_datetime(amc_historical_stock_prices.Date)\n",
    "historical_stock_prices.set_index('Date',inplace=True)\n",
    "historical_stock_prices = amc_historical_stock_prices.set_index('Date').resample('Y').mean()\n",
    "historical_stock_prices.reset_index(inplace=True)\n",
    "historical_stock_prices.set_index(amc_historical_stock_prices.Date.dt.year,inplace=True)\n",
    "historical_stock_prices['year'] = historical_stock_prices.Date.dt.year"
   ]
  },
  {
   "cell_type": "code",
   "execution_count": 2234,
   "id": "unknown-creek",
   "metadata": {},
   "outputs": [],
   "source": [
    "minmax_scaler = MinMaxScaler()"
   ]
  },
  {
   "cell_type": "code",
   "execution_count": 2235,
   "id": "premier-shopper",
   "metadata": {},
   "outputs": [],
   "source": [
    "standard_scaler = StandardScaler()\n",
    "normalizer = Normalizer()"
   ]
  },
  {
   "cell_type": "code",
   "execution_count": 2236,
   "id": "forward-powder",
   "metadata": {},
   "outputs": [],
   "source": [
    "historical_stock_prices['Close_scaled'] = minmax_scaler.fit_transform(historical_stock_prices[['Close']])"
   ]
  },
  {
   "cell_type": "code",
   "execution_count": 2237,
   "id": "improved-lingerie",
   "metadata": {},
   "outputs": [],
   "source": [
    "historical_stock_prices['Close_diff'] = historical_stock_prices.Close_scaled.diff()"
   ]
  },
  {
   "cell_type": "markdown",
   "id": "harmful-financing",
   "metadata": {},
   "source": [
    "## Gensim - finding Similarity in documents"
   ]
  },
  {
   "cell_type": "code",
   "execution_count": 2130,
   "id": "tropical-requirement",
   "metadata": {},
   "outputs": [],
   "source": [
    "#re.match('^[\\,\\.\\d-]+$',',')"
   ]
  },
  {
   "cell_type": "code",
   "execution_count": 2131,
   "id": "proof-environment",
   "metadata": {},
   "outputs": [],
   "source": [
    "def get_topwords(document,top=100):\n",
    "    document = tokenize(document)\n",
    "    document = remove_stopwords(document)\n",
    "    document = remove_specific_chars(document)\n",
    "    document = remove_numbers(document)\n",
    "    document = nltk_lemmatizer(document)\n",
    "    document_words = []\n",
    "    for line in document:\n",
    "        document_words += line\n",
    "    top_words = []\n",
    "    for item in Counter(document_words).most_common(top):\n",
    "        top_words.append(item[0])\n",
    "    return top_words"
   ]
  },
  {
   "cell_type": "code",
   "execution_count": 2132,
   "id": "increasing-elizabeth",
   "metadata": {},
   "outputs": [],
   "source": [
    "top_docwords_df = pd.DataFrame(columns = ['ticker','date','topwords'])"
   ]
  },
  {
   "cell_type": "code",
   "execution_count": 2133,
   "id": "floppy-cycling",
   "metadata": {},
   "outputs": [
    {
     "name": "stderr",
     "output_type": "stream",
     "text": [
      "normalizing Fillings: 100%|██████████| 8/8 [00:05<00:00,  1.44filling/s]\n"
     ]
    }
   ],
   "source": [
    "for i,row in tqdm(sec_fillings_df.iterrows(),desc='normalizing Fillings', \\\n",
    "                      unit='filling',total=len(sec_fillings_df)):\n",
    "    top_docwords_list = get_topwords(row['normalized_filling'],500)\n",
    "    top_docwords_df = top_docwords_df.append({'ticker':row['ticker'],'date':row['date'],'topwords':top_docwords_list},ignore_index=True)"
   ]
  },
  {
   "cell_type": "code",
   "execution_count": 2134,
   "id": "bronze-undergraduate",
   "metadata": {},
   "outputs": [
    {
     "data": {
      "text/html": [
       "<div>\n",
       "<style scoped>\n",
       "    .dataframe tbody tr th:only-of-type {\n",
       "        vertical-align: middle;\n",
       "    }\n",
       "\n",
       "    .dataframe tbody tr th {\n",
       "        vertical-align: top;\n",
       "    }\n",
       "\n",
       "    .dataframe thead th {\n",
       "        text-align: right;\n",
       "    }\n",
       "</style>\n",
       "<table border=\"1\" class=\"dataframe\">\n",
       "  <thead>\n",
       "    <tr style=\"text-align: right;\">\n",
       "      <th></th>\n",
       "      <th>ticker</th>\n",
       "      <th>date</th>\n",
       "      <th>topwords</th>\n",
       "    </tr>\n",
       "  </thead>\n",
       "  <tbody>\n",
       "    <tr>\n",
       "      <th>0</th>\n",
       "      <td>AMC</td>\n",
       "      <td>2021-03-12</td>\n",
       "      <td>[december, million, company, note, due, theatre, year, ended, market, amch, asset, stock, common, value, interest, loss, expense, share, cash, us-gaap, related, lease, tax, financial, may, amount,...</td>\n",
       "    </tr>\n",
       "    <tr>\n",
       "      <th>1</th>\n",
       "      <td>AMC</td>\n",
       "      <td>2020-02-28</td>\n",
       "      <td>[december, company, million, year, note, ended, asset, due, lease, theatre, expense, amch, income, value, net, cash, tax, market, stock, share, common, loss, revenue, financial, cost, liability, u...</td>\n",
       "    </tr>\n",
       "    <tr>\n",
       "      <th>2</th>\n",
       "      <td>AMC</td>\n",
       "      <td>2019-03-01</td>\n",
       "      <td>[december, million, company, year, ended, due, note, theatre, income, asset, net, tax, cash, share, expense, cost, loss, revenue, value, stock, common, amc, market, acquisition, amount, agreement,...</td>\n",
       "    </tr>\n",
       "    <tr>\n",
       "      <th>3</th>\n",
       "      <td>AMC</td>\n",
       "      <td>2018-03-01</td>\n",
       "      <td>[december, million, company, year, ended, theatre, due, tax, note, net, asset, income, acquisition, loss, share, expense, revenue, cost, amc, cash, value, common, ncm, market, amount, stock, finan...</td>\n",
       "    </tr>\n",
       "    <tr>\n",
       "      <th>4</th>\n",
       "      <td>AMC</td>\n",
       "      <td>2017-03-10</td>\n",
       "      <td>[december, company, year, ended, note, due, theatre, amc, net, income, tax, asset, inc., expense, amount, revenue, cost, cash, holding, share, acquisition, stock, agreement, common, market, senior...</td>\n",
       "    </tr>\n",
       "    <tr>\n",
       "      <th>5</th>\n",
       "      <td>AMC</td>\n",
       "      <td>2016-03-08</td>\n",
       "      <td>[december, company, ended, note, month, inc., theatre, due, amc, holding, stock, year, financial, ncm, amount, tax, agreement, revenue, content, asset, twelve, expense, value, table, entertainment...</td>\n",
       "    </tr>\n",
       "    <tr>\n",
       "      <th>6</th>\n",
       "      <td>AMC</td>\n",
       "      <td>2015-03-10</td>\n",
       "      <td>[december, company, note, ended, theatre, month, ncm, due, stock, year, value, period, amount, financial, revenue, inc., content, asset, expense, tax, term, common, statement, share, table, holdin...</td>\n",
       "    </tr>\n",
       "    <tr>\n",
       "      <th>7</th>\n",
       "      <td>AMC</td>\n",
       "      <td>2014-03-04</td>\n",
       "      <td>[december, company, theatre, note, due, ended, year, inc., stock, march, amount, period, value, ncm, content, amc, common, revenue, holding, term, table, tax, asset, share, august, statement, fina...</td>\n",
       "    </tr>\n",
       "  </tbody>\n",
       "</table>\n",
       "</div>"
      ],
      "text/plain": [
       "  ticker        date  \\\n",
       "0    AMC  2021-03-12   \n",
       "1    AMC  2020-02-28   \n",
       "2    AMC  2019-03-01   \n",
       "3    AMC  2018-03-01   \n",
       "4    AMC  2017-03-10   \n",
       "5    AMC  2016-03-08   \n",
       "6    AMC  2015-03-10   \n",
       "7    AMC  2014-03-04   \n",
       "\n",
       "                                                                                                                                                                                                  topwords  \n",
       "0  [december, million, company, note, due, theatre, year, ended, market, amch, asset, stock, common, value, interest, loss, expense, share, cash, us-gaap, related, lease, tax, financial, may, amount,...  \n",
       "1  [december, company, million, year, note, ended, asset, due, lease, theatre, expense, amch, income, value, net, cash, tax, market, stock, share, common, loss, revenue, financial, cost, liability, u...  \n",
       "2  [december, million, company, year, ended, due, note, theatre, income, asset, net, tax, cash, share, expense, cost, loss, revenue, value, stock, common, amc, market, acquisition, amount, agreement,...  \n",
       "3  [december, million, company, year, ended, theatre, due, tax, note, net, asset, income, acquisition, loss, share, expense, revenue, cost, amc, cash, value, common, ncm, market, amount, stock, finan...  \n",
       "4  [december, company, year, ended, note, due, theatre, amc, net, income, tax, asset, inc., expense, amount, revenue, cost, cash, holding, share, acquisition, stock, agreement, common, market, senior...  \n",
       "5  [december, company, ended, note, month, inc., theatre, due, amc, holding, stock, year, financial, ncm, amount, tax, agreement, revenue, content, asset, twelve, expense, value, table, entertainment...  \n",
       "6  [december, company, note, ended, theatre, month, ncm, due, stock, year, value, period, amount, financial, revenue, inc., content, asset, expense, tax, term, common, statement, share, table, holdin...  \n",
       "7  [december, company, theatre, note, due, ended, year, inc., stock, march, amount, period, value, ncm, content, amc, common, revenue, holding, term, table, tax, asset, share, august, statement, fina...  "
      ]
     },
     "execution_count": 2134,
     "metadata": {},
     "output_type": "execute_result"
    }
   ],
   "source": [
    "top_docwords_df"
   ]
  },
  {
   "cell_type": "markdown",
   "id": "sought-insulin",
   "metadata": {},
   "source": [
    "### Creating gensim dictionary"
   ]
  },
  {
   "cell_type": "code",
   "execution_count": 2135,
   "id": "afraid-spotlight",
   "metadata": {},
   "outputs": [
    {
     "name": "stderr",
     "output_type": "stream",
     "text": [
      "normalizing Fillings: 100%|██████████| 8/8 [00:05<00:00,  1.42filling/s]\n"
     ]
    }
   ],
   "source": [
    "document_list = []\n",
    "for index,row in tqdm(sec_fillings_df.iterrows(),desc='normalizing Fillings', \\\n",
    "                      unit='filling',total=len(sec_fillings_df)):\n",
    "    document = row['normalized_filling']\n",
    "    document = tokenize(document)\n",
    "    document = remove_stopwords(document)\n",
    "    document = remove_specific_chars(document)\n",
    "    document = remove_numbers(document)\n",
    "    document = nltk_lemmatizer(document)\n",
    "    document_words = []\n",
    "    for line in document:\n",
    "        document_words += line\n",
    "    document_list.append(document_words)"
   ]
  },
  {
   "cell_type": "code",
   "execution_count": 2136,
   "id": "final-thumb",
   "metadata": {},
   "outputs": [],
   "source": [
    "gensim_dictionary = corpora.dictionary.Dictionary(document_list)"
   ]
  },
  {
   "cell_type": "code",
   "execution_count": 2137,
   "id": "fatty-stevens",
   "metadata": {},
   "outputs": [],
   "source": [
    "gensim_corpus = [gensim_dictionary.doc2bow(document) for document in document_list]"
   ]
  },
  {
   "cell_type": "code",
   "execution_count": 2138,
   "id": "configured-silver",
   "metadata": {},
   "outputs": [],
   "source": [
    "gensim_corpus_bow_df = pd.DataFrame(pd.to_datetime(sec_fillings_df.date).dt.year.to_numpy(),columns=['year'])"
   ]
  },
  {
   "cell_type": "code",
   "execution_count": 2139,
   "id": "transparent-motel",
   "metadata": {},
   "outputs": [],
   "source": [
    "gensim_corpus_bow_df['bow'] = gensim_corpus  "
   ]
  },
  {
   "cell_type": "code",
   "execution_count": 2140,
   "id": "designed-likelihood",
   "metadata": {},
   "outputs": [
    {
     "name": "stdout",
     "output_type": "stream",
     "text": [
      "december 7568\n",
      "company 5679\n",
      "million 4051\n",
      "year 3868\n",
      "note 3722\n",
      "ended 3642\n",
      "due 3362\n",
      "theatre 3361\n",
      "asset 2493\n",
      "tax 2364\n"
     ]
    }
   ],
   "source": [
    "# Sort the doc for frequency: bow_doc\n",
    "\n",
    "# Create the defaultdict: total_word_count\n",
    "total_word_count = defaultdict(int)\n",
    "for word_id, word_count in itertools.chain.from_iterable(gensim_corpus_bow_df.bow):\n",
    "    total_word_count[word_id] += word_count\n",
    "    \n",
    "# Create a sorted list from the defaultdict: sorted_word_count\n",
    "sorted_word_count = sorted(total_word_count.items(), key=lambda w: w[1], reverse=True) \n",
    "\n",
    "# Print the top 5 words across all documents alongside the count\n",
    "for word_id, word_count in sorted_word_count[:10]:\n",
    "    print(gensim_dictionary.get(word_id), word_count)"
   ]
  },
  {
   "cell_type": "markdown",
   "id": "anonymous-palestinian",
   "metadata": {},
   "source": [
    "### Using bow and jaccard similarity"
   ]
  },
  {
   "cell_type": "code",
   "execution_count": 2141,
   "id": "studied-estate",
   "metadata": {},
   "outputs": [],
   "source": [
    "from gensim.matutils import jaccard"
   ]
  },
  {
   "cell_type": "code",
   "execution_count": 2142,
   "id": "ideal-albany",
   "metadata": {},
   "outputs": [],
   "source": [
    "year_list = pd.to_datetime(sec_fillings_df[sec_fillings_df.ticker=='AMC'].date).dt.year"
   ]
  },
  {
   "cell_type": "code",
   "execution_count": 2143,
   "id": "operational-pipeline",
   "metadata": {},
   "outputs": [],
   "source": [
    "similarity_df = pd.DataFrame(year_list.to_numpy(),columns=['year'])"
   ]
  },
  {
   "cell_type": "code",
   "execution_count": 2144,
   "id": "terminal-smart",
   "metadata": {},
   "outputs": [],
   "source": [
    "similarity_df['gensim_jacc_score'] = 0 * len(similarity_df.index)"
   ]
  },
  {
   "cell_type": "code",
   "execution_count": 2145,
   "id": "material-province",
   "metadata": {},
   "outputs": [
    {
     "data": {
      "text/html": [
       "<div>\n",
       "<style scoped>\n",
       "    .dataframe tbody tr th:only-of-type {\n",
       "        vertical-align: middle;\n",
       "    }\n",
       "\n",
       "    .dataframe tbody tr th {\n",
       "        vertical-align: top;\n",
       "    }\n",
       "\n",
       "    .dataframe thead th {\n",
       "        text-align: right;\n",
       "    }\n",
       "</style>\n",
       "<table border=\"1\" class=\"dataframe\">\n",
       "  <thead>\n",
       "    <tr style=\"text-align: right;\">\n",
       "      <th></th>\n",
       "      <th>year</th>\n",
       "      <th>bow</th>\n",
       "    </tr>\n",
       "  </thead>\n",
       "  <tbody>\n",
       "    <tr>\n",
       "      <th>0</th>\n",
       "      <td>2021</td>\n",
       "      <td>[(0, 1), (1, 1), (2, 1), (3, 1), (4, 2), (5, 1), (6, 3), (7, 3), (8, 1), (9, 1), (10, 1), (11, 2), (12, 4), (13, 2), (14, 1), (15, 29), (16, 5), (17, 1), (18, 1), (19, 1), (20, 1), (21, 1), (22, 1...</td>\n",
       "    </tr>\n",
       "    <tr>\n",
       "      <th>1</th>\n",
       "      <td>2020</td>\n",
       "      <td>[(0, 1), (2, 1), (3, 1), (4, 1), (8, 1), (10, 1), (12, 4), (13, 2), (14, 1), (15, 25), (16, 3), (20, 1), (21, 1), (22, 1), (23, 13), (24, 1), (25, 2), (26, 1), (27, 1), (28, 1), (29, 1), (30, 1), ...</td>\n",
       "    </tr>\n",
       "    <tr>\n",
       "      <th>2</th>\n",
       "      <td>2019</td>\n",
       "      <td>[(12, 6), (13, 2), (15, 29), (16, 7), (22, 1), (23, 15), (25, 2), (40, 1), (41, 1), (42, 1), (43, 1), (90, 2), (99, 28), (103, 146), (104, 3), (105, 11), (106, 12), (110, 6), (117, 57), (118, 12),...</td>\n",
       "    </tr>\n",
       "    <tr>\n",
       "      <th>3</th>\n",
       "      <td>2018</td>\n",
       "      <td>[(15, 35), (16, 7), (22, 1), (23, 10), (25, 1), (40, 1), (41, 1), (90, 1), (99, 30), (103, 158), (104, 2), (106, 12), (110, 15), (117, 55), (118, 15), (123, 2), (125, 1), (126, 14), (127, 3), (128...</td>\n",
       "    </tr>\n",
       "    <tr>\n",
       "      <th>4</th>\n",
       "      <td>2017</td>\n",
       "      <td>[(4, 1), (15, 73), (16, 12), (22, 2), (23, 13), (99, 53), (103, 117), (104, 2), (106, 15), (110, 8), (117, 47), (118, 18), (123, 1), (125, 1), (126, 17), (127, 4), (128, 6), (129, 4), (130, 2), (1...</td>\n",
       "    </tr>\n",
       "    <tr>\n",
       "      <th>5</th>\n",
       "      <td>2016</td>\n",
       "      <td>[(15, 48), (16, 12), (22, 2), (23, 11), (90, 1), (99, 23), (103, 53), (104, 2), (106, 7), (111, 1), (117, 38), (118, 15), (124, 1), (125, 1), (126, 27), (127, 4), (128, 5), (130, 1), (131, 16), (1...</td>\n",
       "    </tr>\n",
       "    <tr>\n",
       "      <th>6</th>\n",
       "      <td>2015</td>\n",
       "      <td>[(15, 20), (16, 16), (23, 3), (90, 1), (99, 8), (103, 59), (104, 2), (106, 1), (111, 2), (117, 36), (118, 20), (125, 1), (126, 26), (127, 4), (128, 5), (130, 1), (131, 17), (132, 16), (133, 2), (1...</td>\n",
       "    </tr>\n",
       "    <tr>\n",
       "      <th>7</th>\n",
       "      <td>2014</td>\n",
       "      <td>[(15, 26), (16, 13), (23, 3), (99, 18), (103, 61), (104, 2), (106, 4), (117, 39), (118, 18), (125, 1), (126, 15), (127, 3), (128, 6), (130, 1), (131, 21), (132, 19), (133, 2), (135, 2), (136, 4), ...</td>\n",
       "    </tr>\n",
       "  </tbody>\n",
       "</table>\n",
       "</div>"
      ],
      "text/plain": [
       "   year  \\\n",
       "0  2021   \n",
       "1  2020   \n",
       "2  2019   \n",
       "3  2018   \n",
       "4  2017   \n",
       "5  2016   \n",
       "6  2015   \n",
       "7  2014   \n",
       "\n",
       "                                                                                                                                                                                                       bow  \n",
       "0  [(0, 1), (1, 1), (2, 1), (3, 1), (4, 2), (5, 1), (6, 3), (7, 3), (8, 1), (9, 1), (10, 1), (11, 2), (12, 4), (13, 2), (14, 1), (15, 29), (16, 5), (17, 1), (18, 1), (19, 1), (20, 1), (21, 1), (22, 1...  \n",
       "1  [(0, 1), (2, 1), (3, 1), (4, 1), (8, 1), (10, 1), (12, 4), (13, 2), (14, 1), (15, 25), (16, 3), (20, 1), (21, 1), (22, 1), (23, 13), (24, 1), (25, 2), (26, 1), (27, 1), (28, 1), (29, 1), (30, 1), ...  \n",
       "2  [(12, 6), (13, 2), (15, 29), (16, 7), (22, 1), (23, 15), (25, 2), (40, 1), (41, 1), (42, 1), (43, 1), (90, 2), (99, 28), (103, 146), (104, 3), (105, 11), (106, 12), (110, 6), (117, 57), (118, 12),...  \n",
       "3  [(15, 35), (16, 7), (22, 1), (23, 10), (25, 1), (40, 1), (41, 1), (90, 1), (99, 30), (103, 158), (104, 2), (106, 12), (110, 15), (117, 55), (118, 15), (123, 2), (125, 1), (126, 14), (127, 3), (128...  \n",
       "4  [(4, 1), (15, 73), (16, 12), (22, 2), (23, 13), (99, 53), (103, 117), (104, 2), (106, 15), (110, 8), (117, 47), (118, 18), (123, 1), (125, 1), (126, 17), (127, 4), (128, 6), (129, 4), (130, 2), (1...  \n",
       "5  [(15, 48), (16, 12), (22, 2), (23, 11), (90, 1), (99, 23), (103, 53), (104, 2), (106, 7), (111, 1), (117, 38), (118, 15), (124, 1), (125, 1), (126, 27), (127, 4), (128, 5), (130, 1), (131, 16), (1...  \n",
       "6  [(15, 20), (16, 16), (23, 3), (90, 1), (99, 8), (103, 59), (104, 2), (106, 1), (111, 2), (117, 36), (118, 20), (125, 1), (126, 26), (127, 4), (128, 5), (130, 1), (131, 17), (132, 16), (133, 2), (1...  \n",
       "7  [(15, 26), (16, 13), (23, 3), (99, 18), (103, 61), (104, 2), (106, 4), (117, 39), (118, 18), (125, 1), (126, 15), (127, 3), (128, 6), (130, 1), (131, 21), (132, 19), (133, 2), (135, 2), (136, 4), ...  "
      ]
     },
     "execution_count": 2145,
     "metadata": {},
     "output_type": "execute_result"
    }
   ],
   "source": [
    "gensim_corpus_bow_df"
   ]
  },
  {
   "cell_type": "code",
   "execution_count": 2146,
   "id": "smooth-cheese",
   "metadata": {},
   "outputs": [],
   "source": [
    "for i,row in gensim_corpus_bow_df.iterrows():\n",
    "    if i < (len(gensim_corpus_bow_df.index)-1):\n",
    "        similarity_df.loc[similarity_df.year == row.year,'gensim_jacc_score'] = jaccard(row['bow'],gensim_corpus_bow_df.iloc[i+1]['bow'])"
   ]
  },
  {
   "cell_type": "code",
   "execution_count": 2178,
   "id": "thirty-traffic",
   "metadata": {},
   "outputs": [],
   "source": [
    "similarity_vs_stockprices = historical_stock_prices.merge(similarity_df,on='year')"
   ]
  },
  {
   "cell_type": "code",
   "execution_count": 2181,
   "id": "metric-healthcare",
   "metadata": {},
   "outputs": [
    {
     "data": {
      "text/plain": [
       "<AxesSubplot:xlabel='year'>"
      ]
     },
     "execution_count": 2181,
     "metadata": {},
     "output_type": "execute_result"
    },
    {
     "data": {
      "image/png": "[encoded data removed]",
      "text/plain": [
       "<Figure size 1080x360 with 1 Axes>"
      ]
     },
     "metadata": {
      "needs_background": "light"
     },
     "output_type": "display_data"
    }
   ],
   "source": [
    "similarity_vs_stockprices.plot(x='year',y=['Close','gensim_jacc_score'],figsize=(15,5),grid=True)"
   ]
  },
  {
   "cell_type": "markdown",
   "id": "productive-procedure",
   "metadata": {},
   "source": [
    "<B>Jaccard similarity with bag of words is not great at highlighting the changes in the documents.\n",
    "    What is required is more "
   ]
  },
  {
   "cell_type": "markdown",
   "id": "cardiovascular-trainer",
   "metadata": {},
   "source": [
    "### TF-IDF & SparseMatrixSimilarity"
   ]
  },
  {
   "cell_type": "code",
   "execution_count": 2149,
   "id": "spread-front",
   "metadata": {},
   "outputs": [
    {
     "name": "stdout",
     "output_type": "stream",
     "text": [
      "amch 0.6443279592392185\n",
      "us-gaap 0.4845920584807493\n",
      "covid-19 0.33921444093652453\n",
      "pandemic 0.16870982776737198\n",
      "srt 0.15973590075846922\n"
     ]
    }
   ],
   "source": [
    "# Create a new TfidfModel using the corpus: tfidf\n",
    "tfidf = TfidfModel(gensim_corpus)\n",
    "\n",
    "# Calculate the tfidf weights of doc: tfidf_weights\n",
    "doc = gensim_corpus[0]\n",
    "tfidf_weights = tfidf[doc]\n",
    "\n",
    "# Sort the weights from highest to lowest: sorted_tfidf_weights\n",
    "sorted_tfidf_weights = sorted(tfidf_weights, key=lambda w: w[1], reverse=True)\n",
    "\n",
    "# Print the top 5 weighted words\n",
    "for term_id, weight in sorted_tfidf_weights[:5]:\n",
    "    print(gensim_dictionary.get(term_id), weight)"
   ]
  },
  {
   "cell_type": "code",
   "execution_count": 2150,
   "id": "deadly-montana",
   "metadata": {},
   "outputs": [],
   "source": [
    "top_tfidfwords_df = pd.DataFrame(columns = ['ticker','date','topwords'])"
   ]
  },
  {
   "cell_type": "code",
   "execution_count": 2151,
   "id": "offshore-remainder",
   "metadata": {},
   "outputs": [],
   "source": [
    "for i,row in sec_fillings_df.iterrows():\n",
    "    doc = gensim_corpus[i]\n",
    "    tfidf_weights = tfidf[doc]\n",
    "    sorted_tfidf_weights = sorted(tfidf_weights, key=lambda w: w[1], reverse=True)[:5]\n",
    "    sorted_tfidf_words = []\n",
    "    for term_id, weight in sorted_tfidf_weights[:5]:\n",
    "        sorted_tfidf_words.append(gensim_dictionary.get(term_id))\n",
    "    top_tfidfwords_df = top_tfidfwords_df.append({'ticker':row['ticker'],'date':row['date'],'topwords':sorted_tfidf_words},ignore_index=True)"
   ]
  },
  {
   "cell_type": "code",
   "execution_count": 2152,
   "id": "sustainable-burden",
   "metadata": {},
   "outputs": [
    {
     "data": {
      "text/html": [
       "<div>\n",
       "<style scoped>\n",
       "    .dataframe tbody tr th:only-of-type {\n",
       "        vertical-align: middle;\n",
       "    }\n",
       "\n",
       "    .dataframe tbody tr th {\n",
       "        vertical-align: top;\n",
       "    }\n",
       "\n",
       "    .dataframe thead th {\n",
       "        text-align: right;\n",
       "    }\n",
       "</style>\n",
       "<table border=\"1\" class=\"dataframe\">\n",
       "  <thead>\n",
       "    <tr style=\"text-align: right;\">\n",
       "      <th></th>\n",
       "      <th>ticker</th>\n",
       "      <th>date</th>\n",
       "      <th>topwords</th>\n",
       "    </tr>\n",
       "  </thead>\n",
       "  <tbody>\n",
       "    <tr>\n",
       "      <th>0</th>\n",
       "      <td>AMC</td>\n",
       "      <td>2021-03-12</td>\n",
       "      <td>[amch, us-gaap, covid-19, pandemic, srt]</td>\n",
       "    </tr>\n",
       "    <tr>\n",
       "      <th>1</th>\n",
       "      <td>AMC</td>\n",
       "      <td>2020-02-28</td>\n",
       "      <td>[amch, us-gaap, srt, percentdue, nationalcinemediallcmember]</td>\n",
       "    </tr>\n",
       "    <tr>\n",
       "      <th>2</th>\n",
       "      <td>AMC</td>\n",
       "      <td>2019-03-01</td>\n",
       "      <td>[odeon, nordic, sterling, bridge, amcs]</td>\n",
       "    </tr>\n",
       "    <tr>\n",
       "      <th>3</th>\n",
       "      <td>AMC</td>\n",
       "      <td>2018-03-01</td>\n",
       "      <td>[odeon, nordic, sterling, ncms, carmike]</td>\n",
       "    </tr>\n",
       "    <tr>\n",
       "      <th>4</th>\n",
       "      <td>AMC</td>\n",
       "      <td>2017-03-10</td>\n",
       "      <td>[odeon, amces, amce, legacy, nordic]</td>\n",
       "    </tr>\n",
       "    <tr>\n",
       "      <th>5</th>\n",
       "      <td>AMC</td>\n",
       "      <td>2016-03-08</td>\n",
       "      <td>[amce, twelve, smh, packaged, ipo]</td>\n",
       "    </tr>\n",
       "    <tr>\n",
       "      <th>6</th>\n",
       "      <td>AMC</td>\n",
       "      <td>2015-03-10</td>\n",
       "      <td>[amce, twelve, predecessor, packaged, red]</td>\n",
       "    </tr>\n",
       "    <tr>\n",
       "      <th>7</th>\n",
       "      <td>AMC</td>\n",
       "      <td>2014-03-04</td>\n",
       "      <td>[amce, cinemex, predecessor, entretenimiento, orf]</td>\n",
       "    </tr>\n",
       "  </tbody>\n",
       "</table>\n",
       "</div>"
      ],
      "text/plain": [
       "  ticker        date  \\\n",
       "0    AMC  2021-03-12   \n",
       "1    AMC  2020-02-28   \n",
       "2    AMC  2019-03-01   \n",
       "3    AMC  2018-03-01   \n",
       "4    AMC  2017-03-10   \n",
       "5    AMC  2016-03-08   \n",
       "6    AMC  2015-03-10   \n",
       "7    AMC  2014-03-04   \n",
       "\n",
       "                                                       topwords  \n",
       "0                      [amch, us-gaap, covid-19, pandemic, srt]  \n",
       "1  [amch, us-gaap, srt, percentdue, nationalcinemediallcmember]  \n",
       "2                       [odeon, nordic, sterling, bridge, amcs]  \n",
       "3                      [odeon, nordic, sterling, ncms, carmike]  \n",
       "4                          [odeon, amces, amce, legacy, nordic]  \n",
       "5                            [amce, twelve, smh, packaged, ipo]  \n",
       "6                    [amce, twelve, predecessor, packaged, red]  \n",
       "7            [amce, cinemex, predecessor, entretenimiento, orf]  "
      ]
     },
     "execution_count": 2152,
     "metadata": {},
     "output_type": "execute_result"
    }
   ],
   "source": [
    "top_tfidfwords_df"
   ]
  },
  {
   "cell_type": "code",
   "execution_count": 2153,
   "id": "forbidden-deficit",
   "metadata": {},
   "outputs": [],
   "source": [
    "gensim_corpus_tfidf = tfidf[gensim_corpus]"
   ]
  },
  {
   "cell_type": "code",
   "execution_count": 2154,
   "id": "convertible-prisoner",
   "metadata": {},
   "outputs": [],
   "source": [
    "similarity_matrix = similarities.SparseMatrixSimilarity(gensim_corpus_tfidf,num_features=len(gensim_dictionary))"
   ]
  },
  {
   "cell_type": "code",
   "execution_count": 2155,
   "id": "muslim-playlist",
   "metadata": {},
   "outputs": [],
   "source": [
    "gensim_sims = similarity_matrix.get_similarities(gensim_corpus_tfidf)"
   ]
  },
  {
   "cell_type": "code",
   "execution_count": 2184,
   "id": "opposed-shoulder",
   "metadata": {},
   "outputs": [],
   "source": [
    "similarity_df['gensim_tfidf_sim'] = 0 * len(gensim_sims_df.index)"
   ]
  },
  {
   "cell_type": "code",
   "execution_count": 2185,
   "id": "detailed-tsunami",
   "metadata": {},
   "outputs": [],
   "source": [
    "for i in range(len(gensim_sims)-1):\n",
    "    similarity_df.loc[i,'gensim_tfidf_sim'] = gensim_sims[i][i+1]"
   ]
  },
  {
   "cell_type": "code",
   "execution_count": 2186,
   "id": "missing-laugh",
   "metadata": {},
   "outputs": [],
   "source": [
    "similarity_vs_stockprices = similarity_vs_stockprices.merge(similarity_df[['year','gensim_tfidf_sim']],on='year')"
   ]
  },
  {
   "cell_type": "code",
   "execution_count": 2187,
   "id": "changing-journalism",
   "metadata": {},
   "outputs": [
    {
     "data": {
      "text/plain": [
       "<AxesSubplot:xlabel='year'>"
      ]
     },
     "execution_count": 2187,
     "metadata": {},
     "output_type": "execute_result"
    },
    {
     "data": {
      "image/png": "[encoded data removed]",
      "text/plain": [
       "<Figure size 1080x360 with 1 Axes>"
      ]
     },
     "metadata": {
      "needs_background": "light"
     },
     "output_type": "display_data"
    }
   ],
   "source": [
    "similarity_vs_stockprices.plot(x='year',y=['Close','Close_diff','gensim_jacc_score','gensim_tfidf_sim'],figsize=(15,5),grid=True)"
   ]
  },
  {
   "cell_type": "markdown",
   "id": "horizontal-basis",
   "metadata": {},
   "source": [
    "### Word2Vec & SoftCosineSimilarity"
   ]
  },
  {
   "cell_type": "code",
   "execution_count": 1658,
   "id": "compatible-green",
   "metadata": {},
   "outputs": [],
   "source": [
    "gensim_w2v_model = Word2Vec(gensim_corpus)"
   ]
  },
  {
   "cell_type": "code",
   "execution_count": 1659,
   "id": "usual-japanese",
   "metadata": {},
   "outputs": [],
   "source": [
    "wordemb_sim_index = WordEmbeddingSimilarityIndex(gensim_w2v_model.wv)"
   ]
  },
  {
   "cell_type": "code",
   "execution_count": 1660,
   "id": "fifteen-being",
   "metadata": {},
   "outputs": [
    {
     "name": "stderr",
     "output_type": "stream",
     "text": [
      "100%|██████████| 6950/6950 [00:00<00:00, 108309.48it/s]\n"
     ]
    }
   ],
   "source": [
    "similarity_matrix = SparseTermSimilarityMatrix(wordemb_sim_index, gensim_dictionary)"
   ]
  },
  {
   "cell_type": "code",
   "execution_count": 1661,
   "id": "indie-circus",
   "metadata": {},
   "outputs": [],
   "source": [
    "softcos_sim_index = SoftCosineSimilarity(gensim_corpus_tfidf, similarity_matrix)"
   ]
  },
  {
   "cell_type": "code",
   "execution_count": 1662,
   "id": "informational-coach",
   "metadata": {},
   "outputs": [],
   "source": [
    "gensim_softcos_sims = softcos_sim_index.get_similarities(gensim_corpus_tfidf)"
   ]
  },
  {
   "cell_type": "code",
   "execution_count": 2188,
   "id": "swiss-cancellation",
   "metadata": {},
   "outputs": [],
   "source": [
    "similarity_df['gensim_softcos_sim'] = 0 * len(similarity_df.index)\n",
    "for i in range(len(gensim_softcos_sims)-1):\n",
    "    similarity_df.loc[i,'gensim_softcos_sim'] = gensim_softcos_sims[i][i+1]"
   ]
  },
  {
   "cell_type": "code",
   "execution_count": 2189,
   "id": "stock-trinity",
   "metadata": {},
   "outputs": [],
   "source": [
    "similarity_vs_stockprices = similarity_vs_stockprices.merge(similarity_df[['year','gensim_softcos_sim']],on='year')"
   ]
  },
  {
   "cell_type": "code",
   "execution_count": 2190,
   "id": "honest-heather",
   "metadata": {},
   "outputs": [
    {
     "data": {
      "text/html": [
       "<div>\n",
       "<style scoped>\n",
       "    .dataframe tbody tr th:only-of-type {\n",
       "        vertical-align: middle;\n",
       "    }\n",
       "\n",
       "    .dataframe tbody tr th {\n",
       "        vertical-align: top;\n",
       "    }\n",
       "\n",
       "    .dataframe thead th {\n",
       "        text-align: right;\n",
       "    }\n",
       "</style>\n",
       "<table border=\"1\" class=\"dataframe\">\n",
       "  <thead>\n",
       "    <tr style=\"text-align: right;\">\n",
       "      <th></th>\n",
       "      <th>Date</th>\n",
       "      <th>Open</th>\n",
       "      <th>High</th>\n",
       "      <th>Low</th>\n",
       "      <th>Close</th>\n",
       "      <th>Adj Close</th>\n",
       "      <th>Volume</th>\n",
       "      <th>year</th>\n",
       "      <th>Close_diff</th>\n",
       "      <th>gensim_jacc_score</th>\n",
       "      <th>gensim_tfidf_sim_x</th>\n",
       "      <th>gensim_tfidf_sim_y</th>\n",
       "      <th>gensim_tfidf_sim</th>\n",
       "      <th>gensim_softcos_sim</th>\n",
       "    </tr>\n",
       "  </thead>\n",
       "  <tbody>\n",
       "    <tr>\n",
       "      <th>0</th>\n",
       "      <td>2014-12-31</td>\n",
       "      <td>23.862000</td>\n",
       "      <td>25.522000</td>\n",
       "      <td>22.293000</td>\n",
       "      <td>0.796743</td>\n",
       "      <td>17.549671</td>\n",
       "      <td>5.213930e+06</td>\n",
       "      <td>2014</td>\n",
       "      <td>NaN</td>\n",
       "      <td>0.000000</td>\n",
       "      <td>0.000000</td>\n",
       "      <td>0.000000</td>\n",
       "      <td>0.000000</td>\n",
       "      <td>0.000000</td>\n",
       "    </tr>\n",
       "    <tr>\n",
       "      <th>1</th>\n",
       "      <td>2015-12-31</td>\n",
       "      <td>29.458333</td>\n",
       "      <td>31.161667</td>\n",
       "      <td>26.827500</td>\n",
       "      <td>1.000000</td>\n",
       "      <td>21.755038</td>\n",
       "      <td>5.655683e+06</td>\n",
       "      <td>2015</td>\n",
       "      <td>0.203257</td>\n",
       "      <td>0.545024</td>\n",
       "      <td>0.866074</td>\n",
       "      <td>0.866074</td>\n",
       "      <td>0.866074</td>\n",
       "      <td>0.866066</td>\n",
       "    </tr>\n",
       "    <tr>\n",
       "      <th>2</th>\n",
       "      <td>2016-12-31</td>\n",
       "      <td>28.077500</td>\n",
       "      <td>30.495000</td>\n",
       "      <td>26.644167</td>\n",
       "      <td>0.991520</td>\n",
       "      <td>22.278353</td>\n",
       "      <td>5.912350e+06</td>\n",
       "      <td>2016</td>\n",
       "      <td>-0.008480</td>\n",
       "      <td>0.553141</td>\n",
       "      <td>0.863190</td>\n",
       "      <td>0.863190</td>\n",
       "      <td>0.863190</td>\n",
       "      <td>0.863193</td>\n",
       "    </tr>\n",
       "    <tr>\n",
       "      <th>3</th>\n",
       "      <td>2017-12-31</td>\n",
       "      <td>23.620833</td>\n",
       "      <td>24.969166</td>\n",
       "      <td>20.815834</td>\n",
       "      <td>0.707282</td>\n",
       "      <td>17.307974</td>\n",
       "      <td>4.927905e+07</td>\n",
       "      <td>2017</td>\n",
       "      <td>-0.284239</td>\n",
       "      <td>0.607955</td>\n",
       "      <td>0.238131</td>\n",
       "      <td>0.238131</td>\n",
       "      <td>0.238131</td>\n",
       "      <td>0.238132</td>\n",
       "    </tr>\n",
       "    <tr>\n",
       "      <th>4</th>\n",
       "      <td>2018-12-31</td>\n",
       "      <td>16.283333</td>\n",
       "      <td>17.958333</td>\n",
       "      <td>14.378333</td>\n",
       "      <td>0.462279</td>\n",
       "      <td>13.482585</td>\n",
       "      <td>3.781455e+07</td>\n",
       "      <td>2018</td>\n",
       "      <td>-0.245003</td>\n",
       "      <td>0.552042</td>\n",
       "      <td>0.706411</td>\n",
       "      <td>0.706411</td>\n",
       "      <td>0.706411</td>\n",
       "      <td>0.706409</td>\n",
       "    </tr>\n",
       "    <tr>\n",
       "      <th>5</th>\n",
       "      <td>2019-12-31</td>\n",
       "      <td>12.117500</td>\n",
       "      <td>13.080833</td>\n",
       "      <td>10.618333</td>\n",
       "      <td>0.285248</td>\n",
       "      <td>10.894159</td>\n",
       "      <td>4.816236e+07</td>\n",
       "      <td>2019</td>\n",
       "      <td>-0.177031</td>\n",
       "      <td>0.539351</td>\n",
       "      <td>0.873786</td>\n",
       "      <td>0.873786</td>\n",
       "      <td>0.873786</td>\n",
       "      <td>0.873790</td>\n",
       "    </tr>\n",
       "    <tr>\n",
       "      <th>6</th>\n",
       "      <td>2020-12-31</td>\n",
       "      <td>4.864167</td>\n",
       "      <td>6.237500</td>\n",
       "      <td>3.444167</td>\n",
       "      <td>0.000000</td>\n",
       "      <td>4.463567</td>\n",
       "      <td>2.269512e+08</td>\n",
       "      <td>2020</td>\n",
       "      <td>-0.285248</td>\n",
       "      <td>0.582520</td>\n",
       "      <td>0.079636</td>\n",
       "      <td>0.079636</td>\n",
       "      <td>0.079636</td>\n",
       "      <td>0.079636</td>\n",
       "    </tr>\n",
       "    <tr>\n",
       "      <th>7</th>\n",
       "      <td>2021-12-31</td>\n",
       "      <td>9.600000</td>\n",
       "      <td>18.805000</td>\n",
       "      <td>3.585000</td>\n",
       "      <td>0.248873</td>\n",
       "      <td>10.635000</td>\n",
       "      <td>4.124496e+09</td>\n",
       "      <td>2021</td>\n",
       "      <td>0.248873</td>\n",
       "      <td>0.598761</td>\n",
       "      <td>0.838070</td>\n",
       "      <td>0.838070</td>\n",
       "      <td>0.838070</td>\n",
       "      <td>0.838063</td>\n",
       "    </tr>\n",
       "  </tbody>\n",
       "</table>\n",
       "</div>"
      ],
      "text/plain": [
       "        Date       Open       High        Low     Close  Adj Close  \\\n",
       "0 2014-12-31  23.862000  25.522000  22.293000  0.796743  17.549671   \n",
       "1 2015-12-31  29.458333  31.161667  26.827500  1.000000  21.755038   \n",
       "2 2016-12-31  28.077500  30.495000  26.644167  0.991520  22.278353   \n",
       "3 2017-12-31  23.620833  24.969166  20.815834  0.707282  17.307974   \n",
       "4 2018-12-31  16.283333  17.958333  14.378333  0.462279  13.482585   \n",
       "5 2019-12-31  12.117500  13.080833  10.618333  0.285248  10.894159   \n",
       "6 2020-12-31   4.864167   6.237500   3.444167  0.000000   4.463567   \n",
       "7 2021-12-31   9.600000  18.805000   3.585000  0.248873  10.635000   \n",
       "\n",
       "         Volume  year  Close_diff  gensim_jacc_score  gensim_tfidf_sim_x  \\\n",
       "0  5.213930e+06  2014         NaN           0.000000            0.000000   \n",
       "1  5.655683e+06  2015    0.203257           0.545024            0.866074   \n",
       "2  5.912350e+06  2016   -0.008480           0.553141            0.863190   \n",
       "3  4.927905e+07  2017   -0.284239           0.607955            0.238131   \n",
       "4  3.781455e+07  2018   -0.245003           0.552042            0.706411   \n",
       "5  4.816236e+07  2019   -0.177031           0.539351            0.873786   \n",
       "6  2.269512e+08  2020   -0.285248           0.582520            0.079636   \n",
       "7  4.124496e+09  2021    0.248873           0.598761            0.838070   \n",
       "\n",
       "   gensim_tfidf_sim_y  gensim_tfidf_sim  gensim_softcos_sim  \n",
       "0            0.000000          0.000000            0.000000  \n",
       "1            0.866074          0.866074            0.866066  \n",
       "2            0.863190          0.863190            0.863193  \n",
       "3            0.238131          0.238131            0.238132  \n",
       "4            0.706411          0.706411            0.706409  \n",
       "5            0.873786          0.873786            0.873790  \n",
       "6            0.079636          0.079636            0.079636  \n",
       "7            0.838070          0.838070            0.838063  "
      ]
     },
     "execution_count": 2190,
     "metadata": {},
     "output_type": "execute_result"
    }
   ],
   "source": [
    "similarity_vs_stockprices"
   ]
  },
  {
   "cell_type": "code",
   "execution_count": 2191,
   "id": "sensitive-initial",
   "metadata": {},
   "outputs": [
    {
     "data": {
      "text/plain": [
       "<AxesSubplot:xlabel='year'>"
      ]
     },
     "execution_count": 2191,
     "metadata": {},
     "output_type": "execute_result"
    },
    {
     "data": {
      "image/png": "[encoded data removed]",
      "text/plain": [
       "<Figure size 1080x360 with 1 Axes>"
      ]
     },
     "metadata": {
      "needs_background": "light"
     },
     "output_type": "display_data"
    }
   ],
   "source": [
    "similarity_vs_stockprices.plot(x='year',y=['Close_diff','gensim_jacc_score','gensim_tfidf_sim','gensim_softcos_sim'],figsize=(15,5),grid=True)"
   ]
  },
  {
   "cell_type": "markdown",
   "id": "impossible-nature",
   "metadata": {},
   "source": [
    "<B>Both sklearn cosine similarity and gensim softcosin similarity based of tfidf mimic the trend in avg stock close prices of that year.\n",
    "   meanwhile Jaccard similarity based on bow corpus is not so indicative of the stock price trend."
   ]
  },
  {
   "cell_type": "markdown",
   "id": "criminal-hotel",
   "metadata": {},
   "source": [
    "### sklearn CountVectorizer & jaccard similarity"
   ]
  },
  {
   "cell_type": "code",
   "execution_count": 1667,
   "id": "spoken-action",
   "metadata": {},
   "outputs": [],
   "source": [
    "from sklearn.metrics import jaccard_score"
   ]
  },
  {
   "cell_type": "code",
   "execution_count": 1668,
   "id": "conditional-painting",
   "metadata": {},
   "outputs": [],
   "source": [
    "alldoc_word_list = []\n",
    "for word_list in document_list:\n",
    "    alldoc_word_list +=word_list"
   ]
  },
  {
   "cell_type": "code",
   "execution_count": 1669,
   "id": "atomic-munich",
   "metadata": {},
   "outputs": [],
   "source": [
    "alldoc_words = sorted(set(alldoc_word_list))"
   ]
  },
  {
   "cell_type": "code",
   "execution_count": 1693,
   "id": "differential-lancaster",
   "metadata": {},
   "outputs": [],
   "source": [
    "documents_lines_list = [' '.join(doc) for doc in document_list]"
   ]
  },
  {
   "cell_type": "code",
   "execution_count": 1694,
   "id": "significant-treaty",
   "metadata": {},
   "outputs": [],
   "source": [
    "vec = CountVectorizer(vocabulary=alldoc_words)"
   ]
  },
  {
   "cell_type": "code",
   "execution_count": 1695,
   "id": "analyzed-scholarship",
   "metadata": {},
   "outputs": [],
   "source": [
    "vectors = vec.fit_transform(documents_lines_list)\n",
    "sk_bow = []\n",
    "for i in range(len(document_list)):\n",
    "        sk_bow.append(vectors[i].toarray()[0])"
   ]
  },
  {
   "cell_type": "code",
   "execution_count": 2205,
   "id": "anonymous-council",
   "metadata": {},
   "outputs": [],
   "source": [
    "similarity_df['sklearn_jacc_score'] = 0 * len(similarity_df.index)"
   ]
  },
  {
   "cell_type": "code",
   "execution_count": 2206,
   "id": "hazardous-dragon",
   "metadata": {},
   "outputs": [],
   "source": [
    "for i,row in similarity_df.iterrows():\n",
    "    if i < (len(similarity_df.index)-1):\n",
    "        u = sk_bow[i]\n",
    "        v = sk_bow[i+1]\n",
    "        similarity_df.loc[similarity_df.year == row.year,'sklearn_jacc_score'] = jaccard_score(u,v,average='weighted')"
   ]
  },
  {
   "cell_type": "code",
   "execution_count": 2207,
   "id": "outdoor-shuttle",
   "metadata": {},
   "outputs": [],
   "source": [
    "similarity_vs_stockprices = similarity_vs_stockprices.merge(similarity_df[['year','sklearn_jacc_score']],on='year')"
   ]
  },
  {
   "cell_type": "markdown",
   "id": "automated-herald",
   "metadata": {},
   "source": [
    "### sklearn TfidfVectorizer & cosine similarity"
   ]
  },
  {
   "cell_type": "code",
   "execution_count": 2192,
   "id": "sublime-october",
   "metadata": {},
   "outputs": [],
   "source": [
    "from sklearn.feature_extraction.text import TfidfVectorizer"
   ]
  },
  {
   "cell_type": "code",
   "execution_count": 2193,
   "id": "voluntary-developer",
   "metadata": {},
   "outputs": [],
   "source": [
    "from sklearn.metrics.pairwise import cosine_similarity"
   ]
  },
  {
   "cell_type": "code",
   "execution_count": 2194,
   "id": "mental-henry",
   "metadata": {},
   "outputs": [],
   "source": [
    "vec = TfidfVectorizer(vocabulary=alldoc_words)\n",
    "tfidf = vec.fit_transform(documents_lines_list)"
   ]
  },
  {
   "cell_type": "code",
   "execution_count": 2195,
   "id": "informed-mother",
   "metadata": {},
   "outputs": [
    {
     "data": {
      "text/plain": [
       "array([[0.95162102]])"
      ]
     },
     "execution_count": 2195,
     "metadata": {},
     "output_type": "execute_result"
    }
   ],
   "source": [
    "cosine_similarity(tfidf[0].reshape(1, -1),tfidf[1].reshape(1, -1))"
   ]
  },
  {
   "cell_type": "code",
   "execution_count": 2196,
   "id": "demonstrated-importance",
   "metadata": {},
   "outputs": [],
   "source": [
    "for i,row in similarity_df.iterrows():\n",
    "    if i < (len(similarity_df.index)-1):\n",
    "        similarity_df.loc[similarity_df.year == row.year,'sklearn_cosine_sim'] = cosine_similarity(tfidf[i].reshape(1, -1),tfidf[i+1].reshape(1, -1))"
   ]
  },
  {
   "cell_type": "code",
   "execution_count": 2197,
   "id": "graphic-pennsylvania",
   "metadata": {},
   "outputs": [],
   "source": [
    "similarity_df['sklearn_cosine_sim'] = minmax_scaler.fit_transform(similarity_df[['sklearn_cosine_sim']])"
   ]
  },
  {
   "cell_type": "code",
   "execution_count": 2198,
   "id": "exclusive-accuracy",
   "metadata": {},
   "outputs": [
    {
     "data": {
      "text/html": [
       "<div>\n",
       "<style scoped>\n",
       "    .dataframe tbody tr th:only-of-type {\n",
       "        vertical-align: middle;\n",
       "    }\n",
       "\n",
       "    .dataframe tbody tr th {\n",
       "        vertical-align: top;\n",
       "    }\n",
       "\n",
       "    .dataframe thead th {\n",
       "        text-align: right;\n",
       "    }\n",
       "</style>\n",
       "<table border=\"1\" class=\"dataframe\">\n",
       "  <thead>\n",
       "    <tr style=\"text-align: right;\">\n",
       "      <th></th>\n",
       "      <th>year</th>\n",
       "      <th>gensim_jacc_score</th>\n",
       "      <th>gensim_tfidf_sim</th>\n",
       "      <th>gensim_softcos_sim</th>\n",
       "      <th>sklearn_cosine_sim</th>\n",
       "    </tr>\n",
       "  </thead>\n",
       "  <tbody>\n",
       "    <tr>\n",
       "      <th>0</th>\n",
       "      <td>2021</td>\n",
       "      <td>0.598761</td>\n",
       "      <td>0.838070</td>\n",
       "      <td>0.838063</td>\n",
       "      <td>0.452297</td>\n",
       "    </tr>\n",
       "    <tr>\n",
       "      <th>1</th>\n",
       "      <td>2020</td>\n",
       "      <td>0.582520</td>\n",
       "      <td>0.079636</td>\n",
       "      <td>0.079636</td>\n",
       "      <td>0.000000</td>\n",
       "    </tr>\n",
       "    <tr>\n",
       "      <th>2</th>\n",
       "      <td>2019</td>\n",
       "      <td>0.539351</td>\n",
       "      <td>0.873786</td>\n",
       "      <td>0.873790</td>\n",
       "      <td>1.000000</td>\n",
       "    </tr>\n",
       "    <tr>\n",
       "      <th>3</th>\n",
       "      <td>2018</td>\n",
       "      <td>0.552042</td>\n",
       "      <td>0.706411</td>\n",
       "      <td>0.706409</td>\n",
       "      <td>0.442344</td>\n",
       "    </tr>\n",
       "    <tr>\n",
       "      <th>4</th>\n",
       "      <td>2017</td>\n",
       "      <td>0.607955</td>\n",
       "      <td>0.238131</td>\n",
       "      <td>0.238132</td>\n",
       "      <td>0.204397</td>\n",
       "    </tr>\n",
       "    <tr>\n",
       "      <th>5</th>\n",
       "      <td>2016</td>\n",
       "      <td>0.553141</td>\n",
       "      <td>0.863190</td>\n",
       "      <td>0.863193</td>\n",
       "      <td>0.778088</td>\n",
       "    </tr>\n",
       "    <tr>\n",
       "      <th>6</th>\n",
       "      <td>2015</td>\n",
       "      <td>0.545024</td>\n",
       "      <td>0.866074</td>\n",
       "      <td>0.866066</td>\n",
       "      <td>0.874092</td>\n",
       "    </tr>\n",
       "    <tr>\n",
       "      <th>7</th>\n",
       "      <td>2014</td>\n",
       "      <td>0.000000</td>\n",
       "      <td>0.000000</td>\n",
       "      <td>0.000000</td>\n",
       "      <td>NaN</td>\n",
       "    </tr>\n",
       "  </tbody>\n",
       "</table>\n",
       "</div>"
      ],
      "text/plain": [
       "   year  gensim_jacc_score  gensim_tfidf_sim  gensim_softcos_sim  \\\n",
       "0  2021           0.598761          0.838070            0.838063   \n",
       "1  2020           0.582520          0.079636            0.079636   \n",
       "2  2019           0.539351          0.873786            0.873790   \n",
       "3  2018           0.552042          0.706411            0.706409   \n",
       "4  2017           0.607955          0.238131            0.238132   \n",
       "5  2016           0.553141          0.863190            0.863193   \n",
       "6  2015           0.545024          0.866074            0.866066   \n",
       "7  2014           0.000000          0.000000            0.000000   \n",
       "\n",
       "   sklearn_cosine_sim  \n",
       "0            0.452297  \n",
       "1            0.000000  \n",
       "2            1.000000  \n",
       "3            0.442344  \n",
       "4            0.204397  \n",
       "5            0.778088  \n",
       "6            0.874092  \n",
       "7                 NaN  "
      ]
     },
     "execution_count": 2198,
     "metadata": {},
     "output_type": "execute_result"
    }
   ],
   "source": [
    "similarity_df"
   ]
  },
  {
   "cell_type": "code",
   "execution_count": 2202,
   "id": "alpha-breath",
   "metadata": {},
   "outputs": [],
   "source": [
    "similarity_vs_stockprices = similarity_vs_stockprices.merge(similarity_df[['year','sklearn_cosine_sim']],on='year')"
   ]
  },
  {
   "cell_type": "code",
   "execution_count": 2208,
   "id": "corrected-rental",
   "metadata": {},
   "outputs": [
    {
     "data": {
      "text/plain": [
       "<AxesSubplot:xlabel='year'>"
      ]
     },
     "execution_count": 2208,
     "metadata": {},
     "output_type": "execute_result"
    },
    {
     "data": {
      "image/png": "[encoded data removed]",
      "text/plain": [
       "<Figure size 1080x360 with 1 Axes>"
      ]
     },
     "metadata": {
      "needs_background": "light"
     },
     "output_type": "display_data"
    }
   ],
   "source": [
    "similarity_vs_stockprices.plot(x='year',y=['Close_diff','gensim_jacc_score','gensim_tfidf_sim','gensim_softcos_sim','sklearn_jacc_score','sklearn_cosine_sim'],figsize=(15,5),grid=True)"
   ]
  },
  {
   "cell_type": "markdown",
   "id": "chinese-dakota",
   "metadata": {},
   "source": [
    "## Similarity check with sentiment categories"
   ]
  },
  {
   "cell_type": "code",
   "execution_count": 1765,
   "id": "european-length",
   "metadata": {},
   "outputs": [],
   "source": [
    "sentiments = ['negative', 'positive', 'uncertainty', 'litigious', 'constraining', 'interesting']"
   ]
  },
  {
   "cell_type": "code",
   "execution_count": 1766,
   "id": "opposed-pollution",
   "metadata": {},
   "outputs": [],
   "source": [
    "sentiment_df = pd.read_csv('../data/external/LoughranMcDonald_MasterDictionary_2018.csv')"
   ]
  },
  {
   "cell_type": "code",
   "execution_count": 1784,
   "id": "knowing-dover",
   "metadata": {},
   "outputs": [],
   "source": [
    "sentiment_df.columns = [column.lower() for column in sentiment_df.columns] # Lowercase the columns for ease of use\n",
    "\n",
    "# Remove unused information\n",
    "sentiment_df = sentiment_df.astype({col : 'bool' for col in sentiments})"
   ]
  },
  {
   "cell_type": "code",
   "execution_count": 1787,
   "id": "revised-mason",
   "metadata": {},
   "outputs": [],
   "source": [
    "sentiment_df = sentiment_df[(sentiment_df[sentiments]).any(1)]"
   ]
  },
  {
   "cell_type": "code",
   "execution_count": 1789,
   "id": "increased-highlight",
   "metadata": {},
   "outputs": [],
   "source": [
    "sentiment_df['word'] = sentiment_df['word'].str.lower()\n",
    "lemmatizer = WordNetLemmatizer()\n",
    "sentiment_df[['word']] = [lemmatizer.lemmatize(word) for word in sentiment_df.word]\n",
    "sentiment_df = sentiment_df.drop_duplicates('word')"
   ]
  },
  {
   "cell_type": "code",
   "execution_count": 518,
   "id": "round-library",
   "metadata": {
    "collapsed": true,
    "jupyter": {
     "outputs_hidden": true
    }
   },
   "outputs": [
    {
     "data": {
      "text/plain": [
       "['abandon',\n",
       " 'abandoned',\n",
       " 'abandoning',\n",
       " 'abandonment',\n",
       " 'abdicated',\n",
       " 'abdicates',\n",
       " 'abdicating',\n",
       " 'abdication',\n",
       " 'aberrant',\n",
       " 'aberration',\n",
       " 'aberrational',\n",
       " 'abetting',\n",
       " 'abeyance',\n",
       " 'abide',\n",
       " 'abiding',\n",
       " 'able',\n",
       " 'abnormal',\n",
       " 'abnormality',\n",
       " 'abnormally',\n",
       " 'abolish',\n",
       " 'abolished',\n",
       " 'abolishes',\n",
       " 'abolishing',\n",
       " 'abovementioned',\n",
       " 'abrogate',\n",
       " 'abrogated',\n",
       " 'abrogates',\n",
       " 'abrogating',\n",
       " 'abrogation',\n",
       " 'abrupt',\n",
       " 'abruptly',\n",
       " 'abruptness',\n",
       " 'absence',\n",
       " 'absenteeism',\n",
       " 'absolve',\n",
       " 'absolved',\n",
       " 'absolves',\n",
       " 'absolving',\n",
       " 'abundance',\n",
       " 'abundant',\n",
       " 'abuse',\n",
       " 'abused',\n",
       " 'abusing',\n",
       " 'abusive',\n",
       " 'abusively',\n",
       " 'abusiveness',\n",
       " 'accession',\n",
       " 'accident',\n",
       " 'accidental',\n",
       " 'accidentally',\n",
       " 'acclaimed',\n",
       " 'accomplish',\n",
       " 'accomplished',\n",
       " 'accomplishes',\n",
       " 'accomplishing',\n",
       " 'accomplishment',\n",
       " 'accusation',\n",
       " 'accuse',\n",
       " 'accused',\n",
       " 'accuses',\n",
       " 'accusing',\n",
       " 'achieve',\n",
       " 'achieved',\n",
       " 'achievement',\n",
       " 'achieves',\n",
       " 'achieving',\n",
       " 'acquiesce',\n",
       " 'acquiesced',\n",
       " 'acquiesces',\n",
       " 'acquiescing',\n",
       " 'acquirees',\n",
       " 'acquirors',\n",
       " 'acquit',\n",
       " 'acquits',\n",
       " 'acquittal',\n",
       " 'acquittance',\n",
       " 'acquitted',\n",
       " 'acquitting',\n",
       " 'addendum',\n",
       " 'adequately',\n",
       " 'adjourn',\n",
       " 'adjourned',\n",
       " 'adjourning',\n",
       " 'adjournment',\n",
       " 'adjourns',\n",
       " 'adjudge',\n",
       " 'adjudged',\n",
       " 'adjudges',\n",
       " 'adjudging',\n",
       " 'adjudicate',\n",
       " 'adjudicated',\n",
       " 'adjudicates',\n",
       " 'adjudicating',\n",
       " 'adjudication',\n",
       " 'adjudicative',\n",
       " 'adjudicator',\n",
       " 'adjudicatory',\n",
       " 'admissibility',\n",
       " 'admissible',\n",
       " 'admissibly',\n",
       " 'admission',\n",
       " 'adulterate',\n",
       " 'adulterated',\n",
       " 'adulterating',\n",
       " 'adulteration',\n",
       " 'advancement',\n",
       " 'advance',\n",
       " 'advancing',\n",
       " 'advantage',\n",
       " 'advantaged',\n",
       " 'advantageous',\n",
       " 'advantageously',\n",
       " 'adversarial',\n",
       " 'adversary',\n",
       " 'adverse',\n",
       " 'adversely',\n",
       " 'adversity',\n",
       " 'affidavit',\n",
       " 'affirmance',\n",
       " 'affreightment',\n",
       " 'aforedescribed',\n",
       " 'aforementioned',\n",
       " 'aforesaid',\n",
       " 'aforestated',\n",
       " 'aftermath',\n",
       " 'against',\n",
       " 'aggravate',\n",
       " 'aggravated',\n",
       " 'aggravates',\n",
       " 'aggravating',\n",
       " 'aggravation',\n",
       " 'aggressive',\n",
       " 'aggressively',\n",
       " 'aggressiveness',\n",
       " 'aggrieved',\n",
       " 'alerted',\n",
       " 'alerting',\n",
       " 'alienate',\n",
       " 'alienated',\n",
       " 'alienates',\n",
       " 'alienating',\n",
       " 'alienation',\n",
       " 'allegation',\n",
       " 'allege',\n",
       " 'alleged',\n",
       " 'allegedly',\n",
       " 'alleges',\n",
       " 'alleging',\n",
       " 'alliance',\n",
       " 'almost',\n",
       " 'alteration',\n",
       " 'ambiguity',\n",
       " 'ambiguous',\n",
       " 'amend',\n",
       " 'amendable',\n",
       " 'amendatory',\n",
       " 'amended',\n",
       " 'amending',\n",
       " 'amendment',\n",
       " 'amends',\n",
       " 'annoy',\n",
       " 'annoyance',\n",
       " 'annoyed',\n",
       " 'annoying',\n",
       " 'annoys',\n",
       " 'annul',\n",
       " 'annulled',\n",
       " 'annulling',\n",
       " 'annulment',\n",
       " 'annuls',\n",
       " 'anomaly',\n",
       " 'anomalous',\n",
       " 'anomalously',\n",
       " 'antecedent',\n",
       " 'anticipate',\n",
       " 'anticipated',\n",
       " 'anticipates',\n",
       " 'anticipating',\n",
       " 'anticipation',\n",
       " 'anticompetitive',\n",
       " 'anticorruption',\n",
       " 'antitrust',\n",
       " 'anywise',\n",
       " 'apparent',\n",
       " 'apparently',\n",
       " 'appeal',\n",
       " 'appealable',\n",
       " 'appealed',\n",
       " 'appealing',\n",
       " 'appear',\n",
       " 'appeared',\n",
       " 'appearing',\n",
       " 'appears',\n",
       " 'appellant',\n",
       " 'appellate',\n",
       " 'appellees',\n",
       " 'appointor',\n",
       " 'approximate',\n",
       " 'approximated',\n",
       " 'approximately',\n",
       " 'approximates',\n",
       " 'approximating',\n",
       " 'approximation',\n",
       " 'appurtenance',\n",
       " 'appurtenant',\n",
       " 'arbitrability',\n",
       " 'arbitral',\n",
       " 'arbitrarily',\n",
       " 'arbitrariness',\n",
       " 'arbitrary',\n",
       " 'arbitrate',\n",
       " 'arbitrated',\n",
       " 'arbitrates',\n",
       " 'arbitrating',\n",
       " 'arbitration',\n",
       " 'arbitrational',\n",
       " 'arbitrative',\n",
       " 'arbitrator',\n",
       " 'argue',\n",
       " 'argued',\n",
       " 'arguing',\n",
       " 'argument',\n",
       " 'argumentative',\n",
       " 'arrearage',\n",
       " 'arrearages',\n",
       " 'arrears',\n",
       " 'arrest',\n",
       " 'arrested',\n",
       " 'artificially',\n",
       " 'asbestos',\n",
       " 'ascendancy',\n",
       " 'ascendant',\n",
       " 'assault',\n",
       " 'assaulted',\n",
       " 'assaulting',\n",
       " 'assertable',\n",
       " 'assertion',\n",
       " 'assignation',\n",
       " 'assumable',\n",
       " 'assume',\n",
       " 'assumed',\n",
       " 'assumes',\n",
       " 'assuming',\n",
       " 'assumption',\n",
       " 'assure',\n",
       " 'assured',\n",
       " 'assures',\n",
       " 'assuring',\n",
       " 'attain',\n",
       " 'attained',\n",
       " 'attaining',\n",
       " 'attainment',\n",
       " 'attains',\n",
       " 'attest',\n",
       " 'attestation',\n",
       " 'attested',\n",
       " 'attesting',\n",
       " 'attorn',\n",
       " 'attorney',\n",
       " 'attornment',\n",
       " 'attorns',\n",
       " 'attractive',\n",
       " 'attractiveness',\n",
       " 'attrition',\n",
       " 'august',\n",
       " 'aversely',\n",
       " 'backdating',\n",
       " 'bad',\n",
       " 'bail',\n",
       " 'bailed',\n",
       " 'bailee',\n",
       " 'bailiff',\n",
       " 'bailment',\n",
       " 'bailout',\n",
       " 'balk',\n",
       " 'balked',\n",
       " 'ban',\n",
       " 'bankrupt',\n",
       " 'bankruptcy',\n",
       " 'bankrupted',\n",
       " 'bankrupting',\n",
       " 'barred',\n",
       " 'barrier',\n",
       " 'beautiful',\n",
       " 'beautifully',\n",
       " 'believe',\n",
       " 'believed',\n",
       " 'belief',\n",
       " 'believing',\n",
       " 'beneficial',\n",
       " 'beneficially',\n",
       " 'beneficiated',\n",
       " 'beneficiation',\n",
       " 'benefit',\n",
       " 'benefited',\n",
       " 'benefiting',\n",
       " 'benefitted',\n",
       " 'benefitting',\n",
       " 'best',\n",
       " 'better',\n",
       " 'bioterrorism',\n",
       " 'bolstered',\n",
       " 'bolstering',\n",
       " 'bolster',\n",
       " 'bona',\n",
       " 'bonafide',\n",
       " 'boom',\n",
       " 'booming',\n",
       " 'boost',\n",
       " 'boosted',\n",
       " 'bottleneck',\n",
       " 'bound',\n",
       " 'bounded',\n",
       " 'boycott',\n",
       " 'boycotted',\n",
       " 'boycotting',\n",
       " 'breach',\n",
       " 'breached',\n",
       " 'breaching',\n",
       " 'break',\n",
       " 'breakage',\n",
       " 'breakdown',\n",
       " 'breaking',\n",
       " 'breakthrough',\n",
       " 'bribe',\n",
       " 'bribed',\n",
       " 'bribery',\n",
       " 'bribing',\n",
       " 'bridge',\n",
       " 'brilliant',\n",
       " 'broken',\n",
       " 'burden',\n",
       " 'burdened',\n",
       " 'burdening',\n",
       " 'burdensome',\n",
       " 'burned',\n",
       " 'calamity',\n",
       " 'calamitous',\n",
       " 'cancel',\n",
       " 'canceled',\n",
       " 'canceling',\n",
       " 'cancellation',\n",
       " 'cancelled',\n",
       " 'cancelling',\n",
       " 'cancer',\n",
       " 'careless',\n",
       " 'carelessly',\n",
       " 'carelessness',\n",
       " 'catastrophe',\n",
       " 'catastrophic',\n",
       " 'catastrophically',\n",
       " 'caution',\n",
       " 'cautionary',\n",
       " 'cautioned',\n",
       " 'cautioning',\n",
       " 'cautious',\n",
       " 'cautiously',\n",
       " 'cautiousness',\n",
       " 'cease',\n",
       " 'ceased',\n",
       " 'ceasing',\n",
       " 'cedant',\n",
       " 'cedants',\n",
       " 'censure',\n",
       " 'censured',\n",
       " 'censuring',\n",
       " 'certiorari',\n",
       " 'cession',\n",
       " 'challenge',\n",
       " 'challenged',\n",
       " 'challenging',\n",
       " 'chapter',\n",
       " 'chargeoffs',\n",
       " 'charitable',\n",
       " 'chattel',\n",
       " 'choate',\n",
       " 'circumvent',\n",
       " 'circumvented',\n",
       " 'circumventing',\n",
       " 'circumvention',\n",
       " 'circumvents',\n",
       " 'claim',\n",
       " 'claimable',\n",
       " 'claimant',\n",
       " 'claimholder',\n",
       " 'claiming',\n",
       " 'clarification',\n",
       " 'clawback',\n",
       " 'closed',\n",
       " 'closeout',\n",
       " 'closing',\n",
       " 'closure',\n",
       " 'codefendant',\n",
       " 'codicil',\n",
       " 'codification',\n",
       " 'codified',\n",
       " 'codifies',\n",
       " 'codify',\n",
       " 'codifying',\n",
       " 'coerce',\n",
       " 'coerced',\n",
       " 'coerces',\n",
       " 'coercing',\n",
       " 'coercion',\n",
       " 'coercive',\n",
       " 'collaborate',\n",
       " 'collaborated',\n",
       " 'collaborates',\n",
       " 'collaborating',\n",
       " 'collaboration',\n",
       " 'collaborative',\n",
       " 'collaborator',\n",
       " 'collapse',\n",
       " 'collapsed',\n",
       " 'collapsing',\n",
       " 'collision',\n",
       " 'collude',\n",
       " 'colluded',\n",
       " 'colludes',\n",
       " 'colluding',\n",
       " 'collusion',\n",
       " 'collusive',\n",
       " 'commit',\n",
       " 'commitment',\n",
       " 'commits',\n",
       " 'committed',\n",
       " 'committing',\n",
       " 'compel',\n",
       " 'compelled',\n",
       " 'compelling',\n",
       " 'compels',\n",
       " 'compensatory',\n",
       " 'complain',\n",
       " 'complainant',\n",
       " 'complained',\n",
       " 'complaining',\n",
       " 'complains',\n",
       " 'complaint',\n",
       " 'complicate',\n",
       " 'complicated',\n",
       " 'complicates',\n",
       " 'complicating',\n",
       " 'complication',\n",
       " 'compliment',\n",
       " 'complimentary',\n",
       " 'complimented',\n",
       " 'complimenting',\n",
       " 'comply',\n",
       " 'compulsion',\n",
       " 'compulsory',\n",
       " 'concealed',\n",
       " 'concealing',\n",
       " 'concede',\n",
       " 'conceded',\n",
       " 'concedes',\n",
       " 'conceding',\n",
       " 'conceivable',\n",
       " 'conceivably',\n",
       " 'concern',\n",
       " 'concerned',\n",
       " 'concerning',\n",
       " 'conciliating',\n",
       " 'conciliation',\n",
       " 'conclusive',\n",
       " 'conclusively',\n",
       " 'condemn',\n",
       " 'condemnation',\n",
       " 'condemned',\n",
       " 'condemning',\n",
       " 'condemnor',\n",
       " 'condemns',\n",
       " 'conditional',\n",
       " 'conditionally',\n",
       " 'condone',\n",
       " 'condoned',\n",
       " 'conducive',\n",
       " 'confess',\n",
       " 'confessed',\n",
       " 'confesses',\n",
       " 'confessing',\n",
       " 'confession',\n",
       " 'confident',\n",
       " 'confine',\n",
       " 'confined',\n",
       " 'confinement',\n",
       " 'confines',\n",
       " 'confining',\n",
       " 'confiscate',\n",
       " 'confiscated',\n",
       " 'confiscates',\n",
       " 'confiscating',\n",
       " 'confiscation',\n",
       " 'confiscatory',\n",
       " 'conflict',\n",
       " 'conflicted',\n",
       " 'conflicting',\n",
       " 'confront',\n",
       " 'confrontation',\n",
       " 'confrontational',\n",
       " 'confronted',\n",
       " 'confronting',\n",
       " 'confronts',\n",
       " 'confuse',\n",
       " 'confused',\n",
       " 'confuses',\n",
       " 'confusing',\n",
       " 'confusingly',\n",
       " 'confusion',\n",
       " 'consent',\n",
       " 'consented',\n",
       " 'consenting',\n",
       " 'conservatorships',\n",
       " 'conspiracy',\n",
       " 'conspirator',\n",
       " 'conspiratorial',\n",
       " 'conspire',\n",
       " 'conspired',\n",
       " 'conspires',\n",
       " 'conspiring',\n",
       " 'constitution',\n",
       " 'constitutional',\n",
       " 'constitutionality',\n",
       " 'constitutionally',\n",
       " 'constitutive',\n",
       " 'constrain',\n",
       " 'constrained',\n",
       " 'constraining',\n",
       " 'constrains',\n",
       " 'constraint',\n",
       " 'constructive',\n",
       " 'constructively',\n",
       " 'construe',\n",
       " 'construed',\n",
       " 'construes',\n",
       " 'construing',\n",
       " 'contaminated',\n",
       " 'contempt',\n",
       " 'contend',\n",
       " 'contended',\n",
       " 'contending',\n",
       " 'contends',\n",
       " 'contention',\n",
       " 'contentious',\n",
       " 'contentiously',\n",
       " 'contestability',\n",
       " 'contestation',\n",
       " 'contested',\n",
       " 'contesting',\n",
       " 'contest',\n",
       " 'contingency',\n",
       " 'contingent',\n",
       " 'contingently',\n",
       " 'contract',\n",
       " 'contracted',\n",
       " 'contractholder',\n",
       " 'contractholders',\n",
       " 'contractible',\n",
       " 'contractile',\n",
       " 'contracting',\n",
       " 'contraction',\n",
       " 'contractual',\n",
       " 'contractually',\n",
       " 'contradict',\n",
       " 'contradicted',\n",
       " 'contradicting',\n",
       " 'contradiction',\n",
       " 'contradictory',\n",
       " 'contradicts',\n",
       " 'contrary',\n",
       " 'contravene',\n",
       " 'contravened',\n",
       " 'contravenes',\n",
       " 'contravening',\n",
       " 'contravention',\n",
       " 'controversial',\n",
       " 'controversy',\n",
       " 'controvert',\n",
       " 'controverted',\n",
       " 'controverting',\n",
       " 'conveniens',\n",
       " 'conveyance',\n",
       " 'convict',\n",
       " 'convicted',\n",
       " 'convicting',\n",
       " 'conviction',\n",
       " 'cooperated',\n",
       " 'corrected',\n",
       " 'correcting',\n",
       " 'correction',\n",
       " 'corrects',\n",
       " 'corrupt',\n",
       " 'corrupted',\n",
       " 'corrupting',\n",
       " 'corruption',\n",
       " 'corruptly',\n",
       " 'corruptness',\n",
       " 'costly',\n",
       " 'coterminous',\n",
       " 'could',\n",
       " 'counsel',\n",
       " 'counseled',\n",
       " 'counselled',\n",
       " 'counterclaim',\n",
       " 'counterclaimed',\n",
       " 'counterclaiming',\n",
       " 'counterfeit',\n",
       " 'counterfeited',\n",
       " 'counterfeiter',\n",
       " 'counterfeiting',\n",
       " 'countermeasure',\n",
       " 'countersignor',\n",
       " 'countersued',\n",
       " 'countersuit',\n",
       " 'court',\n",
       " 'courteous',\n",
       " 'courtroom',\n",
       " 'covenant',\n",
       " 'covenanted',\n",
       " 'covenanting',\n",
       " 'creative',\n",
       " 'creatively',\n",
       " 'creativeness',\n",
       " 'creativity',\n",
       " 'crime',\n",
       " 'criminal',\n",
       " 'criminality',\n",
       " 'criminalize',\n",
       " 'criminalizing',\n",
       " 'criminally',\n",
       " 'crisis',\n",
       " 'critical',\n",
       " 'critically',\n",
       " 'criticism',\n",
       " 'criticize',\n",
       " 'criticized',\n",
       " 'criticizes',\n",
       " 'criticizing',\n",
       " 'crossclaim',\n",
       " 'crossclaims',\n",
       " 'crossroad',\n",
       " 'crucial',\n",
       " 'crucially',\n",
       " 'culpability',\n",
       " 'culpable',\n",
       " 'culpably',\n",
       " 'cumbersome',\n",
       " 'curtail',\n",
       " 'curtailed',\n",
       " 'curtailing',\n",
       " 'curtailment',\n",
       " 'curtails',\n",
       " 'cut',\n",
       " 'cutback',\n",
       " 'cyberattack',\n",
       " 'cyberattacks',\n",
       " 'cyberbullying',\n",
       " 'cybercrime',\n",
       " 'cybercriminal',\n",
       " 'cybercriminals',\n",
       " 'damage',\n",
       " 'damaged',\n",
       " 'damaging',\n",
       " 'dampen',\n",
       " 'dampened',\n",
       " 'danger',\n",
       " 'dangerous',\n",
       " 'dangerously',\n",
       " 'deadlock',\n",
       " 'deadlocked',\n",
       " 'deadlocking',\n",
       " 'deadweight',\n",
       " 'deadweights',\n",
       " 'death',\n",
       " 'debarment',\n",
       " 'debarred',\n",
       " 'debilitating',\n",
       " 'deceased',\n",
       " 'decedent',\n",
       " 'deceit',\n",
       " 'deceitful',\n",
       " 'deceitfulness',\n",
       " 'deceive',\n",
       " 'deceived',\n",
       " 'deceives',\n",
       " 'deceiving',\n",
       " 'deception',\n",
       " 'deceptive',\n",
       " 'deceptively',\n",
       " 'declarant',\n",
       " 'decline',\n",
       " 'declined',\n",
       " 'declining',\n",
       " 'decrease',\n",
       " 'decreasing',\n",
       " 'decree',\n",
       " 'decreed',\n",
       " 'decreeing',\n",
       " 'deface',\n",
       " 'defaced',\n",
       " 'defacement',\n",
       " 'defalcation',\n",
       " 'defamation',\n",
       " 'defamatory',\n",
       " 'defame',\n",
       " 'defamed',\n",
       " 'defames',\n",
       " 'defaming',\n",
       " 'default',\n",
       " 'defaulted',\n",
       " 'defaulting',\n",
       " 'defeasance',\n",
       " 'defeasances',\n",
       " 'defease',\n",
       " 'defeased',\n",
       " 'defeasement',\n",
       " 'defeases',\n",
       " 'defeasing',\n",
       " 'defeat',\n",
       " 'defeated',\n",
       " 'defeating',\n",
       " 'defect',\n",
       " 'defective',\n",
       " 'defectively',\n",
       " 'defend',\n",
       " 'defendable',\n",
       " 'defendant',\n",
       " 'defended',\n",
       " 'defending',\n",
       " 'defends',\n",
       " 'defensive',\n",
       " 'defer',\n",
       " 'deference',\n",
       " 'deficiency',\n",
       " 'deficient',\n",
       " 'deficit',\n",
       " 'defraud',\n",
       " 'defrauded',\n",
       " 'defrauding',\n",
       " 'defrauds',\n",
       " 'defunct',\n",
       " 'degradation',\n",
       " 'degrade',\n",
       " 'degraded',\n",
       " 'degrades',\n",
       " 'degrading',\n",
       " 'delay',\n",
       " 'delayed',\n",
       " 'delaying',\n",
       " 'delegable',\n",
       " 'delegatable',\n",
       " 'delegatee',\n",
       " 'delegees',\n",
       " 'deleterious',\n",
       " 'deliberate',\n",
       " 'deliberated',\n",
       " 'deliberately',\n",
       " 'delight',\n",
       " 'delighted',\n",
       " 'delightful',\n",
       " 'delightfully',\n",
       " 'delighting',\n",
       " 'delinquency',\n",
       " 'delinquent',\n",
       " 'delinquently',\n",
       " 'delist',\n",
       " 'delisted',\n",
       " 'delisting',\n",
       " 'delists',\n",
       " 'demise',\n",
       " 'demised',\n",
       " 'demising',\n",
       " 'demolish',\n",
       " 'demolished',\n",
       " 'demolishes',\n",
       " 'demolishing',\n",
       " 'demolition',\n",
       " 'demote',\n",
       " 'demoted',\n",
       " 'demotes',\n",
       " 'demoting',\n",
       " 'demotion',\n",
       " 'demurred',\n",
       " 'demurrer',\n",
       " 'demurring',\n",
       " 'demur',\n",
       " 'denial',\n",
       " 'denied',\n",
       " 'denies',\n",
       " 'denigrate',\n",
       " 'denigrated',\n",
       " 'denigrates',\n",
       " 'denigrating',\n",
       " 'denigration',\n",
       " 'deny',\n",
       " 'denying',\n",
       " 'depend',\n",
       " 'dependability',\n",
       " 'dependable',\n",
       " 'dependance',\n",
       " 'dependant',\n",
       " 'depended',\n",
       " 'dependence',\n",
       " 'dependency',\n",
       " 'dependent',\n",
       " 'depending',\n",
       " 'depends',\n",
       " 'deplete',\n",
       " 'depleted',\n",
       " 'depletes',\n",
       " 'depleting',\n",
       " 'depletion',\n",
       " 'depose',\n",
       " 'deposed',\n",
       " 'deposes',\n",
       " 'deposing',\n",
       " 'deposition',\n",
       " 'depositional',\n",
       " 'deprecation',\n",
       " 'depress',\n",
       " 'depressed',\n",
       " 'depresses',\n",
       " 'depressing',\n",
       " 'deprivation',\n",
       " 'deprive',\n",
       " 'deprived',\n",
       " 'deprives',\n",
       " 'depriving',\n",
       " 'derelict',\n",
       " 'dereliction',\n",
       " 'derogate',\n",
       " 'derogated',\n",
       " 'derogates',\n",
       " 'derogating',\n",
       " 'derogation',\n",
       " 'derogatory',\n",
       " 'designator',\n",
       " 'desirable',\n",
       " 'desired',\n",
       " 'desist',\n",
       " 'despite',\n",
       " 'destabilization',\n",
       " 'destabilize',\n",
       " 'destabilized',\n",
       " 'destabilizing',\n",
       " 'destined',\n",
       " 'destroy',\n",
       " 'destroyed',\n",
       " 'destroyer',\n",
       " 'destroying',\n",
       " 'destroys',\n",
       " 'destruction',\n",
       " 'destructive',\n",
       " 'detain',\n",
       " 'detained',\n",
       " 'detainer',\n",
       " 'detention',\n",
       " 'deter',\n",
       " 'deteriorate',\n",
       " 'deteriorated',\n",
       " 'deteriorates',\n",
       " 'deteriorating',\n",
       " 'deterioration',\n",
       " 'deterred',\n",
       " 'deterrence',\n",
       " 'deterrent',\n",
       " 'deterring',\n",
       " 'deters',\n",
       " 'detract',\n",
       " 'detracted',\n",
       " 'detracting',\n",
       " 'detriment',\n",
       " 'detrimental',\n",
       " 'detrimentally',\n",
       " 'devalue',\n",
       " 'devalued',\n",
       " 'devalues',\n",
       " 'devaluing',\n",
       " 'devastate',\n",
       " 'devastated',\n",
       " 'devastating',\n",
       " 'devastation',\n",
       " 'deviate',\n",
       " 'deviated',\n",
       " 'deviating',\n",
       " 'deviation',\n",
       " 'devisee',\n",
       " 'devolve',\n",
       " 'devolved',\n",
       " 'devolves',\n",
       " 'devolving',\n",
       " 'diagnosed',\n",
       " 'dictate',\n",
       " 'dictated',\n",
       " 'dictating',\n",
       " 'die',\n",
       " 'died',\n",
       " 'dy',\n",
       " 'differ',\n",
       " 'differed',\n",
       " 'differing',\n",
       " 'differs',\n",
       " 'difficult',\n",
       " 'difficulty',\n",
       " 'difficultly',\n",
       " 'diligent',\n",
       " 'diligently',\n",
       " 'diminish',\n",
       " 'diminished',\n",
       " 'diminishes',\n",
       " 'diminishing',\n",
       " 'diminution',\n",
       " 'directive',\n",
       " 'disabled',\n",
       " 'disadvantage',\n",
       " 'disadvantaged',\n",
       " 'disadvantageous',\n",
       " 'disaffiliation',\n",
       " 'disaffirm',\n",
       " 'disaffirmance',\n",
       " 'disaffirmed',\n",
       " 'disaffirms',\n",
       " 'disagree',\n",
       " 'disagreeable',\n",
       " 'disagreed',\n",
       " 'disagreeing',\n",
       " 'disagreement',\n",
       " 'disagrees',\n",
       " 'disallow',\n",
       " 'disallowance',\n",
       " 'disallowances',\n",
       " 'disallowed',\n",
       " 'disallowing',\n",
       " 'disallows',\n",
       " 'disappear',\n",
       " 'disappearance',\n",
       " 'disappeared',\n",
       " 'disappearing',\n",
       " 'disappears',\n",
       " 'disappoint',\n",
       " 'disappointed',\n",
       " 'disappointing',\n",
       " 'disappointingly',\n",
       " 'disappointment',\n",
       " 'disappoints',\n",
       " 'disapproval',\n",
       " 'disapprove',\n",
       " 'disapproved',\n",
       " 'disapproves',\n",
       " 'disapproving',\n",
       " 'disassociates',\n",
       " 'disassociating',\n",
       " 'disassociation',\n",
       " 'disaster',\n",
       " 'disastrous',\n",
       " 'disastrously',\n",
       " 'disavow',\n",
       " 'disavowal',\n",
       " 'disavowed',\n",
       " 'disavowing',\n",
       " 'disavows',\n",
       " 'disciplinary',\n",
       " 'disclaim',\n",
       " 'disclaimed',\n",
       " 'disclaimer',\n",
       " 'disclaiming',\n",
       " 'disclaims',\n",
       " 'disclose',\n",
       " 'disclosed',\n",
       " 'discloses',\n",
       " 'disclosing',\n",
       " 'discontinuance',\n",
       " 'discontinuation',\n",
       " 'discontinue',\n",
       " 'discontinued',\n",
       " 'discontinues',\n",
       " 'discontinuing',\n",
       " 'discourage',\n",
       " 'discouraged',\n",
       " 'discourages',\n",
       " 'discouraging',\n",
       " 'discover',\n",
       " 'discredit',\n",
       " 'discredited',\n",
       " 'discrediting',\n",
       " 'discrepancy',\n",
       " 'diseased',\n",
       " 'disfavor',\n",
       " 'disfavored',\n",
       " 'disfavoring',\n",
       " 'disgorge',\n",
       " 'disgorged',\n",
       " 'disgorgement',\n",
       " 'disgorges',\n",
       " 'disgorging',\n",
       " 'disgrace',\n",
       " 'disgraceful',\n",
       " 'disgracefully',\n",
       " 'dishonest',\n",
       " 'dishonestly',\n",
       " 'dishonesty',\n",
       " ...]"
      ]
     },
     "execution_count": 518,
     "metadata": {},
     "output_type": "execute_result"
    }
   ],
   "source": [
    "sentiment_df.word.to_list()"
   ]
  },
  {
   "cell_type": "markdown",
   "id": "ordinary-event",
   "metadata": {},
   "source": [
    "### sklearn CountVectorizer & jaccard similarity"
   ]
  },
  {
   "cell_type": "code",
   "execution_count": 2209,
   "id": "capital-sessions",
   "metadata": {},
   "outputs": [],
   "source": [
    "mul_index = pd.MultiIndex.from_product([year_list,sentiments],names=('year','sentiment'))"
   ]
  },
  {
   "cell_type": "code",
   "execution_count": 2210,
   "id": "digital-conversion",
   "metadata": {},
   "outputs": [],
   "source": [
    "sentiments_sim_df = pd.DataFrame(index=mul_index)"
   ]
  },
  {
   "cell_type": "code",
   "execution_count": 2211,
   "id": "korean-voluntary",
   "metadata": {},
   "outputs": [],
   "source": [
    "def get_sentiment_bow(word_list,documents):\n",
    "    vec = CountVectorizer(vocabulary=word_list)\n",
    "    vectors = vec.fit_transform(documents)\n",
    "    sk_bow = []\n",
    "    for i in range(len(documents)):\n",
    "        sk_bow.append(vectors[i].toarray()[0])\n",
    "    return sk_bow"
   ]
  },
  {
   "cell_type": "code",
   "execution_count": 2212,
   "id": "sunset-brisbane",
   "metadata": {},
   "outputs": [],
   "source": [
    "sentiments_sk_bow = {}"
   ]
  },
  {
   "cell_type": "code",
   "execution_count": 2213,
   "id": "endangered-confusion",
   "metadata": {},
   "outputs": [],
   "source": [
    "for sentiment in sentiments:\n",
    "    sentiment_words = sentiment_df[sentiment_df[sentiment]]['word']\n",
    "    sentiments_sk_bow.update({sentiment:get_sentiment_bow(sentiment_words,documents_lines_list)})"
   ]
  },
  {
   "cell_type": "code",
   "execution_count": 2214,
   "id": "secure-waste",
   "metadata": {},
   "outputs": [],
   "source": [
    "for i,year in enumerate(year_list):\n",
    "    if i < (len(year_list)-1):\n",
    "        for sentiment in sentiments:\n",
    "            u = sentiments_sk_bow.get(sentiment)[i]\n",
    "            v = sentiments_sk_bow.get(sentiment)[i+1]\n",
    "            sentiments_sim_df.loc[(year,sentiment),'sklearn_jacc_score'] = jaccard_score(u,v,average='weighted')"
   ]
  },
  {
   "cell_type": "code",
   "execution_count": 2215,
   "id": "quiet-pakistan",
   "metadata": {},
   "outputs": [
    {
     "data": {
      "text/html": [
       "<div>\n",
       "<style scoped>\n",
       "    .dataframe tbody tr th:only-of-type {\n",
       "        vertical-align: middle;\n",
       "    }\n",
       "\n",
       "    .dataframe tbody tr th {\n",
       "        vertical-align: top;\n",
       "    }\n",
       "\n",
       "    .dataframe thead th {\n",
       "        text-align: right;\n",
       "    }\n",
       "</style>\n",
       "<table border=\"1\" class=\"dataframe\">\n",
       "  <thead>\n",
       "    <tr style=\"text-align: right;\">\n",
       "      <th></th>\n",
       "      <th></th>\n",
       "      <th>sklearn_jacc_score</th>\n",
       "    </tr>\n",
       "    <tr>\n",
       "      <th>year</th>\n",
       "      <th>sentiment</th>\n",
       "      <th></th>\n",
       "    </tr>\n",
       "  </thead>\n",
       "  <tbody>\n",
       "    <tr>\n",
       "      <th rowspan=\"6\" valign=\"top\">2021</th>\n",
       "      <th>negative</th>\n",
       "      <td>0.896639</td>\n",
       "    </tr>\n",
       "    <tr>\n",
       "      <th>positive</th>\n",
       "      <td>0.759042</td>\n",
       "    </tr>\n",
       "    <tr>\n",
       "      <th>uncertainty</th>\n",
       "      <td>0.694057</td>\n",
       "    </tr>\n",
       "    <tr>\n",
       "      <th>litigious</th>\n",
       "      <td>0.904958</td>\n",
       "    </tr>\n",
       "    <tr>\n",
       "      <th>constraining</th>\n",
       "      <td>0.674716</td>\n",
       "    </tr>\n",
       "    <tr>\n",
       "      <th>interesting</th>\n",
       "      <td>0.828336</td>\n",
       "    </tr>\n",
       "    <tr>\n",
       "      <th rowspan=\"6\" valign=\"top\">2020</th>\n",
       "      <th>negative</th>\n",
       "      <td>0.935128</td>\n",
       "    </tr>\n",
       "    <tr>\n",
       "      <th>positive</th>\n",
       "      <td>0.707089</td>\n",
       "    </tr>\n",
       "    <tr>\n",
       "      <th>uncertainty</th>\n",
       "      <td>0.743056</td>\n",
       "    </tr>\n",
       "    <tr>\n",
       "      <th>litigious</th>\n",
       "      <td>0.923211</td>\n",
       "    </tr>\n",
       "    <tr>\n",
       "      <th>constraining</th>\n",
       "      <td>0.781849</td>\n",
       "    </tr>\n",
       "    <tr>\n",
       "      <th>interesting</th>\n",
       "      <td>0.746832</td>\n",
       "    </tr>\n",
       "    <tr>\n",
       "      <th rowspan=\"6\" valign=\"top\">2019</th>\n",
       "      <th>negative</th>\n",
       "      <td>0.933791</td>\n",
       "    </tr>\n",
       "    <tr>\n",
       "      <th>positive</th>\n",
       "      <td>0.795152</td>\n",
       "    </tr>\n",
       "    <tr>\n",
       "      <th>uncertainty</th>\n",
       "      <td>0.810072</td>\n",
       "    </tr>\n",
       "    <tr>\n",
       "      <th>litigious</th>\n",
       "      <td>0.915592</td>\n",
       "    </tr>\n",
       "    <tr>\n",
       "      <th>constraining</th>\n",
       "      <td>0.826116</td>\n",
       "    </tr>\n",
       "    <tr>\n",
       "      <th>interesting</th>\n",
       "      <td>0.814977</td>\n",
       "    </tr>\n",
       "    <tr>\n",
       "      <th rowspan=\"6\" valign=\"top\">2018</th>\n",
       "      <th>negative</th>\n",
       "      <td>0.942224</td>\n",
       "    </tr>\n",
       "    <tr>\n",
       "      <th>positive</th>\n",
       "      <td>0.820990</td>\n",
       "    </tr>\n",
       "    <tr>\n",
       "      <th>uncertainty</th>\n",
       "      <td>0.783677</td>\n",
       "    </tr>\n",
       "    <tr>\n",
       "      <th>litigious</th>\n",
       "      <td>0.927178</td>\n",
       "    </tr>\n",
       "    <tr>\n",
       "      <th>constraining</th>\n",
       "      <td>0.758987</td>\n",
       "    </tr>\n",
       "    <tr>\n",
       "      <th>interesting</th>\n",
       "      <td>0.834477</td>\n",
       "    </tr>\n",
       "    <tr>\n",
       "      <th rowspan=\"6\" valign=\"top\">2017</th>\n",
       "      <th>negative</th>\n",
       "      <td>0.917308</td>\n",
       "    </tr>\n",
       "    <tr>\n",
       "      <th>positive</th>\n",
       "      <td>0.662946</td>\n",
       "    </tr>\n",
       "    <tr>\n",
       "      <th>uncertainty</th>\n",
       "      <td>0.757376</td>\n",
       "    </tr>\n",
       "    <tr>\n",
       "      <th>litigious</th>\n",
       "      <td>0.909367</td>\n",
       "    </tr>\n",
       "    <tr>\n",
       "      <th>constraining</th>\n",
       "      <td>0.782821</td>\n",
       "    </tr>\n",
       "    <tr>\n",
       "      <th>interesting</th>\n",
       "      <td>0.725528</td>\n",
       "    </tr>\n",
       "    <tr>\n",
       "      <th rowspan=\"6\" valign=\"top\">2016</th>\n",
       "      <th>negative</th>\n",
       "      <td>0.946341</td>\n",
       "    </tr>\n",
       "    <tr>\n",
       "      <th>positive</th>\n",
       "      <td>0.808532</td>\n",
       "    </tr>\n",
       "    <tr>\n",
       "      <th>uncertainty</th>\n",
       "      <td>0.821838</td>\n",
       "    </tr>\n",
       "    <tr>\n",
       "      <th>litigious</th>\n",
       "      <td>0.915222</td>\n",
       "    </tr>\n",
       "    <tr>\n",
       "      <th>constraining</th>\n",
       "      <td>0.814457</td>\n",
       "    </tr>\n",
       "    <tr>\n",
       "      <th>interesting</th>\n",
       "      <td>0.764219</td>\n",
       "    </tr>\n",
       "    <tr>\n",
       "      <th rowspan=\"6\" valign=\"top\">2015</th>\n",
       "      <th>negative</th>\n",
       "      <td>0.951009</td>\n",
       "    </tr>\n",
       "    <tr>\n",
       "      <th>positive</th>\n",
       "      <td>0.808472</td>\n",
       "    </tr>\n",
       "    <tr>\n",
       "      <th>uncertainty</th>\n",
       "      <td>0.852614</td>\n",
       "    </tr>\n",
       "    <tr>\n",
       "      <th>litigious</th>\n",
       "      <td>0.922752</td>\n",
       "    </tr>\n",
       "    <tr>\n",
       "      <th>constraining</th>\n",
       "      <td>0.794777</td>\n",
       "    </tr>\n",
       "    <tr>\n",
       "      <th>interesting</th>\n",
       "      <td>0.828283</td>\n",
       "    </tr>\n",
       "    <tr>\n",
       "      <th rowspan=\"6\" valign=\"top\">2014</th>\n",
       "      <th>negative</th>\n",
       "      <td>NaN</td>\n",
       "    </tr>\n",
       "    <tr>\n",
       "      <th>positive</th>\n",
       "      <td>NaN</td>\n",
       "    </tr>\n",
       "    <tr>\n",
       "      <th>uncertainty</th>\n",
       "      <td>NaN</td>\n",
       "    </tr>\n",
       "    <tr>\n",
       "      <th>litigious</th>\n",
       "      <td>NaN</td>\n",
       "    </tr>\n",
       "    <tr>\n",
       "      <th>constraining</th>\n",
       "      <td>NaN</td>\n",
       "    </tr>\n",
       "    <tr>\n",
       "      <th>interesting</th>\n",
       "      <td>NaN</td>\n",
       "    </tr>\n",
       "  </tbody>\n",
       "</table>\n",
       "</div>"
      ],
      "text/plain": [
       "                   sklearn_jacc_score\n",
       "year sentiment                       \n",
       "2021 negative                0.896639\n",
       "     positive                0.759042\n",
       "     uncertainty             0.694057\n",
       "     litigious               0.904958\n",
       "     constraining            0.674716\n",
       "     interesting             0.828336\n",
       "2020 negative                0.935128\n",
       "     positive                0.707089\n",
       "     uncertainty             0.743056\n",
       "     litigious               0.923211\n",
       "     constraining            0.781849\n",
       "     interesting             0.746832\n",
       "2019 negative                0.933791\n",
       "     positive                0.795152\n",
       "     uncertainty             0.810072\n",
       "     litigious               0.915592\n",
       "     constraining            0.826116\n",
       "     interesting             0.814977\n",
       "2018 negative                0.942224\n",
       "     positive                0.820990\n",
       "     uncertainty             0.783677\n",
       "     litigious               0.927178\n",
       "     constraining            0.758987\n",
       "     interesting             0.834477\n",
       "2017 negative                0.917308\n",
       "     positive                0.662946\n",
       "     uncertainty             0.757376\n",
       "     litigious               0.909367\n",
       "     constraining            0.782821\n",
       "     interesting             0.725528\n",
       "2016 negative                0.946341\n",
       "     positive                0.808532\n",
       "     uncertainty             0.821838\n",
       "     litigious               0.915222\n",
       "     constraining            0.814457\n",
       "     interesting             0.764219\n",
       "2015 negative                0.951009\n",
       "     positive                0.808472\n",
       "     uncertainty             0.852614\n",
       "     litigious               0.922752\n",
       "     constraining            0.794777\n",
       "     interesting             0.828283\n",
       "2014 negative                     NaN\n",
       "     positive                     NaN\n",
       "     uncertainty                  NaN\n",
       "     litigious                    NaN\n",
       "     constraining                 NaN\n",
       "     interesting                  NaN"
      ]
     },
     "execution_count": 2215,
     "metadata": {},
     "output_type": "execute_result"
    }
   ],
   "source": [
    "sentiments_sim_df"
   ]
  },
  {
   "cell_type": "markdown",
   "id": "isolated-packing",
   "metadata": {},
   "source": [
    "### sklearn TfidfVectorizer & cosine similarity"
   ]
  },
  {
   "cell_type": "code",
   "execution_count": 2238,
   "id": "assumed-spending",
   "metadata": {},
   "outputs": [],
   "source": [
    "def get_sentiment_tfidf(word_list,documents):\n",
    "    vec = TfidfVectorizer(vocabulary=word_list)\n",
    "    tfidf = vec.fit_transform(documents)\n",
    "    sk_tfidf = []\n",
    "    for i in range(len(documents)):\n",
    "        sk_tfidf.append(tfidf[i].reshape(1,-1))\n",
    "    return tfidf"
   ]
  },
  {
   "cell_type": "code",
   "execution_count": 2239,
   "id": "contained-dubai",
   "metadata": {},
   "outputs": [],
   "source": [
    "sentiments_sk_tfidf = {}\n",
    "for sentiment in sentiments:\n",
    "    sentiment_words = sentiment_df[sentiment_df[sentiment]]['word']\n",
    "    sentiments_sk_tfidf.update({sentiment:get_sentiment_tfidf(sentiment_words,documents_lines_list)})"
   ]
  },
  {
   "cell_type": "code",
   "execution_count": 2240,
   "id": "acquired-matrix",
   "metadata": {},
   "outputs": [],
   "source": [
    "for i,year in enumerate(year_list):\n",
    "    if i < (len(year_list)-1):\n",
    "        for sentiment in sentiments:\n",
    "            u = sentiments_sk_tfidf.get(sentiment)[i]\n",
    "            v = sentiments_sk_tfidf.get(sentiment)[i+1]\n",
    "            sentiments_sim_df.loc[(year,sentiment),'sklearn_cossine_score'] = cosine_similarity(u,v)[0][0]"
   ]
  },
  {
   "cell_type": "code",
   "execution_count": 2241,
   "id": "unnecessary-stick",
   "metadata": {},
   "outputs": [],
   "source": [
    "sentiments_sim_df_unstacked = sentiments_sim_df.query('year > 2014').unstack()"
   ]
  },
  {
   "cell_type": "code",
   "execution_count": 2242,
   "id": "agreed-maple",
   "metadata": {},
   "outputs": [],
   "source": [
    "sentiments_sim_df_unstacked['Close'] = historical_stock_prices.query('year > 2014')['Close']"
   ]
  },
  {
   "cell_type": "code",
   "execution_count": 2243,
   "id": "ambient-array",
   "metadata": {},
   "outputs": [],
   "source": [
    "sentiments_sim_df_unstacked['Close_diff'] = historical_stock_prices.query('year > 2014')['Close_diff']"
   ]
  },
  {
   "cell_type": "code",
   "execution_count": 2249,
   "id": "connected-income",
   "metadata": {},
   "outputs": [
    {
     "data": {
      "text/plain": [
       "<AxesSubplot:xlabel='year'>"
      ]
     },
     "execution_count": 2249,
     "metadata": {},
     "output_type": "execute_result"
    },
    {
     "data": {
      "image/png": "[encoded data removed]",
      "text/plain": [
       "<Figure size 1080x720 with 3 Axes>"
      ]
     },
     "metadata": {
      "needs_background": "light"
     },
     "output_type": "display_data"
    }
   ],
   "source": [
    "fig , ax = plt.subplots(3,1,figsize=(15,10))\n",
    "sentiments_sim_df_unstacked.loc[:,['sklearn_jacc_score']].plot(ax=ax[0],grid=True)\n",
    "sentiments_sim_df_unstacked.loc[:,['sklearn_cossine_score']].plot(ax = ax[1],grid=True)\n",
    "sentiments_sim_df_unstacked.loc[:,['Close_diff']].plot(ax = ax[2],grid=True)\n",
    "#plt.legend(loc='right',bbox_to_anchor=(1.25, 0.5)) "
   ]
  },
  {
   "cell_type": "markdown",
   "id": "statistical-hughes",
   "metadata": {},
   "source": [
    "<B> Differences in documents based of sentiments are not clearly indicative of the underlying stock price trend. \n",
    "But still more analysis needs to be done to find something more conclusive."
   ]
  },
  {
   "cell_type": "code",
   "execution_count": null,
   "id": "controversial-taiwan",
   "metadata": {},
   "outputs": [],
   "source": []
  }
 ],
 "metadata": {
  "kernelspec": {
   "display_name": "base",
   "language": "python",
   "name": "base"
  },
  "language_info": {
   "codemirror_mode": {
    "name": "ipython",
    "version": 3
   },
   "file_extension": ".py",
   "mimetype": "text/x-python",
   "name": "python",
   "nbconvert_exporter": "python",
   "pygments_lexer": "ipython3",
   "version": "3.8.3"
  },
  "toc-autonumbering": true,
  "toc-showmarkdowntxt": false,
  "toc-showtags": false
 },
 "nbformat": 4,
 "nbformat_minor": 5
}
