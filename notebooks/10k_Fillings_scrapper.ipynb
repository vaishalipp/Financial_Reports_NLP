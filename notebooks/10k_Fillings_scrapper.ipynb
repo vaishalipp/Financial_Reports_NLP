{
 "cells": [
  {
   "cell_type": "code",
   "execution_count": 1,
   "id": "hazardous-branch",
   "metadata": {},
   "outputs": [],
   "source": [
    "import matplotlib.pyplot as plt\n",
    "import requests\n",
    "from bs4 import BeautifulSoup\n",
    "import pandas as pd\n",
    "from tqdm import tqdm\n",
    "\n",
    "from ratelimit import limits, sleep_and_retry"
   ]
  },
  {
   "cell_type": "code",
   "execution_count": 2,
   "id": "entitled-victim",
   "metadata": {},
   "outputs": [],
   "source": [
    "import Edgar_scrapper"
   ]
  },
  {
   "cell_type": "code",
   "execution_count": 135,
   "id": "proof-judge",
   "metadata": {},
   "outputs": [],
   "source": [
    "import re"
   ]
  },
  {
   "cell_type": "code",
   "execution_count": 3,
   "id": "declared-directory",
   "metadata": {},
   "outputs": [],
   "source": [
    "edgar_access = Edgar_scrapper.EdgarAccess()"
   ]
  },
  {
   "cell_type": "code",
   "execution_count": 4,
   "id": "decreased-motivation",
   "metadata": {},
   "outputs": [],
   "source": [
    "url = \"https://data.sec.gov/submissions/CIK0001018724.json\"\n",
    "json_data = edgar_access.get(url,True)\n",
    "all_filings = json_data['filings']['recent']"
   ]
  },
  {
   "cell_type": "code",
   "execution_count": 7,
   "id": "square-frank",
   "metadata": {},
   "outputs": [],
   "source": [
    "def get_fillings(fillings_cik, doc_type, start=0, count=60):\n",
    "    fillings_url = 'https://www.sec.gov/cgi-bin/browse-edgar?action=getcompany&CIK={}\\\n",
    "            &type={}&start={}&count={}&owner=exclude&output=atom'.format(fillings_cik, doc_type, start, count)\n",
    "    fillings_html = edgar_access.get(fillings_url)\n",
    "    fillings_soup = BeautifulSoup(fillings_html, features=\"html.parser\")\n",
    "\n",
    "    fillings_list = [\n",
    "        (link.find('filing-href').getText(),\n",
    "         link.find('filing-type').getText(),\n",
    "         link.find('filing-date').getText())\n",
    "        for link in fillings_soup.find_all('entry')]\n",
    "\n",
    "    return fillings_list"
   ]
  },
  {
   "cell_type": "code",
   "execution_count": 105,
   "id": "average-breach",
   "metadata": {},
   "outputs": [],
   "source": [
    "ticker_ciks = pd.read_csv('tickers.csv')"
   ]
  },
  {
   "cell_type": "code",
   "execution_count": 187,
   "id": "hearing-spoke",
   "metadata": {},
   "outputs": [],
   "source": [
    "sample_ticker = pd.DataFrame(data={'ticker' : ['AMC'],'cik':[1411579]})"
   ]
  },
  {
   "cell_type": "code",
   "execution_count": 189,
   "id": "fatty-profit",
   "metadata": {},
   "outputs": [],
   "source": [
    "sec_fillings_indx = {}"
   ]
  },
  {
   "cell_type": "code",
   "execution_count": 190,
   "id": "tamil-madness",
   "metadata": {},
   "outputs": [],
   "source": [
    "for ticker, cik in sample_ticker[:1].values:\n",
    "    sec_fillings_indx[ticker] = get_fillings(cik, '10-K')"
   ]
  },
  {
   "cell_type": "code",
   "execution_count": 191,
   "id": "hungry-dating",
   "metadata": {},
   "outputs": [
    {
     "name": "stderr",
     "output_type": "stream",
     "text": [
      "Downloading AMC Fillings: 100%|██████████| 8/8 [00:01<00:00,  5.57filling/s]\n"
     ]
    }
   ],
   "source": [
    "sec_fillings = {}\n",
    "for ticker, data in sec_fillings_indx.items():\n",
    "    sec_fillings[ticker] = {}\n",
    "    for filing_href, filing_type, filing_date in tqdm(data, desc='Downloading {} Fillings'.format(ticker), unit='filling'):\n",
    "        if (filing_type == '10-K'):\n",
    "            #file_url = filing_href.replace('-index.htm', '.txt').replace('.txtl', '.txt')\n",
    "            sec_fillings[ticker][filing_date] = edgar_access.get(filing_href)"
   ]
  },
  {
   "cell_type": "code",
   "execution_count": 192,
   "id": "arranged-wagner",
   "metadata": {},
   "outputs": [],
   "source": [
    "annual_reports_df = pd.DataFrame(columns=['ticker','date','10k-link'])"
   ]
  },
  {
   "cell_type": "code",
   "execution_count": 193,
   "id": "adverse-spectrum",
   "metadata": {},
   "outputs": [],
   "source": [
    "for ticker in sec_fillings.keys():\n",
    "    for date in sec_fillings[ticker].keys():\n",
    "        fillings_links_soup = BeautifulSoup(sec_fillings[ticker][date], features=\"html.parser\")\n",
    "        for tr_tag in fillings_links_soup.find_all('tr'):\n",
    "            for td_tag in tr_tag.find_all('td'):\n",
    "                if(td_tag.text == '10-K'):\n",
    "                    href = tr_tag.find('a')[\"href\"]\n",
    "                    pattern = r\"^/\"\n",
    "                    complete_href = re.sub(pattern,\"https://www.sec.gov/\",href)\n",
    "                    annual_reports_df = annual_reports_df.append({'ticker':ticker,'date':date,'10k-link':complete_href},ignore_index=True)"
   ]
  },
  {
   "cell_type": "code",
   "execution_count": 195,
   "id": "concerned-fireplace",
   "metadata": {},
   "outputs": [
    {
     "data": {
      "text/plain": [
       "array([['AMC', '2021-03-12',\n",
       "        'https://www.sec.gov/ix?doc=/Archives/edgar/data/1411579/000141157921000006/amc-20201231x10k.htm'],\n",
       "       ['AMC', '2021-03-12',\n",
       "        'https://www.sec.gov/ix?doc=/Archives/edgar/data/1411579/000141157921000006/amc-20201231x10k.htm'],\n",
       "       ['AMC', '2020-02-28',\n",
       "        'https://www.sec.gov/ix?doc=/Archives/edgar/data/1411579/000141157920000027/amc-20191231x10k.htm'],\n",
       "       ['AMC', '2020-02-28',\n",
       "        'https://www.sec.gov/ix?doc=/Archives/edgar/data/1411579/000141157920000027/amc-20191231x10k.htm'],\n",
       "       ['AMC', '2018-03-01',\n",
       "        'https://www.sec.gov/Archives/edgar/data/1411579/000141157918000014/c579-20171231x10k.htm'],\n",
       "       ['AMC', '2018-03-01',\n",
       "        'https://www.sec.gov/Archives/edgar/data/1411579/000141157918000014/c579-20171231x10k.htm'],\n",
       "       ['AMC', '2017-03-10',\n",
       "        'https://www.sec.gov/Archives/edgar/data/1411579/000141157917000021/amc-20161231x10k.htm'],\n",
       "       ['AMC', '2017-03-10',\n",
       "        'https://www.sec.gov/Archives/edgar/data/1411579/000141157917000021/amc-20161231x10k.htm'],\n",
       "       ['AMC', '2015-03-10',\n",
       "        'https://www.sec.gov/Archives/edgar/data/1411579/000104746915001918/a2223294z10-k.htm'],\n",
       "       ['AMC', '2015-03-10',\n",
       "        'https://www.sec.gov/Archives/edgar/data/1411579/000104746915001918/a2223294z10-k.htm'],\n",
       "       ['AMC', '2014-03-04',\n",
       "        'https://www.sec.gov/Archives/edgar/data/1411579/000104746914001769/a2218535z10-k.htm'],\n",
       "       ['AMC', '2014-03-04',\n",
       "        'https://www.sec.gov/Archives/edgar/data/1411579/000104746914001769/a2218535z10-k.htm']],\n",
       "      dtype=object)"
      ]
     },
     "execution_count": 195,
     "metadata": {},
     "output_type": "execute_result"
    }
   ],
   "source": [
    "annual_reports_df.values"
   ]
  },
  {
   "cell_type": "code",
   "execution_count": 95,
   "id": "multiple-mandate",
   "metadata": {},
   "outputs": [
    {
     "name": "stdout",
     "output_type": "stream",
     "text": [
      "https://www.sec.gov//Archives/edgar/data/14272/000001427221000066/bmy-20201231.htm\n",
      "https://www.sec.gov//Archives/edgar/data/14272/000001427221000066/bmy-20201231.htm\n"
     ]
    }
   ],
   "source": [
    "for tr_tag in fillings_links_soup.find_all('tr'):\n",
    "    for td_tag in tr_tag.find_all('td'):\n",
    "        if(td_tag.text == '10-K'):\n",
    "          print(tr_tag.find('a')[\"href\"].replace(\"/ix?doc=\",\"https://www.sec.gov/\"))"
   ]
  },
  {
   "cell_type": "code",
   "execution_count": null,
   "id": "eligible-commercial",
   "metadata": {},
   "outputs": [],
   "source": []
  }
 ],
 "metadata": {
  "kernelspec": {
   "display_name": "Python 3",
   "language": "python",
   "name": "python3"
  },
  "language_info": {
   "codemirror_mode": {
    "name": "ipython",
    "version": 3
   },
   "file_extension": ".py",
   "mimetype": "text/x-python",
   "name": "python",
   "nbconvert_exporter": "python",
   "pygments_lexer": "ipython3",
   "version": "3.8.3"
  }
 },
 "nbformat": 4,
 "nbformat_minor": 5
}
